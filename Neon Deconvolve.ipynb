{
 "cells": [
  {
   "cell_type": "code",
   "execution_count": 1,
   "metadata": {},
   "outputs": [
    {
     "data": {
      "text/html": [
       "<script>\n",
       "code_show=true; \n",
       "function code_toggle() {\n",
       " if (code_show){\n",
       " $('div.input').hide();\n",
       " } else {\n",
       " $('div.input').show();\n",
       " }\n",
       " code_show = !code_show\n",
       "} \n",
       "$( document ).ready(code_toggle);\n",
       "</script>\n",
       "The raw code for this IPython notebook is by default hidden for easier reading.\n",
       "To toggle on/off the raw code, click <a href=\"javascript:code_toggle()\">here</a>."
      ],
      "text/plain": [
       "<IPython.core.display.HTML object>"
      ]
     },
     "execution_count": 1,
     "metadata": {},
     "output_type": "execute_result"
    }
   ],
   "source": [
    "import ipywidgets as widgets\n",
    "import numpy as np\n",
    "from IPython.display import HTML\n",
    "\n",
    "\n",
    "HTML('''<script>\n",
    "code_show=true; \n",
    "function code_toggle() {\n",
    " if (code_show){\n",
    " $('div.input').hide();\n",
    " } else {\n",
    " $('div.input').show();\n",
    " }\n",
    " code_show = !code_show\n",
    "} \n",
    "$( document ).ready(code_toggle);\n",
    "</script>\n",
    "The raw code for this IPython notebook is by default hidden for easier reading.\n",
    "To toggle on/off the raw code, click <a href=\"javascript:code_toggle()\">here</a>.''')"
   ]
  },
  {
   "cell_type": "code",
   "execution_count": 2,
   "metadata": {},
   "outputs": [],
   "source": [
    "system = widgets.Select(\n",
    "    options=['Nucleogenic/Cosmogenic/Air', 'Nucleogenic/Mantle/Air', 'Cosmogenic/Mantle/Air'],\n",
    "    value='Nucleogenic/Cosmogenic/Air',\n",
    "    rows=4,\n",
    "    description='Ternary System:',\n",
    "    style = {'description_width': 'initial'},\n",
    "    disabled=False\n",
    ")\n",
    "\n",
    "mineral = widgets.Select(\n",
    "    options=['quartz', 'pyroxene'],\n",
    "    value='quartz',\n",
    "    rows=3,\n",
    "    description='Mineral:',\n",
    "    style = {'description_width': 'initial'},\n",
    "    disabled=False\n",
    ")\n",
    "\n",
    "SysInputs = widgets.GridBox(children=[system, mineral],\n",
    "        layout=widgets.Layout(\n",
    "            width='100%',\n",
    "            grid_template_rows='auto auto auto',\n",
    "            grid_template_columns='50% 50%',\n",
    "            grid_template_areas='''\n",
    "            \"system mineral\"\n",
    "            '''\n",
    "        )\n",
    ")\n",
    "\n",
    "Ne20 = widgets.FloatText(\n",
    "    value=9048,\n",
    "    description='Neon-20',\n",
    "    disabled=False\n",
    ")\n",
    "\n",
    "Ne21 = widgets.FloatText(\n",
    "    value=27,\n",
    "    description='Neon-21',\n",
    "    disabled=False\n",
    ")\n",
    "\n",
    "Ne22 = widgets.FloatText(\n",
    "    value=925,\n",
    "    description='Neon-22',\n",
    "    disabled=False\n",
    ")\n",
    "\n",
    "NeInputs = widgets.GridBox(children=[Ne20, Ne21, Ne22],\n",
    "        layout=widgets.Layout(\n",
    "            width='100%',\n",
    "            grid_template_rows='auto auto auto',\n",
    "            grid_template_columns='33% 33% 33%',\n",
    "            grid_template_areas='''\n",
    "            \"Ne20 Ne21 Ne22\"\n",
    "            '''\n",
    "        )\n",
    ")"
   ]
  },
  {
   "cell_type": "code",
   "execution_count": 3,
   "metadata": {},
   "outputs": [],
   "source": [
    "def deconvolve(system):\n",
    "    \n",
    "    out = widgets.Output(layout={'border': '1px solid black'})\n",
    "    \n",
    "    with out:\n",
    "        print(system)\n",
    "        print(\"Input: (\",round(Ne20.value,5),\" Ne20) (\", round(Ne21.value,5),\" Ne21) (\", round(Ne22.value,5),\" Ne22)\")\n",
    "    \n",
    "    comp = []\n",
    "    comp_name = []\n",
    "    comp_option = []\n",
    "    neon_20_22_comp = []\n",
    "    neon_21_22_comp = []\n",
    "    neon_22_frac = []\n",
    "    neon_20_frac = []\n",
    "    neon_21_frac = []\n",
    "    neon_22_norm = []\n",
    "    neon_20_norm = []\n",
    "    neon_21_norm = []\n",
    "    neon_22_sig = []\n",
    "    neon_20_sig = []\n",
    "    neon_21_sig = []\n",
    "\n",
    "    if system == 'Nucleogenic/Cosmogenic/Air':\n",
    "        comp.append(0)\n",
    "        comp.append(1)\n",
    "        comp.append(2)\n",
    "        comp_name.append('Nucleogenic')\n",
    "        comp_name.append('Cosmogenic')\n",
    "        comp_name.append('Air')\n",
    "\n",
    "    elif system == 'Nucleogenic/Mantle/Air':\n",
    "        comp.append(0)\n",
    "        comp.append(3)\n",
    "        comp.append(2)\n",
    "        comp_name.append('Nucleogenic')\n",
    "        comp_name.append('Mantle')\n",
    "        comp_name.append('Air')\n",
    "\n",
    "    else:\n",
    "        comp.append(3)\n",
    "        comp.append(1)\n",
    "        comp.append(2)\n",
    "        comp_name.append('Cosmogenic')\n",
    "        comp_name.append('Mantle')\n",
    "        comp_name.append('Air')\n",
    "\n",
    "    #nucleogenic\n",
    "    comp_option.append([.99999,.000005,.000005])\n",
    "\n",
    "    #cosmogenic (Niedermann 2002)\n",
    "\n",
    "    if mineral == 'quartz':\n",
    "        #quartz\n",
    "        comp_option.append([0.4582741396,0.3666193117,0.1751065487])\n",
    "    else:\n",
    "        #pyroxene\n",
    "        comp_option.append([0.301659125188537,0.324283559577677,0.374057315233786])\n",
    "\n",
    "    #air\n",
    "    comp_option.append([.9048,.0027,.0925])\n",
    "    \n",
    "    for i in range(3):\n",
    "        comp[i] = comp_option[comp[i]]\n",
    "        neon_20_22_comp.append(comp[i][0]/comp[i][2])\n",
    "        neon_21_22_comp.append(comp[i][1]/comp[i][2])\n",
    "        \n",
    "    neon_20_22 = Ne20.value/Ne22.value\n",
    "    neon_21_22 = Ne21.value/Ne22.value\n",
    "\n",
    "    data_matrix = np.array([[neon_20_22], [neon_21_22], [1]])\n",
    "\n",
    "    model_matrix = np.array([[neon_20_22_comp[0], neon_20_22_comp[1], neon_20_22_comp[2]], [neon_21_22_comp[0], neon_21_22_comp[1],\n",
    "                                                                                      neon_21_22_comp[2]], [1, 1, 1]])    \n",
    "    inv_model = np.linalg.inv(model_matrix)\n",
    "    \n",
    "    results_matrix = np.matmul(inv_model, data_matrix)\n",
    "\n",
    "    for i in range(3):\n",
    "        neon_22_frac.append(results_matrix[i])\n",
    "        neon_22_norm.append(results_matrix[i]/sum(results_matrix))\n",
    "        neon_20_frac.append(neon_22_frac[i]*neon_20_22_comp[i])\n",
    "        neon_21_frac.append(neon_22_frac[i]*neon_21_22_comp[i])\n",
    "                            \n",
    "    for i in range(3):\n",
    "        neon_20_norm.append(neon_20_frac[i]/sum(neon_20_frac))\n",
    "        neon_21_norm.append(neon_21_frac[i]/sum(neon_21_frac))\n",
    "\n",
    "        neon_22_sig.append(Ne22.value*neon_22_norm[i])\n",
    "        neon_20_sig.append(Ne20.value*neon_20_norm[i])\n",
    "        neon_21_sig.append(Ne21.value*neon_21_norm[i])\n",
    "        with out:\n",
    "            print(comp_name[i],\": (\",round(neon_20_sig[i][0],5),\" Ne20) (\", round(neon_21_sig[i][0],5),\" Ne21) (\", round(neon_22_sig[i][0],5),\" Ne22)\")\n",
    "        #return neon_20_sig[i], neon_21_sig[i], neon_22_sig[i]\n",
    "\n",
    "    with out:\n",
    "        print(\" \")\n",
    "        \n",
    "    return out"
   ]
  },
  {
   "cell_type": "code",
   "execution_count": 4,
   "metadata": {},
   "outputs": [],
   "source": [
    "clicker = widgets.Button(\n",
    "    description='Calculate',\n",
    "    disabled=False,\n",
    "    tooltip='Calculate deconvolution',\n",
    "    icon='check'\n",
    ")\n",
    "\n",
    "def on_button_clicked(self):\n",
    "    out = deconvolve(system.value)\n",
    "    display(out)\n",
    "    \n",
    "clicker.on_click(on_button_clicked)"
   ]
  },
  {
   "cell_type": "code",
   "execution_count": 5,
   "metadata": {},
   "outputs": [
    {
     "data": {
      "application/vnd.jupyter.widget-view+json": {
       "model_id": "a9e7470d0410419fabdb3b35a4c2b515",
       "version_major": 2,
       "version_minor": 0
      },
      "text/plain": [
       "GridBox(children=(Select(description='Ternary System:', options=('Nucleogenic/Cosmogenic/Air', 'Nucleogenic/Ma…"
      ]
     },
     "metadata": {},
     "output_type": "display_data"
    },
    {
     "data": {
      "application/vnd.jupyter.widget-view+json": {
       "model_id": "2d96820824b14e829706039eda159cd0",
       "version_major": 2,
       "version_minor": 0
      },
      "text/plain": [
       "GridBox(children=(FloatText(value=9048.0, description='Neon-20'), FloatText(value=27.0, description='Neon-21')…"
      ]
     },
     "metadata": {},
     "output_type": "display_data"
    },
    {
     "data": {
      "application/vnd.jupyter.widget-view+json": {
       "model_id": "b96949cb24274d2b91411c2614d5367b",
       "version_major": 2,
       "version_minor": 0
      },
      "text/plain": [
       "Button(description='Calculate', icon='check', style=ButtonStyle(), tooltip='Calculate deconvolution')"
      ]
     },
     "metadata": {},
     "output_type": "display_data"
    }
   ],
   "source": [
    "display(SysInputs)\n",
    "display(NeInputs)\n",
    "display(clicker)"
   ]
  }
 ],
 "metadata": {
  "kernelspec": {
   "display_name": "Python 3",
   "language": "python",
   "name": "python3"
  },
  "language_info": {
   "codemirror_mode": {
    "name": "ipython",
    "version": 3
   },
   "file_extension": ".py",
   "mimetype": "text/x-python",
   "name": "python",
   "nbconvert_exporter": "python",
   "pygments_lexer": "ipython3",
   "version": "3.6.7"
  },
  "widgets": {
   "application/vnd.jupyter.widget-state+json": {
    "state": {
     "00f0c530eae446609be738dd7999463d": {
      "model_module": "@jupyter-widgets/controls",
      "model_module_version": "1.4.0",
      "model_name": "FloatTextModel",
      "state": {
       "description": "Neon-22",
       "layout": "IPY_MODEL_c831efb9981542ec8d74d00fa91c941e",
       "step": null,
       "style": "IPY_MODEL_ffd6e8c5d70843f9b93a36fda6fa9efa",
       "value": 925
      }
     },
     "01a4814ea5894dcc877cd2983e3672a9": {
      "model_module": "@jupyter-widgets/controls",
      "model_module_version": "1.4.0",
      "model_name": "GridBoxModel",
      "state": {
       "children": [
        "IPY_MODEL_1ee2079de6fa44a9882b09dc35ecb18c",
        "IPY_MODEL_1f1c34e6e89a4c58bacd04247e96b17f"
       ],
       "layout": "IPY_MODEL_ea46f3b84a284e4c859d1528b4693da2"
      }
     },
     "028ca253e9514e2ea1d53837ff81ecef": {
      "model_module": "@jupyter-widgets/base",
      "model_module_version": "1.1.0",
      "model_name": "LayoutModel",
      "state": {}
     },
     "0339423ea6634c4ea0f17e0a86126b91": {
      "model_module": "@jupyter-widgets/output",
      "model_module_version": "1.0.0",
      "model_name": "OutputModel",
      "state": {
       "layout": "IPY_MODEL_ccd160f778f045bd86758b9ec0c21043",
       "outputs": [
        {
         "data": {
          "text/plain": "'Nucleogenic'"
         },
         "metadata": {},
         "output_type": "display_data"
        },
        {
         "data": {
          "text/plain": "': ('"
         },
         "metadata": {},
         "output_type": "display_data"
        },
        {
         "data": {
          "text/plain": "-0.0"
         },
         "metadata": {},
         "output_type": "display_data"
        },
        {
         "data": {
          "text/plain": "' Ne20) ('"
         },
         "metadata": {},
         "output_type": "display_data"
        },
        {
         "data": {
          "text/plain": "-0.0"
         },
         "metadata": {},
         "output_type": "display_data"
        },
        {
         "data": {
          "text/plain": "' Ne21) ('"
         },
         "metadata": {},
         "output_type": "display_data"
        },
        {
         "data": {
          "text/plain": "-0.0"
         },
         "metadata": {},
         "output_type": "display_data"
        },
        {
         "data": {
          "text/plain": "' Ne22)'"
         },
         "metadata": {},
         "output_type": "display_data"
        },
        {
         "data": {
          "text/plain": "'Cosmogenic'"
         },
         "metadata": {},
         "output_type": "display_data"
        },
        {
         "data": {
          "text/plain": "': ('"
         },
         "metadata": {},
         "output_type": "display_data"
        },
        {
         "data": {
          "text/plain": "-0.0"
         },
         "metadata": {},
         "output_type": "display_data"
        },
        {
         "data": {
          "text/plain": "' Ne20) ('"
         },
         "metadata": {},
         "output_type": "display_data"
        },
        {
         "data": {
          "text/plain": "-0.0"
         },
         "metadata": {},
         "output_type": "display_data"
        },
        {
         "data": {
          "text/plain": "' Ne21) ('"
         },
         "metadata": {},
         "output_type": "display_data"
        },
        {
         "data": {
          "text/plain": "-0.0"
         },
         "metadata": {},
         "output_type": "display_data"
        },
        {
         "data": {
          "text/plain": "' Ne22)'"
         },
         "metadata": {},
         "output_type": "display_data"
        },
        {
         "data": {
          "text/plain": "'Air'"
         },
         "metadata": {},
         "output_type": "display_data"
        },
        {
         "data": {
          "text/plain": "': ('"
         },
         "metadata": {},
         "output_type": "display_data"
        },
        {
         "data": {
          "text/plain": "9048.0"
         },
         "metadata": {},
         "output_type": "display_data"
        },
        {
         "data": {
          "text/plain": "' Ne20) ('"
         },
         "metadata": {},
         "output_type": "display_data"
        },
        {
         "data": {
          "text/plain": "27.0"
         },
         "metadata": {},
         "output_type": "display_data"
        },
        {
         "data": {
          "text/plain": "' Ne21) ('"
         },
         "metadata": {},
         "output_type": "display_data"
        },
        {
         "data": {
          "text/plain": "925.0"
         },
         "metadata": {},
         "output_type": "display_data"
        },
        {
         "data": {
          "text/plain": "' Ne22)'"
         },
         "metadata": {},
         "output_type": "display_data"
        },
        {
         "data": {
          "text/plain": "'Nucleogenic'"
         },
         "metadata": {},
         "output_type": "display_data"
        },
        {
         "data": {
          "text/plain": "': ('"
         },
         "metadata": {},
         "output_type": "display_data"
        },
        {
         "data": {
          "text/plain": "-0.0"
         },
         "metadata": {},
         "output_type": "display_data"
        },
        {
         "data": {
          "text/plain": "' Ne20) ('"
         },
         "metadata": {},
         "output_type": "display_data"
        },
        {
         "data": {
          "text/plain": "-0.0"
         },
         "metadata": {},
         "output_type": "display_data"
        },
        {
         "data": {
          "text/plain": "' Ne21) ('"
         },
         "metadata": {},
         "output_type": "display_data"
        },
        {
         "data": {
          "text/plain": "-0.0"
         },
         "metadata": {},
         "output_type": "display_data"
        },
        {
         "data": {
          "text/plain": "' Ne22)'"
         },
         "metadata": {},
         "output_type": "display_data"
        },
        {
         "data": {
          "text/plain": "'Cosmogenic'"
         },
         "metadata": {},
         "output_type": "display_data"
        },
        {
         "data": {
          "text/plain": "': ('"
         },
         "metadata": {},
         "output_type": "display_data"
        },
        {
         "data": {
          "text/plain": "-0.0"
         },
         "metadata": {},
         "output_type": "display_data"
        },
        {
         "data": {
          "text/plain": "' Ne20) ('"
         },
         "metadata": {},
         "output_type": "display_data"
        },
        {
         "data": {
          "text/plain": "-0.0"
         },
         "metadata": {},
         "output_type": "display_data"
        },
        {
         "data": {
          "text/plain": "' Ne21) ('"
         },
         "metadata": {},
         "output_type": "display_data"
        },
        {
         "data": {
          "text/plain": "-0.0"
         },
         "metadata": {},
         "output_type": "display_data"
        },
        {
         "data": {
          "text/plain": "' Ne22)'"
         },
         "metadata": {},
         "output_type": "display_data"
        },
        {
         "data": {
          "text/plain": "'Air'"
         },
         "metadata": {},
         "output_type": "display_data"
        },
        {
         "data": {
          "text/plain": "': ('"
         },
         "metadata": {},
         "output_type": "display_data"
        },
        {
         "data": {
          "text/plain": "9048.0"
         },
         "metadata": {},
         "output_type": "display_data"
        },
        {
         "data": {
          "text/plain": "' Ne20) ('"
         },
         "metadata": {},
         "output_type": "display_data"
        },
        {
         "data": {
          "text/plain": "27.0"
         },
         "metadata": {},
         "output_type": "display_data"
        },
        {
         "data": {
          "text/plain": "' Ne21) ('"
         },
         "metadata": {},
         "output_type": "display_data"
        },
        {
         "data": {
          "text/plain": "925.0"
         },
         "metadata": {},
         "output_type": "display_data"
        },
        {
         "data": {
          "text/plain": "' Ne22)'"
         },
         "metadata": {},
         "output_type": "display_data"
        }
       ]
      }
     },
     "04318ab41e28494b819e2b1fb993f134": {
      "model_module": "@jupyter-widgets/base",
      "model_module_version": "1.1.0",
      "model_name": "LayoutModel",
      "state": {
       "grid_template_areas": "\n            \"Ne20 Ne21 Ne22\"\n            ",
       "grid_template_columns": "33% 33% 33%",
       "grid_template_rows": "auto auto auto",
       "width": "100%"
      }
     },
     "055bfaf9868a4c54a3ce801d99beadca": {
      "model_module": "@jupyter-widgets/output",
      "model_module_version": "1.0.0",
      "model_name": "OutputModel",
      "state": {
       "layout": "IPY_MODEL_6e76b8f1a9344450a4af05e67d3cf962",
       "outputs": [
        {
         "name": "stdout",
         "output_type": "stream",
         "text": "Nucleogenic : ( 289.2628  Ne20) ( 0.00145  Ne21) ( 0.00145  Ne22)\nCosmogenic : ( 25.99004  Ne20) ( 27.93929  Ne21) ( 32.22765  Ne22)\nAir : ( 8732.74716  Ne20) ( 26.05926  Ne21) ( 892.7709  Ne22)\n"
        }
       ]
      }
     },
     "05e329a369d8458c99e028bb8c5d4802": {
      "model_module": "@jupyter-widgets/controls",
      "model_module_version": "1.4.0",
      "model_name": "ButtonStyleModel",
      "state": {}
     },
     "068ea7810b3341628bd2e92f72cd3662": {
      "model_module": "@jupyter-widgets/controls",
      "model_module_version": "1.4.0",
      "model_name": "DescriptionStyleModel",
      "state": {
       "description_width": "initial"
      }
     },
     "06db1e0a66ba4f0d809237337ddd3e29": {
      "model_module": "@jupyter-widgets/base",
      "model_module_version": "1.1.0",
      "model_name": "LayoutModel",
      "state": {}
     },
     "07597ae746d24960a7b10aa2edbf946a": {
      "model_module": "@jupyter-widgets/controls",
      "model_module_version": "1.4.0",
      "model_name": "GridBoxModel",
      "state": {
       "children": [
        "IPY_MODEL_bbead5b8702b4be6b418ab8fc8f55890",
        "IPY_MODEL_786ff7d9e7eb4e98b74ac7e50f1db86c"
       ],
       "layout": "IPY_MODEL_468f3417632d43fda72ec508afd106d4"
      }
     },
     "077fea851e9e47f7859202a346a34ac2": {
      "model_module": "@jupyter-widgets/base",
      "model_module_version": "1.1.0",
      "model_name": "LayoutModel",
      "state": {}
     },
     "07b9f4736d2e40be94e14ee0f072d6f7": {
      "model_module": "@jupyter-widgets/base",
      "model_module_version": "1.1.0",
      "model_name": "LayoutModel",
      "state": {}
     },
     "08865ecd192d45a4ae7a3514122375c4": {
      "model_module": "@jupyter-widgets/base",
      "model_module_version": "1.1.0",
      "model_name": "LayoutModel",
      "state": {
       "grid_template_areas": "\n            \"system mineral\"\n            ",
       "grid_template_columns": "50% 50%",
       "grid_template_rows": "auto auto auto",
       "width": "100%"
      }
     },
     "093f290fbec44b36a2737b5ce4367e91": {
      "model_module": "@jupyter-widgets/controls",
      "model_module_version": "1.4.0",
      "model_name": "ButtonStyleModel",
      "state": {}
     },
     "09509510364c4dd593e692559333eca3": {
      "model_module": "@jupyter-widgets/controls",
      "model_module_version": "1.4.0",
      "model_name": "ButtonStyleModel",
      "state": {}
     },
     "09822a8b54cb42ff98eb78002d602cec": {
      "model_module": "@jupyter-widgets/base",
      "model_module_version": "1.1.0",
      "model_name": "LayoutModel",
      "state": {
       "border": "1px solid black"
      }
     },
     "0a431c03530b471d853043583a3f17ff": {
      "model_module": "@jupyter-widgets/base",
      "model_module_version": "1.1.0",
      "model_name": "LayoutModel",
      "state": {}
     },
     "0b41f00f7337422b98fa435dd0c3e20d": {
      "model_module": "@jupyter-widgets/controls",
      "model_module_version": "1.4.0",
      "model_name": "DescriptionStyleModel",
      "state": {
       "description_width": ""
      }
     },
     "0b497c3a39ab4a3d8eb425a2557736d2": {
      "model_module": "@jupyter-widgets/controls",
      "model_module_version": "1.4.0",
      "model_name": "FloatTextModel",
      "state": {
       "description": "Neon-22",
       "layout": "IPY_MODEL_7dad65f8eb124c44a2df8eed711023d1",
       "step": null,
       "style": "IPY_MODEL_9712397214d84985a2000b5c57d32d87",
       "value": 925
      }
     },
     "0b585cec88e14ef2bd4b60ad585aa07f": {
      "model_module": "@jupyter-widgets/controls",
      "model_module_version": "1.4.0",
      "model_name": "FloatTextModel",
      "state": {
       "description": "Neon-21",
       "layout": "IPY_MODEL_635d28429ec64281a5bec1b5d681dcff",
       "step": null,
       "style": "IPY_MODEL_e0753ba4020b43d99470375694af05b3",
       "value": 27
      }
     },
     "0b7d23e222d44514b558ac8ef8036a77": {
      "model_module": "@jupyter-widgets/output",
      "model_module_version": "1.0.0",
      "model_name": "OutputModel",
      "state": {
       "layout": "IPY_MODEL_6eb440ce94a7457a9189a7de490b4c0c",
       "outputs": [
        {
         "name": "stdout",
         "output_type": "stream",
         "text": "Nucleogenic : ( 289.2628  Ne20) ( 0.00145  Ne21) ( 0.00145  Ne22)\nCosmogenic : ( 25.99004  Ne20) ( 27.93929  Ne21) ( 32.22765  Ne22)\nAir : ( 8732.74716  Ne20) ( 26.05926  Ne21) ( 892.7709  Ne22)\n"
        }
       ]
      }
     },
     "0b83fb9b901f4e788fc37b789ff9dd31": {
      "model_module": "@jupyter-widgets/controls",
      "model_module_version": "1.4.0",
      "model_name": "DescriptionStyleModel",
      "state": {
       "description_width": "initial"
      }
     },
     "0b8f73189f2d472da91f09606c6a71e1": {
      "model_module": "@jupyter-widgets/controls",
      "model_module_version": "1.4.0",
      "model_name": "FloatTextModel",
      "state": {
       "description": "Neon-20",
       "layout": "IPY_MODEL_211c3434059d4baf8d025313906d2158",
       "step": null,
       "style": "IPY_MODEL_7022ebf1b6394b7d89860c0289bcad2c",
       "value": 9048
      }
     },
     "0b9795d9f4e84d25aae1277dbfeed13f": {
      "model_module": "@jupyter-widgets/base",
      "model_module_version": "1.1.0",
      "model_name": "LayoutModel",
      "state": {}
     },
     "0c9347b6abc743cc8ef9e2336b1a70b1": {
      "model_module": "@jupyter-widgets/controls",
      "model_module_version": "1.4.0",
      "model_name": "DescriptionStyleModel",
      "state": {
       "description_width": ""
      }
     },
     "0ca2db5a52654c9ba9d7021edb3c0ae5": {
      "model_module": "@jupyter-widgets/output",
      "model_module_version": "1.0.0",
      "model_name": "OutputModel",
      "state": {
       "layout": "IPY_MODEL_9b3d23acb7604d18a28c80724a389597",
       "outputs": [
        {
         "name": "stdout",
         "output_type": "stream",
         "text": "Nucleogenic : ( -0.0  Ne20) ( -0.0  Ne21) ( -0.0  Ne22)\nCosmogenic : ( -0.0  Ne20) ( -0.0  Ne21) ( -0.0  Ne22)\nAir : ( 9048.0  Ne20) ( 27.0  Ne21) ( 925.0  Ne22)\n"
        }
       ]
      }
     },
     "0d717181ee974dab8f91d6293c1c1e6a": {
      "model_module": "@jupyter-widgets/base",
      "model_module_version": "1.1.0",
      "model_name": "LayoutModel",
      "state": {}
     },
     "0d76f5e1ceb8405c8312e848fe8a4b78": {
      "model_module": "@jupyter-widgets/controls",
      "model_module_version": "1.4.0",
      "model_name": "GridBoxModel",
      "state": {
       "children": [
        "IPY_MODEL_f1653c26357f4a038d3596508949c4fd",
        "IPY_MODEL_a64bea9816484ef48c658f26c1b50966",
        "IPY_MODEL_66ba57c0bbf4478687fad280661273ca"
       ],
       "layout": "IPY_MODEL_0f24c732c1c44637a101d9c972051414"
      }
     },
     "0f24c732c1c44637a101d9c972051414": {
      "model_module": "@jupyter-widgets/base",
      "model_module_version": "1.1.0",
      "model_name": "LayoutModel",
      "state": {
       "grid_template_areas": "\n            \"Ne20 Ne21 Ne22\"\n            ",
       "grid_template_columns": "33% 33% 33%",
       "grid_template_rows": "auto auto auto",
       "width": "100%"
      }
     },
     "0f34fd0e6a664a45b5ad53b50b4f327c": {
      "model_module": "@jupyter-widgets/base",
      "model_module_version": "1.1.0",
      "model_name": "LayoutModel",
      "state": {}
     },
     "0f6b1fc2d64a424e8a627c90d84736f7": {
      "model_module": "@jupyter-widgets/base",
      "model_module_version": "1.1.0",
      "model_name": "LayoutModel",
      "state": {
       "grid_template_areas": "\n            \"Ne20 Ne21 Ne22\"\n            ",
       "grid_template_columns": "33% 33% 33%",
       "grid_template_rows": "auto auto auto",
       "width": "100%"
      }
     },
     "0fa2b0bea54e45d49a71ebcd8fd3a502": {
      "model_module": "@jupyter-widgets/controls",
      "model_module_version": "1.4.0",
      "model_name": "SelectModel",
      "state": {
       "_options_labels": [
        "quartz",
        "pyroxene"
       ],
       "description": "Mineral:",
       "index": 0,
       "layout": "IPY_MODEL_fa96e3ac6e1c4135a9f7843c3830b6e5",
       "rows": 3,
       "style": "IPY_MODEL_2de08b5697db4ad294ea33122839fd9a"
      }
     },
     "0fd7c1997d454095a8ef7c6956f2c0b2": {
      "model_module": "@jupyter-widgets/base",
      "model_module_version": "1.1.0",
      "model_name": "LayoutModel",
      "state": {}
     },
     "0fde1c7f419a499db454957b3071b8cb": {
      "model_module": "@jupyter-widgets/controls",
      "model_module_version": "1.4.0",
      "model_name": "FloatTextModel",
      "state": {
       "description": "Neon-20",
       "layout": "IPY_MODEL_ffddb824de1e4327b0ced5e1be84f36b",
       "step": null,
       "style": "IPY_MODEL_d26c7a0dbc8445108f372386a9151204",
       "value": 9048
      }
     },
     "1079183a63a1442aac648b535fb8d185": {
      "model_module": "@jupyter-widgets/base",
      "model_module_version": "1.1.0",
      "model_name": "LayoutModel",
      "state": {}
     },
     "10cb6e3778834c36bb27a1743d48191e": {
      "model_module": "@jupyter-widgets/controls",
      "model_module_version": "1.4.0",
      "model_name": "DescriptionStyleModel",
      "state": {
       "description_width": ""
      }
     },
     "113ad0c3b5524bd18115f797e8fd24d7": {
      "model_module": "@jupyter-widgets/controls",
      "model_module_version": "1.4.0",
      "model_name": "ButtonStyleModel",
      "state": {}
     },
     "115d73523f1747fb833f4c87579af3b3": {
      "model_module": "@jupyter-widgets/controls",
      "model_module_version": "1.4.0",
      "model_name": "ButtonStyleModel",
      "state": {}
     },
     "116f11c2aaa24dceae6aa786139538fe": {
      "model_module": "@jupyter-widgets/base",
      "model_module_version": "1.1.0",
      "model_name": "LayoutModel",
      "state": {}
     },
     "118efff17fad45789e15c23d8fc70328": {
      "model_module": "@jupyter-widgets/base",
      "model_module_version": "1.1.0",
      "model_name": "LayoutModel",
      "state": {}
     },
     "118ff23d37ba45448cebde1baeb50032": {
      "model_module": "@jupyter-widgets/base",
      "model_module_version": "1.1.0",
      "model_name": "LayoutModel",
      "state": {}
     },
     "1415c1d3acf349ceb77e54cf6a46c61e": {
      "model_module": "@jupyter-widgets/controls",
      "model_module_version": "1.4.0",
      "model_name": "GridBoxModel",
      "state": {
       "children": [
        "IPY_MODEL_87c73f601e464a38b246e5361d257b53",
        "IPY_MODEL_f9e0057ff50648a8a18296b7497759ec",
        "IPY_MODEL_b1d2b8c8310643f7a0fe790a545ddc6f"
       ],
       "layout": "IPY_MODEL_20a9886892ca438db02e9a2b5c894feb"
      }
     },
     "149bf9f4897447aba771407e16269191": {
      "model_module": "@jupyter-widgets/output",
      "model_module_version": "1.0.0",
      "model_name": "OutputModel",
      "state": {
       "layout": "IPY_MODEL_2d599f27fe424e28b079f9df6de7e92f",
       "outputs": [
        {
         "name": "stdout",
         "output_type": "stream",
         "text": "Nucleogenic : ( 289.2628  Ne20) ( 0.00145  Ne21) ( 0.00145  Ne22)\nCosmogenic : ( 25.99004  Ne20) ( 27.93929  Ne21) ( 32.22765  Ne22)\nAir : ( 8732.74716  Ne20) ( 26.05926  Ne21) ( 892.7709  Ne22)\n"
        }
       ]
      }
     },
     "160b99c177ff43b6b559f14fa66c232c": {
      "model_module": "@jupyter-widgets/controls",
      "model_module_version": "1.4.0",
      "model_name": "SelectModel",
      "state": {
       "_options_labels": [
        "Nucleogenic/Cosmogenic/Air",
        "Nucleogenic/Mantle/Air",
        "Cosmogenic/Mantle/Air"
       ],
       "description": "Ternary System:",
       "index": 0,
       "layout": "IPY_MODEL_e63860ba822b4763bb4c5b2f58900e83",
       "rows": 4,
       "style": "IPY_MODEL_86246d205c2c4d719fef7ae3a51be977"
      }
     },
     "1624ccd45ff346ff97c2a5071574dabf": {
      "model_module": "@jupyter-widgets/controls",
      "model_module_version": "1.4.0",
      "model_name": "DescriptionStyleModel",
      "state": {
       "description_width": "initial"
      }
     },
     "16426f6701c048c88b4b3803ecfc4af2": {
      "model_module": "@jupyter-widgets/controls",
      "model_module_version": "1.4.0",
      "model_name": "ButtonStyleModel",
      "state": {}
     },
     "175e52b2ec38432093b74ef01578a84c": {
      "model_module": "@jupyter-widgets/base",
      "model_module_version": "1.1.0",
      "model_name": "LayoutModel",
      "state": {
       "border": "1px solid black"
      }
     },
     "17e24f95d85442089f784ccdc12da46e": {
      "model_module": "@jupyter-widgets/controls",
      "model_module_version": "1.4.0",
      "model_name": "SelectModel",
      "state": {
       "_options_labels": [
        "Nucleogenic/Cosmogenic/Air",
        "Nucleogenic/Mantle/Air",
        "Cosmogenic/Mantle/Air"
       ],
       "description": "Ternary System:",
       "index": 0,
       "layout": "IPY_MODEL_918f855b774148fdaea9cfbeda1469e4",
       "rows": 4,
       "style": "IPY_MODEL_d91dcec857ad485eab4507915a852978"
      }
     },
     "182a53470fda4989a4104b95b426aff0": {
      "model_module": "@jupyter-widgets/controls",
      "model_module_version": "1.4.0",
      "model_name": "ButtonModel",
      "state": {
       "description": "Calculate",
       "icon": "check",
       "layout": "IPY_MODEL_562be309317e4abfaacbc22e0b422874",
       "style": "IPY_MODEL_113ad0c3b5524bd18115f797e8fd24d7",
       "tooltip": "Calculate deconvolution"
      }
     },
     "194248c74b36477697e555f657fece14": {
      "model_module": "@jupyter-widgets/controls",
      "model_module_version": "1.4.0",
      "model_name": "FloatTextModel",
      "state": {
       "description": "Neon-21",
       "layout": "IPY_MODEL_5edf25c52229414a80dc7e5e37093851",
       "step": null,
       "style": "IPY_MODEL_0b41f00f7337422b98fa435dd0c3e20d",
       "value": 27
      }
     },
     "1a1d06df770f41699b3f127794d034a2": {
      "model_module": "@jupyter-widgets/base",
      "model_module_version": "1.1.0",
      "model_name": "LayoutModel",
      "state": {}
     },
     "1a35cb96d5cc4678b919402f3d098b64": {
      "model_module": "@jupyter-widgets/controls",
      "model_module_version": "1.4.0",
      "model_name": "DescriptionStyleModel",
      "state": {
       "description_width": ""
      }
     },
     "1b55ed0aa8ee449c87639b5a1bac57db": {
      "model_module": "@jupyter-widgets/base",
      "model_module_version": "1.1.0",
      "model_name": "LayoutModel",
      "state": {
       "border": "1px solid black"
      }
     },
     "1ba6e036caf84ed6a93c2a9859cc5efb": {
      "model_module": "@jupyter-widgets/controls",
      "model_module_version": "1.4.0",
      "model_name": "DescriptionStyleModel",
      "state": {
       "description_width": "initial"
      }
     },
     "1ca3c2e320ed42c7848cbc619274e6c3": {
      "model_module": "@jupyter-widgets/controls",
      "model_module_version": "1.4.0",
      "model_name": "DescriptionStyleModel",
      "state": {
       "description_width": ""
      }
     },
     "1d845d2829e84322801146b66d8de2ce": {
      "model_module": "@jupyter-widgets/controls",
      "model_module_version": "1.4.0",
      "model_name": "SelectModel",
      "state": {
       "_options_labels": [
        "quartz",
        "pyroxene"
       ],
       "description": "Mineral:",
       "index": 0,
       "layout": "IPY_MODEL_942f0d7c340b4c65acd9e33c25f7c1bf",
       "rows": 3,
       "style": "IPY_MODEL_9000a15dcea14decbcd224d88ad4242a"
      }
     },
     "1dca655deaa849daa6429f3e20c34432": {
      "model_module": "@jupyter-widgets/controls",
      "model_module_version": "1.4.0",
      "model_name": "ButtonStyleModel",
      "state": {}
     },
     "1df2d2c5bb154751a0e6f5d8a7c9b0a9": {
      "model_module": "@jupyter-widgets/controls",
      "model_module_version": "1.4.0",
      "model_name": "GridBoxModel",
      "state": {
       "children": [
        "IPY_MODEL_d4b438d049964ff49e19fd4a176175ea",
        "IPY_MODEL_7629a80326764b7ca25fee6e11405945",
        "IPY_MODEL_7c15abd93af9456481767c064f7d453e"
       ],
       "layout": "IPY_MODEL_a8e70731f8814c46bd24634a66bb4af6"
      }
     },
     "1ee2079de6fa44a9882b09dc35ecb18c": {
      "model_module": "@jupyter-widgets/controls",
      "model_module_version": "1.4.0",
      "model_name": "SelectModel",
      "state": {
       "_options_labels": [
        "Nucleogenic/Cosmogenic/Air",
        "Nucleogenic/Mantle/Air",
        "Cosmogenic/Mantle/Air"
       ],
       "description": "Ternary System:",
       "index": 0,
       "layout": "IPY_MODEL_f2f8868fc38b41c0a2e2bab41dd06d88",
       "rows": 4,
       "style": "IPY_MODEL_c83869939c614fb79b7132c08c48c7ab"
      }
     },
     "1f1c34e6e89a4c58bacd04247e96b17f": {
      "model_module": "@jupyter-widgets/controls",
      "model_module_version": "1.4.0",
      "model_name": "SelectModel",
      "state": {
       "_options_labels": [
        "quartz",
        "pyroxene"
       ],
       "description": "Mineral:",
       "index": 0,
       "layout": "IPY_MODEL_d8d01a8ba7d94c0297a53d8d6e1992a7",
       "rows": 3,
       "style": "IPY_MODEL_068ea7810b3341628bd2e92f72cd3662"
      }
     },
     "20148b19b9ce4d7bb024d7bb500937a9": {
      "model_module": "@jupyter-widgets/controls",
      "model_module_version": "1.4.0",
      "model_name": "FloatTextModel",
      "state": {
       "description": "Neon-20",
       "layout": "IPY_MODEL_c4ecbed0970a45e5892d21c0413cb3ad",
       "step": null,
       "style": "IPY_MODEL_4a762de6d7c4477689a4ea4fbdb0d8ea",
       "value": 9048
      }
     },
     "20a9886892ca438db02e9a2b5c894feb": {
      "model_module": "@jupyter-widgets/base",
      "model_module_version": "1.1.0",
      "model_name": "LayoutModel",
      "state": {
       "grid_template_areas": "\n            \"Ne20 Ne21 Ne22\"\n            ",
       "grid_template_columns": "33% 33% 33%",
       "grid_template_rows": "auto auto auto",
       "width": "100%"
      }
     },
     "211c3434059d4baf8d025313906d2158": {
      "model_module": "@jupyter-widgets/base",
      "model_module_version": "1.1.0",
      "model_name": "LayoutModel",
      "state": {}
     },
     "21e9b9ffa81a402fb35ca3640d3024ff": {
      "model_module": "@jupyter-widgets/base",
      "model_module_version": "1.1.0",
      "model_name": "LayoutModel",
      "state": {
       "grid_template_areas": "\n            \"Ne20 Ne21 Ne22\"\n            ",
       "grid_template_columns": "33% 33% 33%",
       "grid_template_rows": "auto auto auto",
       "width": "100%"
      }
     },
     "2254fdcf07c345c596603ea1f5badaed": {
      "model_module": "@jupyter-widgets/base",
      "model_module_version": "1.1.0",
      "model_name": "LayoutModel",
      "state": {}
     },
     "25801480ad334e0ba00566a48ee81656": {
      "model_module": "@jupyter-widgets/base",
      "model_module_version": "1.1.0",
      "model_name": "LayoutModel",
      "state": {}
     },
     "259bb1ff10464fa6aad2491aee648bbd": {
      "model_module": "@jupyter-widgets/base",
      "model_module_version": "1.1.0",
      "model_name": "LayoutModel",
      "state": {
       "border": "1px solid black"
      }
     },
     "25d455b348c34a068a023a7e40c8488e": {
      "model_module": "@jupyter-widgets/controls",
      "model_module_version": "1.4.0",
      "model_name": "ButtonStyleModel",
      "state": {}
     },
     "2606db5f6887464481ac71fe611cc835": {
      "model_module": "@jupyter-widgets/controls",
      "model_module_version": "1.4.0",
      "model_name": "DescriptionStyleModel",
      "state": {
       "description_width": ""
      }
     },
     "266283b1d6f24659a55fb8a3ec469766": {
      "model_module": "@jupyter-widgets/controls",
      "model_module_version": "1.4.0",
      "model_name": "DescriptionStyleModel",
      "state": {
       "description_width": "initial"
      }
     },
     "266e6959b3244886b4d24a25e2deb91b": {
      "model_module": "@jupyter-widgets/controls",
      "model_module_version": "1.4.0",
      "model_name": "ButtonStyleModel",
      "state": {}
     },
     "2692d493cfaa48fd9e4acf07dc473bef": {
      "model_module": "@jupyter-widgets/base",
      "model_module_version": "1.1.0",
      "model_name": "LayoutModel",
      "state": {}
     },
     "2738443be43b4aa0b994f2f323e39aeb": {
      "model_module": "@jupyter-widgets/controls",
      "model_module_version": "1.4.0",
      "model_name": "DescriptionStyleModel",
      "state": {
       "description_width": "initial"
      }
     },
     "281eada5a03e4ec190946bcbe52ba631": {
      "model_module": "@jupyter-widgets/base",
      "model_module_version": "1.1.0",
      "model_name": "LayoutModel",
      "state": {
       "grid_template_areas": "\n            \"system mineral\"\n            ",
       "grid_template_columns": "50% 50%",
       "grid_template_rows": "auto auto auto",
       "width": "100%"
      }
     },
     "28320164872d432dbd1cc5ceecfc2c1c": {
      "model_module": "@jupyter-widgets/controls",
      "model_module_version": "1.4.0",
      "model_name": "ButtonStyleModel",
      "state": {}
     },
     "285e82b7e3a241fe838c2d506805c3b8": {
      "model_module": "@jupyter-widgets/base",
      "model_module_version": "1.1.0",
      "model_name": "LayoutModel",
      "state": {}
     },
     "29d6b03ddc6941e5b82ea3c8288fc3fc": {
      "model_module": "@jupyter-widgets/output",
      "model_module_version": "1.0.0",
      "model_name": "OutputModel",
      "state": {
       "layout": "IPY_MODEL_a64e1a9e30d540eeb0eb144ced2947c4"
      }
     },
     "2a5b79780d554d0aa2ce4e5caff561f7": {
      "model_module": "@jupyter-widgets/base",
      "model_module_version": "1.1.0",
      "model_name": "LayoutModel",
      "state": {
       "grid_template_areas": "\n            \"Ne20 Ne21 Ne22\"\n            ",
       "grid_template_columns": "33% 33% 33%",
       "grid_template_rows": "auto auto auto",
       "width": "100%"
      }
     },
     "2b898086d63641d7a243949581f1dd14": {
      "model_module": "@jupyter-widgets/base",
      "model_module_version": "1.1.0",
      "model_name": "LayoutModel",
      "state": {}
     },
     "2c129eda3af344078ba1f0fada8555e3": {
      "model_module": "@jupyter-widgets/controls",
      "model_module_version": "1.4.0",
      "model_name": "SelectModel",
      "state": {
       "_options_labels": [
        "Nucleogenic/Cosmogenic/Air",
        "Nucleogenic/Mantle/Air",
        "Cosmogenic/Mantle/Air"
       ],
       "description": "Ternary System:",
       "index": 2,
       "layout": "IPY_MODEL_582cd28bdb1542b7b1e8f81107acde86",
       "rows": 4,
       "style": "IPY_MODEL_5449bd579c3843a5b6d675cb5dea5032"
      }
     },
     "2d599f27fe424e28b079f9df6de7e92f": {
      "model_module": "@jupyter-widgets/base",
      "model_module_version": "1.1.0",
      "model_name": "LayoutModel",
      "state": {
       "border": "1px solid black"
      }
     },
     "2d96820824b14e829706039eda159cd0": {
      "model_module": "@jupyter-widgets/controls",
      "model_module_version": "1.4.0",
      "model_name": "GridBoxModel",
      "state": {
       "children": [
        "IPY_MODEL_56c35bdd8d134e38abd6d7aa9576dc5d",
        "IPY_MODEL_b45c9c29b30643ef9efff6cc51460f53",
        "IPY_MODEL_321682d099004c7f90534175540d754b"
       ],
       "layout": "IPY_MODEL_0f6b1fc2d64a424e8a627c90d84736f7"
      }
     },
     "2de057e5318c472e923d855a40528fd5": {
      "model_module": "@jupyter-widgets/controls",
      "model_module_version": "1.4.0",
      "model_name": "DescriptionStyleModel",
      "state": {
       "description_width": ""
      }
     },
     "2de08b5697db4ad294ea33122839fd9a": {
      "model_module": "@jupyter-widgets/controls",
      "model_module_version": "1.4.0",
      "model_name": "DescriptionStyleModel",
      "state": {
       "description_width": "initial"
      }
     },
     "2f01b665ab98422bb0c228a44990771b": {
      "model_module": "@jupyter-widgets/controls",
      "model_module_version": "1.4.0",
      "model_name": "SelectModel",
      "state": {
       "_options_labels": [
        "Nucleogenic/Cosmogenic/Air",
        "Nucleogenic/Mantle/Air",
        "Cosmogenic/Mantle/Air"
       ],
       "description": "Ternary System:",
       "index": 0,
       "layout": "IPY_MODEL_80d799f3d3f344919c02c1052048c879",
       "rows": 4,
       "style": "IPY_MODEL_96e89090175f483db8ffaeade828e369"
      }
     },
     "321403484c59425984f164af4c4ebe3b": {
      "model_module": "@jupyter-widgets/controls",
      "model_module_version": "1.4.0",
      "model_name": "GridBoxModel",
      "state": {
       "children": [
        "IPY_MODEL_f8f54977bb734647bdfe44ff35ac8ce0",
        "IPY_MODEL_194248c74b36477697e555f657fece14",
        "IPY_MODEL_636961d88e404b05bb34dcbeda2d78ae"
       ],
       "layout": "IPY_MODEL_2a5b79780d554d0aa2ce4e5caff561f7"
      }
     },
     "321682d099004c7f90534175540d754b": {
      "model_module": "@jupyter-widgets/controls",
      "model_module_version": "1.4.0",
      "model_name": "FloatTextModel",
      "state": {
       "description": "Neon-22",
       "layout": "IPY_MODEL_9bd74d521add43c9bf5a63ec0142ede9",
       "step": null,
       "style": "IPY_MODEL_0c9347b6abc743cc8ef9e2336b1a70b1",
       "value": 925
      }
     },
     "3234f79a83d44bafadba1ea3b41d4db3": {
      "model_module": "@jupyter-widgets/controls",
      "model_module_version": "1.4.0",
      "model_name": "ButtonStyleModel",
      "state": {}
     },
     "3296dbf2fb184828a6cde96008ba9b8b": {
      "model_module": "@jupyter-widgets/base",
      "model_module_version": "1.1.0",
      "model_name": "LayoutModel",
      "state": {}
     },
     "33921c70a30d44d1aec19494cfbf99b2": {
      "model_module": "@jupyter-widgets/base",
      "model_module_version": "1.1.0",
      "model_name": "LayoutModel",
      "state": {}
     },
     "342d8afde5d44418988dc34b7f3c73cc": {
      "model_module": "@jupyter-widgets/controls",
      "model_module_version": "1.4.0",
      "model_name": "DescriptionStyleModel",
      "state": {
       "description_width": ""
      }
     },
     "3528cd073bd74fdca0109606ee6c0737": {
      "model_module": "@jupyter-widgets/base",
      "model_module_version": "1.1.0",
      "model_name": "LayoutModel",
      "state": {}
     },
     "352ba782f1a2413587c2275be919c4b9": {
      "model_module": "@jupyter-widgets/base",
      "model_module_version": "1.1.0",
      "model_name": "LayoutModel",
      "state": {
       "grid_template_areas": "\n            \"system mineral\"\n            ",
       "grid_template_columns": "50% 50%",
       "grid_template_rows": "auto auto auto",
       "width": "100%"
      }
     },
     "35c745ec8c11496abe635017d0e28ae8": {
      "model_module": "@jupyter-widgets/base",
      "model_module_version": "1.1.0",
      "model_name": "LayoutModel",
      "state": {
       "border": "1px solid black"
      }
     },
     "35fb17ef45c043859be8f3699e856388": {
      "model_module": "@jupyter-widgets/controls",
      "model_module_version": "1.4.0",
      "model_name": "ButtonModel",
      "state": {
       "description": "Calculate",
       "icon": "check",
       "layout": "IPY_MODEL_2692d493cfaa48fd9e4acf07dc473bef",
       "style": "IPY_MODEL_fd41a91610f846df87847820c445eef3",
       "tooltip": "Calculate deconvolution"
      }
     },
     "3628a98cb01640ec923b95a0279019c6": {
      "model_module": "@jupyter-widgets/controls",
      "model_module_version": "1.4.0",
      "model_name": "ButtonModel",
      "state": {
       "description": "Calculate",
       "icon": "check",
       "layout": "IPY_MODEL_49c2f5adf2ee4b969e026415a1ba116a",
       "style": "IPY_MODEL_69bd6d5eea494d1fba5f79bb9c973407",
       "tooltip": "Calculate deconvolution"
      }
     },
     "36a6f28505c94de9ac6575daab8450f0": {
      "model_module": "@jupyter-widgets/controls",
      "model_module_version": "1.4.0",
      "model_name": "ButtonModel",
      "state": {
       "description": "Calculate",
       "icon": "check",
       "layout": "IPY_MODEL_e5e7a74830984fbe9de4b560014c225b",
       "style": "IPY_MODEL_6a4d80dee8e64130902007539d87521a",
       "tooltip": "Calculate deconvolution"
      }
     },
     "36b24dd27ea14fd2b97dbbdcbce1cffe": {
      "model_module": "@jupyter-widgets/controls",
      "model_module_version": "1.4.0",
      "model_name": "ButtonModel",
      "state": {
       "description": "Calculate",
       "icon": "check",
       "layout": "IPY_MODEL_285e82b7e3a241fe838c2d506805c3b8",
       "style": "IPY_MODEL_3e2293324814471a962429fd1b5b176b",
       "tooltip": "Calculate deconvolution"
      }
     },
     "37ef8f6e6bdd4bf4b73357cd24f6ef0f": {
      "model_module": "@jupyter-widgets/controls",
      "model_module_version": "1.4.0",
      "model_name": "DescriptionStyleModel",
      "state": {
       "description_width": "initial"
      }
     },
     "3864a1ae076745e7b2338250fd65bf05": {
      "model_module": "@jupyter-widgets/controls",
      "model_module_version": "1.4.0",
      "model_name": "GridBoxModel",
      "state": {
       "children": [
        "IPY_MODEL_2f01b665ab98422bb0c228a44990771b",
        "IPY_MODEL_3e89a3b43c614f9d84ff8092d4f531aa"
       ],
       "layout": "IPY_MODEL_281eada5a03e4ec190946bcbe52ba631"
      }
     },
     "38916dfba3384a8cb8e60ffa69c76124": {
      "model_module": "@jupyter-widgets/base",
      "model_module_version": "1.1.0",
      "model_name": "LayoutModel",
      "state": {
       "grid_template_areas": "\n            \"Ne20 Ne21 Ne22\"\n            ",
       "grid_template_columns": "33% 33% 33%",
       "grid_template_rows": "auto auto auto",
       "width": "100%"
      }
     },
     "392a073130d64b1f81d8268a5d881b27": {
      "model_module": "@jupyter-widgets/controls",
      "model_module_version": "1.4.0",
      "model_name": "DescriptionStyleModel",
      "state": {
       "description_width": "initial"
      }
     },
     "3938990a3783483c8f0d1f23e072fb03": {
      "model_module": "@jupyter-widgets/base",
      "model_module_version": "1.1.0",
      "model_name": "LayoutModel",
      "state": {}
     },
     "3987031286ae42f0ae25c9d94284a61f": {
      "model_module": "@jupyter-widgets/controls",
      "model_module_version": "1.4.0",
      "model_name": "ButtonStyleModel",
      "state": {}
     },
     "39d72794d13d447ebae8773ccfcbfbda": {
      "model_module": "@jupyter-widgets/base",
      "model_module_version": "1.1.0",
      "model_name": "LayoutModel",
      "state": {}
     },
     "39dd5136a31f49ccad2c2b7e24d9e876": {
      "model_module": "@jupyter-widgets/base",
      "model_module_version": "1.1.0",
      "model_name": "LayoutModel",
      "state": {}
     },
     "3a5f7490f6214259a8f2cfa433ca5460": {
      "model_module": "@jupyter-widgets/base",
      "model_module_version": "1.1.0",
      "model_name": "LayoutModel",
      "state": {}
     },
     "3baa756c89fb44008a01bef3a69d4d3f": {
      "model_module": "@jupyter-widgets/controls",
      "model_module_version": "1.4.0",
      "model_name": "DescriptionStyleModel",
      "state": {
       "description_width": ""
      }
     },
     "3be1474645cb415c991825079b8b7325": {
      "model_module": "@jupyter-widgets/base",
      "model_module_version": "1.1.0",
      "model_name": "LayoutModel",
      "state": {
       "border": "1px solid black"
      }
     },
     "3c6d048b749f47e5bb38751ce67dcb1d": {
      "model_module": "@jupyter-widgets/controls",
      "model_module_version": "1.4.0",
      "model_name": "ButtonStyleModel",
      "state": {}
     },
     "3caa8a13ea504127a4f2acc1473c3ac1": {
      "model_module": "@jupyter-widgets/controls",
      "model_module_version": "1.4.0",
      "model_name": "ButtonStyleModel",
      "state": {}
     },
     "3cb4497e619648adbf4b1cd674c329dd": {
      "model_module": "@jupyter-widgets/controls",
      "model_module_version": "1.4.0",
      "model_name": "ButtonStyleModel",
      "state": {}
     },
     "3d23a017405b4b90849fb15d7e470779": {
      "model_module": "@jupyter-widgets/base",
      "model_module_version": "1.1.0",
      "model_name": "LayoutModel",
      "state": {
       "border": "1px solid black"
      }
     },
     "3da5c7cbebb24570a0d771bfa59dc32e": {
      "model_module": "@jupyter-widgets/controls",
      "model_module_version": "1.4.0",
      "model_name": "ButtonModel",
      "state": {
       "description": "Calculate",
       "icon": "check",
       "layout": "IPY_MODEL_39dd5136a31f49ccad2c2b7e24d9e876",
       "style": "IPY_MODEL_28320164872d432dbd1cc5ceecfc2c1c",
       "tooltip": "Calculate deconvolution"
      }
     },
     "3e2293324814471a962429fd1b5b176b": {
      "model_module": "@jupyter-widgets/controls",
      "model_module_version": "1.4.0",
      "model_name": "ButtonStyleModel",
      "state": {}
     },
     "3e26b0eb2d53498f8067bab98d74371f": {
      "model_module": "@jupyter-widgets/controls",
      "model_module_version": "1.4.0",
      "model_name": "DescriptionStyleModel",
      "state": {
       "description_width": ""
      }
     },
     "3e89a3b43c614f9d84ff8092d4f531aa": {
      "model_module": "@jupyter-widgets/controls",
      "model_module_version": "1.4.0",
      "model_name": "SelectModel",
      "state": {
       "_options_labels": [
        "quartz",
        "pyroxene"
       ],
       "description": "Mineral:",
       "index": 0,
       "layout": "IPY_MODEL_df8e5fdc7de649a7b249e9d6e0632b7f",
       "rows": 3,
       "style": "IPY_MODEL_0b83fb9b901f4e788fc37b789ff9dd31"
      }
     },
     "3f21f5a4183a48d8a486115b59a8c536": {
      "model_module": "@jupyter-widgets/controls",
      "model_module_version": "1.4.0",
      "model_name": "FloatTextModel",
      "state": {
       "description": "Neon-22",
       "layout": "IPY_MODEL_1079183a63a1442aac648b535fb8d185",
       "step": null,
       "style": "IPY_MODEL_1a35cb96d5cc4678b919402f3d098b64",
       "value": 952
      }
     },
     "3fda49299b5f4058907b296b2646d506": {
      "model_module": "@jupyter-widgets/controls",
      "model_module_version": "1.4.0",
      "model_name": "SelectModel",
      "state": {
       "_options_labels": [
        "quartz",
        "pyroxene"
       ],
       "description": "Mineral:",
       "index": 0,
       "layout": "IPY_MODEL_cdeafc907600446b863a7908e90382eb",
       "rows": 3,
       "style": "IPY_MODEL_958f7683680d453992e40f933ec24182"
      }
     },
     "400d9637bf994ef79a10084c3fe76128": {
      "model_module": "@jupyter-widgets/output",
      "model_module_version": "1.0.0",
      "model_name": "OutputModel",
      "state": {
       "layout": "IPY_MODEL_9550bb1652b548378044f0e87e03fbb2",
       "outputs": [
        {
         "name": "stdout",
         "output_type": "stream",
         "text": "Nucleogenic : ( 289.2628  Ne20) ( 0.00145  Ne21) ( 0.00145  Ne22)\nCosmogenic : ( 25.99004  Ne20) ( 27.93929  Ne21) ( 32.22765  Ne22)\nAir : ( 8732.74716  Ne20) ( 26.05926  Ne21) ( 892.7709  Ne22)\n"
        }
       ]
      }
     },
     "409010cb09ba40bc9863c5f22cc52539": {
      "model_module": "@jupyter-widgets/controls",
      "model_module_version": "1.4.0",
      "model_name": "ButtonModel",
      "state": {
       "description": "Calculate",
       "icon": "check",
       "layout": "IPY_MODEL_f38150e771bd48d19ddca37b69939fce",
       "style": "IPY_MODEL_941944038e9b4ef3b609dadd9c09f3c5",
       "tooltip": "Calculate deconvolution"
      }
     },
     "4099b8e260e3404cbf066559bfec4b1e": {
      "model_module": "@jupyter-widgets/base",
      "model_module_version": "1.1.0",
      "model_name": "LayoutModel",
      "state": {
       "border": "1px solid black"
      }
     },
     "4117cb35a63d44b7896e40c15d0d3454": {
      "model_module": "@jupyter-widgets/base",
      "model_module_version": "1.1.0",
      "model_name": "LayoutModel",
      "state": {}
     },
     "426af750495241d9893d322082bd89f4": {
      "model_module": "@jupyter-widgets/controls",
      "model_module_version": "1.4.0",
      "model_name": "ButtonModel",
      "state": {
       "description": "Calculate",
       "icon": "check",
       "layout": "IPY_MODEL_3296dbf2fb184828a6cde96008ba9b8b",
       "style": "IPY_MODEL_16426f6701c048c88b4b3803ecfc4af2",
       "tooltip": "Calculate deconvolution"
      }
     },
     "42e764834ee54dd69613ea00c23e61f7": {
      "model_module": "@jupyter-widgets/base",
      "model_module_version": "1.1.0",
      "model_name": "LayoutModel",
      "state": {}
     },
     "43503856c4f44184bdff16a5504032b9": {
      "model_module": "@jupyter-widgets/controls",
      "model_module_version": "1.4.0",
      "model_name": "ButtonStyleModel",
      "state": {}
     },
     "439a9a2dd9be4520ad4bec53307c6e2a": {
      "model_module": "@jupyter-widgets/base",
      "model_module_version": "1.1.0",
      "model_name": "LayoutModel",
      "state": {}
     },
     "44592e5c694f4bafb5235f056a389c9b": {
      "model_module": "@jupyter-widgets/controls",
      "model_module_version": "1.4.0",
      "model_name": "ButtonModel",
      "state": {
       "description": "Calculate",
       "icon": "check",
       "layout": "IPY_MODEL_42e764834ee54dd69613ea00c23e61f7",
       "style": "IPY_MODEL_8daa6084a0c045e9ba7f883336f42bdf",
       "tooltip": "Calculate deconvolution"
      }
     },
     "457bb4a2f6d04539acb19f9c76739546": {
      "model_module": "@jupyter-widgets/base",
      "model_module_version": "1.1.0",
      "model_name": "LayoutModel",
      "state": {
       "border": "1px solid black"
      }
     },
     "460f8913a83b482781f535ddf6f3e7d6": {
      "model_module": "@jupyter-widgets/base",
      "model_module_version": "1.1.0",
      "model_name": "LayoutModel",
      "state": {}
     },
     "465af140a5e345d49984341f6bc7b8c2": {
      "model_module": "@jupyter-widgets/controls",
      "model_module_version": "1.4.0",
      "model_name": "FloatTextModel",
      "state": {
       "description": "Neon-20",
       "layout": "IPY_MODEL_9f88c9c67eb641be857ad05c04401b32",
       "step": null,
       "style": "IPY_MODEL_e216e335d6f64de6ab5acb54d6cf3637",
       "value": 9048
      }
     },
     "4680dbd40bb44e1f9ed96875d3043d11": {
      "model_module": "@jupyter-widgets/controls",
      "model_module_version": "1.4.0",
      "model_name": "SelectModel",
      "state": {
       "_options_labels": [
        "quartz",
        "pyroxene"
       ],
       "description": "Mineral:",
       "index": 0,
       "layout": "IPY_MODEL_d752d64160f7474abe4bf4dca6dbad03",
       "rows": 3,
       "style": "IPY_MODEL_2738443be43b4aa0b994f2f323e39aeb"
      }
     },
     "468f3417632d43fda72ec508afd106d4": {
      "model_module": "@jupyter-widgets/base",
      "model_module_version": "1.1.0",
      "model_name": "LayoutModel",
      "state": {
       "grid_template_areas": "\n            \"system mineral\"\n            ",
       "grid_template_columns": "50% 50%",
       "grid_template_rows": "auto auto auto",
       "width": "100%"
      }
     },
     "469bbffa0a234c3ea780e28ab0c9d927": {
      "model_module": "@jupyter-widgets/base",
      "model_module_version": "1.1.0",
      "model_name": "LayoutModel",
      "state": {
       "border": "1px solid black"
      }
     },
     "46c45db3a22247c1ab1b9357bd2ddcc0": {
      "model_module": "@jupyter-widgets/base",
      "model_module_version": "1.1.0",
      "model_name": "LayoutModel",
      "state": {}
     },
     "4703d1d5d77a4614a5cf5b51b2c1fc96": {
      "model_module": "@jupyter-widgets/base",
      "model_module_version": "1.1.0",
      "model_name": "LayoutModel",
      "state": {
       "border": "1px solid black"
      }
     },
     "49738503480a4b7f9e28f4b6e321c97c": {
      "model_module": "@jupyter-widgets/controls",
      "model_module_version": "1.4.0",
      "model_name": "ButtonModel",
      "state": {
       "description": "Calculate",
       "icon": "check",
       "layout": "IPY_MODEL_d6b02215f2984e97865df5cad13a84bc",
       "style": "IPY_MODEL_abf3229ce9f840118a66534ddf9afb57",
       "tooltip": "Calculate deconvolution"
      }
     },
     "49b4c5da4e3145cda345cef51b0f0107": {
      "model_module": "@jupyter-widgets/controls",
      "model_module_version": "1.4.0",
      "model_name": "FloatTextModel",
      "state": {
       "description": "Neon-22",
       "layout": "IPY_MODEL_3a5f7490f6214259a8f2cfa433ca5460",
       "step": null,
       "style": "IPY_MODEL_92f293b38e4c44f4a9e6c5578b3a6473",
       "value": 925
      }
     },
     "49c2f5adf2ee4b969e026415a1ba116a": {
      "model_module": "@jupyter-widgets/base",
      "model_module_version": "1.1.0",
      "model_name": "LayoutModel",
      "state": {}
     },
     "49ff02686dab4f90aa1b38e345d80ecb": {
      "model_module": "@jupyter-widgets/output",
      "model_module_version": "1.0.0",
      "model_name": "OutputModel",
      "state": {
       "layout": "IPY_MODEL_e8184c6567724cdbb9dd506df66c74d5",
       "outputs": [
        {
         "name": "stdout",
         "output_type": "stream",
         "text": "Nucleogenic : ( 289.2628  Ne20) ( 0.00145  Ne21) ( 0.00145  Ne22)\nCosmogenic : ( 25.99004  Ne20) ( 27.93929  Ne21) ( 32.22765  Ne22)\nAir : ( 8732.74716  Ne20) ( 26.05926  Ne21) ( 892.7709  Ne22)\n"
        }
       ]
      }
     },
     "4a762de6d7c4477689a4ea4fbdb0d8ea": {
      "model_module": "@jupyter-widgets/controls",
      "model_module_version": "1.4.0",
      "model_name": "DescriptionStyleModel",
      "state": {
       "description_width": ""
      }
     },
     "4cfc208abfe54367a35ee0dd980db317": {
      "model_module": "@jupyter-widgets/controls",
      "model_module_version": "1.4.0",
      "model_name": "FloatTextModel",
      "state": {
       "description": "Neon-22",
       "layout": "IPY_MODEL_07b9f4736d2e40be94e14ee0f072d6f7",
       "step": null,
       "style": "IPY_MODEL_4d67136013194e3b9f47dc828284ce49",
       "value": 925
      }
     },
     "4d67136013194e3b9f47dc828284ce49": {
      "model_module": "@jupyter-widgets/controls",
      "model_module_version": "1.4.0",
      "model_name": "DescriptionStyleModel",
      "state": {
       "description_width": ""
      }
     },
     "4d986b9c5364410ebc5981461ff3d2ea": {
      "model_module": "@jupyter-widgets/controls",
      "model_module_version": "1.4.0",
      "model_name": "DescriptionStyleModel",
      "state": {
       "description_width": ""
      }
     },
     "4f0ee64298964c6cac91548f2682d527": {
      "model_module": "@jupyter-widgets/output",
      "model_module_version": "1.0.0",
      "model_name": "OutputModel",
      "state": {
       "layout": "IPY_MODEL_ffbcf5a5137349b2abe4553ab5951cb4",
       "outputs": [
        {
         "name": "stdout",
         "output_type": "stream",
         "text": "Nucleogenic : ( -0.0  Ne20) ( -0.0  Ne21) ( -0.0  Ne22)\nCosmogenic : ( -0.0  Ne20) ( -0.0  Ne21) ( -0.0  Ne22)\nAir : ( 9048.0  Ne20) ( 27.0  Ne21) ( 925.0  Ne22)\n"
        }
       ]
      }
     },
     "4f4996e2423540f18810a0756659d77d": {
      "model_module": "@jupyter-widgets/base",
      "model_module_version": "1.1.0",
      "model_name": "LayoutModel",
      "state": {}
     },
     "4f5757d171b0440fa3b9ea62ab6ba91c": {
      "model_module": "@jupyter-widgets/controls",
      "model_module_version": "1.4.0",
      "model_name": "SelectModel",
      "state": {
       "_options_labels": [
        "Nucleogenic/Cosmogenic/Air",
        "Nucleogenic/Mantle/Air",
        "Cosmogenic/Mantle/Air"
       ],
       "description": "Ternary System:",
       "index": 0,
       "layout": "IPY_MODEL_783203a7cca54bed93e385871b4b5b3f",
       "rows": 4,
       "style": "IPY_MODEL_594e4cebc7d642249b896f0ae17f9bff"
      }
     },
     "4f69d9e8aca248a4b16d92cfffc7c9e0": {
      "model_module": "@jupyter-widgets/controls",
      "model_module_version": "1.4.0",
      "model_name": "ButtonStyleModel",
      "state": {}
     },
     "507d145118e24b97a79f869178f658b3": {
      "model_module": "@jupyter-widgets/output",
      "model_module_version": "1.0.0",
      "model_name": "OutputModel",
      "state": {
       "layout": "IPY_MODEL_09822a8b54cb42ff98eb78002d602cec",
       "outputs": [
        {
         "name": "stdout",
         "output_type": "stream",
         "text": "Nucleogenic : ( 29215.54294  Ne20) ( 0.14608  Ne21) ( 0.14608  Ne22)\nCosmogenic : ( 2624.99422  Ne20) ( 2821.86879  Ne21) ( 3254.99283  Ne22)\nAir : ( -22792.53716  Ne20) ( -68.01487  Ne21) ( -2330.13891  Ne22)\n"
        }
       ]
      }
     },
     "50c3143050b842309edec7df05a5ec9c": {
      "model_module": "@jupyter-widgets/controls",
      "model_module_version": "1.4.0",
      "model_name": "GridBoxModel",
      "state": {
       "children": [
        "IPY_MODEL_c6048adf8344434e8e9d6f228d3d297f",
        "IPY_MODEL_b70f4dc4e7f1435982ee1e48c2923e3d",
        "IPY_MODEL_8a7ef4bd57174c8fb0361577786fcd5a"
       ],
       "layout": "IPY_MODEL_04318ab41e28494b819e2b1fb993f134"
      }
     },
     "50ebc299009d4c2da9ba1e30bc00f727": {
      "model_module": "@jupyter-widgets/controls",
      "model_module_version": "1.4.0",
      "model_name": "GridBoxModel",
      "state": {
       "children": [
        "IPY_MODEL_0b8f73189f2d472da91f09606c6a71e1",
        "IPY_MODEL_a7892f1fb1dd48d8a122a5891f5cff75",
        "IPY_MODEL_0b497c3a39ab4a3d8eb425a2557736d2"
       ],
       "layout": "IPY_MODEL_888de141b2fc4eb6ba1f2972a090084b"
      }
     },
     "50fdc936014f44c29ca0466a6e7b01c6": {
      "model_module": "@jupyter-widgets/controls",
      "model_module_version": "1.4.0",
      "model_name": "SelectModel",
      "state": {
       "_options_labels": [
        "quartz",
        "pyroxene"
       ],
       "description": "Mineral:",
       "index": 0,
       "layout": "IPY_MODEL_3528cd073bd74fdca0109606ee6c0737",
       "rows": 3,
       "style": "IPY_MODEL_266283b1d6f24659a55fb8a3ec469766"
      }
     },
     "51144e06e5cd46fd838b0fb3de758e67": {
      "model_module": "@jupyter-widgets/controls",
      "model_module_version": "1.4.0",
      "model_name": "ButtonStyleModel",
      "state": {}
     },
     "51935ee25ab84264abe794e9bc6243a2": {
      "model_module": "@jupyter-widgets/controls",
      "model_module_version": "1.4.0",
      "model_name": "DescriptionStyleModel",
      "state": {
       "description_width": ""
      }
     },
     "51eb19935c534dcda90a8b28b9944bfd": {
      "model_module": "@jupyter-widgets/output",
      "model_module_version": "1.0.0",
      "model_name": "OutputModel",
      "state": {
       "layout": "IPY_MODEL_f083393a2dd143fa8dbc7285c2c0c5ad",
       "outputs": [
        {
         "name": "stdout",
         "output_type": "stream",
         "text": "Nucleogenic : ( -0.0  Ne20) ( -0.0  Ne21) ( -0.0  Ne22)\nCosmogenic : ( -0.0  Ne20) ( -0.0  Ne21) ( -0.0  Ne22)\nAir : ( 9048.0  Ne20) ( 27.0  Ne21) ( 925.0  Ne22)\n"
        }
       ]
      }
     },
     "53c756349d7a4c8786894b8adefef2cd": {
      "model_module": "@jupyter-widgets/controls",
      "model_module_version": "1.4.0",
      "model_name": "FloatTextModel",
      "state": {
       "description": "Neon-21",
       "layout": "IPY_MODEL_118efff17fad45789e15c23d8fc70328",
       "step": null,
       "style": "IPY_MODEL_d0ea6f877ae14a26a7c7ce998c030af1",
       "value": 27
      }
     },
     "541997093ef3433ca24466e5a9c2c56f": {
      "model_module": "@jupyter-widgets/controls",
      "model_module_version": "1.4.0",
      "model_name": "DescriptionStyleModel",
      "state": {
       "description_width": "initial"
      }
     },
     "5449bd579c3843a5b6d675cb5dea5032": {
      "model_module": "@jupyter-widgets/controls",
      "model_module_version": "1.4.0",
      "model_name": "DescriptionStyleModel",
      "state": {
       "description_width": "initial"
      }
     },
     "549344f7f40b43afb4f49abdaaf2cb89": {
      "model_module": "@jupyter-widgets/controls",
      "model_module_version": "1.4.0",
      "model_name": "GridBoxModel",
      "state": {
       "children": [
        "IPY_MODEL_babc32b90cdd4514b8c2a878c18ec601",
        "IPY_MODEL_bc27290e8bb6444498da33aa39dedd44"
       ],
       "layout": "IPY_MODEL_f6c66c2dc3174450b72fe923ff4edb1e"
      }
     },
     "54d81f1b9cd246a69d092db909b5d0e3": {
      "model_module": "@jupyter-widgets/controls",
      "model_module_version": "1.4.0",
      "model_name": "DescriptionStyleModel",
      "state": {
       "description_width": "initial"
      }
     },
     "54deab880a924da6aaa3afc5ecb73d41": {
      "model_module": "@jupyter-widgets/base",
      "model_module_version": "1.1.0",
      "model_name": "LayoutModel",
      "state": {}
     },
     "562be309317e4abfaacbc22e0b422874": {
      "model_module": "@jupyter-widgets/base",
      "model_module_version": "1.1.0",
      "model_name": "LayoutModel",
      "state": {}
     },
     "56618dfab4624daba633a97805317477": {
      "model_module": "@jupyter-widgets/output",
      "model_module_version": "1.0.0",
      "model_name": "OutputModel",
      "state": {
       "layout": "IPY_MODEL_c8cf781cd8784ca99a35d7090fea3b48",
       "outputs": [
        {
         "name": "stdout",
         "output_type": "stream",
         "text": "Nucleogenic : ( 289.2628  Ne20) ( 0.00145  Ne21) ( 0.00145  Ne22)\nCosmogenic : ( 25.99004  Ne20) ( 27.93929  Ne21) ( 32.22765  Ne22)\nAir : ( 8732.74716  Ne20) ( 26.05926  Ne21) ( 892.7709  Ne22)\n"
        }
       ]
      }
     },
     "56c35bdd8d134e38abd6d7aa9576dc5d": {
      "model_module": "@jupyter-widgets/controls",
      "model_module_version": "1.4.0",
      "model_name": "FloatTextModel",
      "state": {
       "description": "Neon-20",
       "layout": "IPY_MODEL_71af760d27624e68b3f0c9ae96263b57",
       "step": null,
       "style": "IPY_MODEL_3e26b0eb2d53498f8067bab98d74371f",
       "value": 9048
      }
     },
     "56f86c6d18bf47648b665397a851cf78": {
      "model_module": "@jupyter-widgets/base",
      "model_module_version": "1.1.0",
      "model_name": "LayoutModel",
      "state": {}
     },
     "574cd241f90a4598b5e88b8e9a592d88": {
      "model_module": "@jupyter-widgets/controls",
      "model_module_version": "1.4.0",
      "model_name": "DescriptionStyleModel",
      "state": {
       "description_width": ""
      }
     },
     "574d5edcbb25413a87f1cc1dd2d307fe": {
      "model_module": "@jupyter-widgets/controls",
      "model_module_version": "1.4.0",
      "model_name": "ButtonStyleModel",
      "state": {}
     },
     "5755265171064964bda89d316e0a17a2": {
      "model_module": "@jupyter-widgets/base",
      "model_module_version": "1.1.0",
      "model_name": "LayoutModel",
      "state": {}
     },
     "57f9e2829c63422f8730c03c9feb2394": {
      "model_module": "@jupyter-widgets/output",
      "model_module_version": "1.0.0",
      "model_name": "OutputModel",
      "state": {
       "layout": "IPY_MODEL_4703d1d5d77a4614a5cf5b51b2c1fc96",
       "outputs": [
        {
         "name": "stdout",
         "output_type": "stream",
         "text": "Nucleogenic : ( -0.0  Ne20) ( -0.0  Ne21) ( -0.0  Ne22)\nCosmogenic : ( -0.0  Ne20) ( -0.0  Ne21) ( -0.0  Ne22)\nAir : ( 9048.0  Ne20) ( 27.0  Ne21) ( 925.0  Ne22)\n"
        }
       ]
      }
     },
     "582cd28bdb1542b7b1e8f81107acde86": {
      "model_module": "@jupyter-widgets/base",
      "model_module_version": "1.1.0",
      "model_name": "LayoutModel",
      "state": {}
     },
     "588d785701464cee8614b40fd2c7fc6f": {
      "model_module": "@jupyter-widgets/base",
      "model_module_version": "1.1.0",
      "model_name": "LayoutModel",
      "state": {}
     },
     "58a679dba03344229de18e7d9a8ffda6": {
      "model_module": "@jupyter-widgets/base",
      "model_module_version": "1.1.0",
      "model_name": "LayoutModel",
      "state": {}
     },
     "594e4cebc7d642249b896f0ae17f9bff": {
      "model_module": "@jupyter-widgets/controls",
      "model_module_version": "1.4.0",
      "model_name": "DescriptionStyleModel",
      "state": {
       "description_width": "initial"
      }
     },
     "59688e8e08164d9ea4b48d8fb75170cd": {
      "model_module": "@jupyter-widgets/controls",
      "model_module_version": "1.4.0",
      "model_name": "SelectModel",
      "state": {
       "_options_labels": [
        "quartz",
        "pyroxene"
       ],
       "description": "Mineral:",
       "index": 0,
       "layout": "IPY_MODEL_439a9a2dd9be4520ad4bec53307c6e2a",
       "rows": 3,
       "style": "IPY_MODEL_392a073130d64b1f81d8268a5d881b27"
      }
     },
     "59c888faa92744c4b39aa3f763d95827": {
      "model_module": "@jupyter-widgets/controls",
      "model_module_version": "1.4.0",
      "model_name": "DescriptionStyleModel",
      "state": {
       "description_width": ""
      }
     },
     "59d3c1ddcb4948d0a7ae05712e5c26e2": {
      "model_module": "@jupyter-widgets/controls",
      "model_module_version": "1.4.0",
      "model_name": "SelectModel",
      "state": {
       "_options_labels": [
        "quartz",
        "pyroxene"
       ],
       "description": "Mineral:",
       "index": 0,
       "layout": "IPY_MODEL_98ead62c946c4fe29d33a7cd84c05050",
       "rows": 3,
       "style": "IPY_MODEL_54d81f1b9cd246a69d092db909b5d0e3"
      }
     },
     "5aab0e9121f042988f45125caaada381": {
      "model_module": "@jupyter-widgets/base",
      "model_module_version": "1.1.0",
      "model_name": "LayoutModel",
      "state": {}
     },
     "5aeb9af395cb4fc3a352f76ad0e35987": {
      "model_module": "@jupyter-widgets/controls",
      "model_module_version": "1.4.0",
      "model_name": "FloatTextModel",
      "state": {
       "description": "Neon-20",
       "layout": "IPY_MODEL_a53b24053ad9459e9e7cfc7e3f6a9ba3",
       "step": null,
       "style": "IPY_MODEL_574cd241f90a4598b5e88b8e9a592d88",
       "value": 9048
      }
     },
     "5b0ca2066d0b4ac6b949a684c2f91c3f": {
      "model_module": "@jupyter-widgets/output",
      "model_module_version": "1.0.0",
      "model_name": "OutputModel",
      "state": {
       "layout": "IPY_MODEL_fa40fe40fc3c40c7b54d2f67d1ffdab6",
       "outputs": [
        {
         "name": "stdout",
         "output_type": "stream",
         "text": "Nucleogenic : ( 289.2628  Ne20) ( 0.00145  Ne21) ( 0.00145  Ne22)\nCosmogenic : ( 25.99004  Ne20) ( 27.93929  Ne21) ( 32.22765  Ne22)\nAir : ( 8732.74716  Ne20) ( 26.05926  Ne21) ( 892.7709  Ne22)\n"
        }
       ]
      }
     },
     "5b15abc8d4b34619b3a645d4ea26122b": {
      "model_module": "@jupyter-widgets/controls",
      "model_module_version": "1.4.0",
      "model_name": "SelectModel",
      "state": {
       "_options_labels": [
        "quartz",
        "pyroxene"
       ],
       "description": "Mineral:",
       "index": 0,
       "layout": "IPY_MODEL_460f8913a83b482781f535ddf6f3e7d6",
       "rows": 3,
       "style": "IPY_MODEL_c1b70b4dcc604552a0ab740c1f47aa85"
      }
     },
     "5b5866b06e5b411ca20fc25d5a4d5736": {
      "model_module": "@jupyter-widgets/controls",
      "model_module_version": "1.4.0",
      "model_name": "ButtonModel",
      "state": {
       "description": "Calculate",
       "icon": "check",
       "layout": "IPY_MODEL_2b898086d63641d7a243949581f1dd14",
       "style": "IPY_MODEL_1dca655deaa849daa6429f3e20c34432",
       "tooltip": "Calculate deconvolution"
      }
     },
     "5b9f037442b14d9bb0dd256ccb43528b": {
      "model_module": "@jupyter-widgets/controls",
      "model_module_version": "1.4.0",
      "model_name": "DescriptionStyleModel",
      "state": {
       "description_width": ""
      }
     },
     "5bae98b5800c421c9b540be0e3c3d7cc": {
      "model_module": "@jupyter-widgets/controls",
      "model_module_version": "1.4.0",
      "model_name": "DescriptionStyleModel",
      "state": {
       "description_width": "initial"
      }
     },
     "5c42326b74e64f8690aeb6cd77c16e00": {
      "model_module": "@jupyter-widgets/output",
      "model_module_version": "1.0.0",
      "model_name": "OutputModel",
      "state": {
       "layout": "IPY_MODEL_7e08d1a01ccf4e688c8dc0afbe68f1cd",
       "outputs": [
        {
         "name": "stdout",
         "output_type": "stream",
         "text": "Nucleogenic : ( -0.0  Ne20) ( -0.0  Ne21) ( -0.0  Ne22)\nCosmogenic : ( -0.0  Ne20) ( -0.0  Ne21) ( -0.0  Ne22)\nAir : ( 9048.0  Ne20) ( 27.0  Ne21) ( 925.0  Ne22)\n"
        }
       ]
      }
     },
     "5d0d22a0584c4fd28a0d7fa24101b3c2": {
      "model_module": "@jupyter-widgets/base",
      "model_module_version": "1.1.0",
      "model_name": "LayoutModel",
      "state": {
       "grid_template_areas": "\n            \"Ne20 Ne21 Ne22\"\n            ",
       "grid_template_columns": "33% 33% 33%",
       "grid_template_rows": "auto auto auto",
       "width": "100%"
      }
     },
     "5d5c00c6933148c0bea5ea5ee2ff9c43": {
      "model_module": "@jupyter-widgets/controls",
      "model_module_version": "1.4.0",
      "model_name": "SelectModel",
      "state": {
       "_options_labels": [
        "quartz",
        "pyroxene"
       ],
       "description": "Mineral:",
       "index": 0,
       "layout": "IPY_MODEL_efce640894b1477699917d664cbdb034",
       "rows": 3,
       "style": "IPY_MODEL_5bae98b5800c421c9b540be0e3c3d7cc"
      }
     },
     "5d5faee13af64459a9eb0a7f37e89767": {
      "model_module": "@jupyter-widgets/controls",
      "model_module_version": "1.4.0",
      "model_name": "FloatTextModel",
      "state": {
       "description": "Neon-22",
       "layout": "IPY_MODEL_fea2c7f6975e43209445116229c77562",
       "step": null,
       "style": "IPY_MODEL_2de057e5318c472e923d855a40528fd5",
       "value": 925
      }
     },
     "5d94cc8923f84cb38892a0515e8c45bb": {
      "model_module": "@jupyter-widgets/controls",
      "model_module_version": "1.4.0",
      "model_name": "DescriptionStyleModel",
      "state": {
       "description_width": "initial"
      }
     },
     "5edf25c52229414a80dc7e5e37093851": {
      "model_module": "@jupyter-widgets/base",
      "model_module_version": "1.1.0",
      "model_name": "LayoutModel",
      "state": {}
     },
     "601c9f48558e4c8bb8b232cb15ec2e9a": {
      "model_module": "@jupyter-widgets/controls",
      "model_module_version": "1.4.0",
      "model_name": "GridBoxModel",
      "state": {
       "children": [
        "IPY_MODEL_fcc7b9d3448745b294557b3ffe0c7df6",
        "IPY_MODEL_d401e732a17a4ad1bc085ee3f0cee919"
       ],
       "layout": "IPY_MODEL_c4a7ed7592bf4a51a30703f69789bbad"
      }
     },
     "6064705b00b94b5dbb32826a8abc9afb": {
      "model_module": "@jupyter-widgets/base",
      "model_module_version": "1.1.0",
      "model_name": "LayoutModel",
      "state": {
       "grid_template_areas": "\n            \"Ne20 Ne21 Ne22\"\n            ",
       "grid_template_columns": "33% 33% 33%",
       "grid_template_rows": "auto auto auto",
       "width": "100%"
      }
     },
     "608e7ff9d8834a7283e86d81284edd5c": {
      "model_module": "@jupyter-widgets/controls",
      "model_module_version": "1.4.0",
      "model_name": "DescriptionStyleModel",
      "state": {
       "description_width": ""
      }
     },
     "60c21ff5f91c419fbc1c5f9949029533": {
      "model_module": "@jupyter-widgets/base",
      "model_module_version": "1.1.0",
      "model_name": "LayoutModel",
      "state": {
       "grid_template_areas": "\n            \"Ne20 Ne21 Ne22\"\n            ",
       "grid_template_columns": "33% 33% 33%",
       "grid_template_rows": "auto auto auto",
       "width": "100%"
      }
     },
     "614a0a70327b4a8a9095ec3392357f3a": {
      "model_module": "@jupyter-widgets/output",
      "model_module_version": "1.0.0",
      "model_name": "OutputModel",
      "state": {
       "layout": "IPY_MODEL_ded235dc35c84947bf7b3d142dab0d0a",
       "outputs": [
        {
         "name": "stdout",
         "output_type": "stream",
         "text": "Nucleogenic : ( 29215.54294  Ne20) ( 0.14608  Ne21) ( 0.14608  Ne22)\nCosmogenic : ( 2624.99422  Ne20) ( 2821.86879  Ne21) ( 3254.99283  Ne22)\nAir : ( -22792.53716  Ne20) ( -68.01487  Ne21) ( -2330.13891  Ne22)\n"
        }
       ]
      }
     },
     "614d3f7bb31f451099142af6d802aa32": {
      "model_module": "@jupyter-widgets/base",
      "model_module_version": "1.1.0",
      "model_name": "LayoutModel",
      "state": {}
     },
     "62920d11e7834fe28112fb36611ad141": {
      "model_module": "@jupyter-widgets/controls",
      "model_module_version": "1.4.0",
      "model_name": "GridBoxModel",
      "state": {
       "children": [
        "IPY_MODEL_91d3521b80fe4bc58ff5638cf34e0565",
        "IPY_MODEL_5d5c00c6933148c0bea5ea5ee2ff9c43"
       ],
       "layout": "IPY_MODEL_b3a503f8a32e4270939e889176d2e054"
      }
     },
     "62f889d747c54c279602b78ac9c97976": {
      "model_module": "@jupyter-widgets/base",
      "model_module_version": "1.1.0",
      "model_name": "LayoutModel",
      "state": {}
     },
     "634d3d52314745c2bdf3e844bb35092e": {
      "model_module": "@jupyter-widgets/controls",
      "model_module_version": "1.4.0",
      "model_name": "DescriptionStyleModel",
      "state": {
       "description_width": "initial"
      }
     },
     "635d28429ec64281a5bec1b5d681dcff": {
      "model_module": "@jupyter-widgets/base",
      "model_module_version": "1.1.0",
      "model_name": "LayoutModel",
      "state": {}
     },
     "636961d88e404b05bb34dcbeda2d78ae": {
      "model_module": "@jupyter-widgets/controls",
      "model_module_version": "1.4.0",
      "model_name": "FloatTextModel",
      "state": {
       "description": "Neon-22",
       "layout": "IPY_MODEL_6927cc4c72b84a31bf53016e77620c3a",
       "step": null,
       "style": "IPY_MODEL_59c888faa92744c4b39aa3f763d95827",
       "value": 925
      }
     },
     "64b3963b2e3f489c9b674af2edcc09bc": {
      "model_module": "@jupyter-widgets/controls",
      "model_module_version": "1.4.0",
      "model_name": "DescriptionStyleModel",
      "state": {
       "description_width": ""
      }
     },
     "65316c9c4c09453696b8e6115c721bc8": {
      "model_module": "@jupyter-widgets/output",
      "model_module_version": "1.0.0",
      "model_name": "OutputModel",
      "state": {
       "layout": "IPY_MODEL_cc93bdb60b724b41840f39d1f3e5445c",
       "outputs": [
        {
         "ename": "AttributeError",
         "evalue": "'str' object has no attribute 'value'",
         "output_type": "error",
         "traceback": [
          "\u001b[0;31m---------------------------------------------------------------------------\u001b[0m",
          "\u001b[0;31mAttributeError\u001b[0m                            Traceback (most recent call last)",
          "\u001b[0;32m<ipython-input-3-3e834eb410cf>\u001b[0m in \u001b[0;36mdeconvolve\u001b[0;34m(system)\u001b[0m\n\u001b[1;32m      4\u001b[0m \u001b[0;34m\u001b[0m\u001b[0m\n\u001b[1;32m      5\u001b[0m     \u001b[0;32mwith\u001b[0m \u001b[0mout\u001b[0m\u001b[0;34m:\u001b[0m\u001b[0;34m\u001b[0m\u001b[0;34m\u001b[0m\u001b[0m\n\u001b[0;32m----> 6\u001b[0;31m         \u001b[0mprint\u001b[0m\u001b[0;34m(\u001b[0m\u001b[0msystem\u001b[0m\u001b[0;34m.\u001b[0m\u001b[0mvalue\u001b[0m\u001b[0;34m)\u001b[0m\u001b[0;34m\u001b[0m\u001b[0;34m\u001b[0m\u001b[0m\n\u001b[0m\u001b[1;32m      7\u001b[0m         \u001b[0mprint\u001b[0m\u001b[0;34m(\u001b[0m\u001b[0;34m\"Input: (\"\u001b[0m\u001b[0;34m,\u001b[0m\u001b[0mround\u001b[0m\u001b[0;34m(\u001b[0m\u001b[0mNe20\u001b[0m\u001b[0;34m.\u001b[0m\u001b[0mvalue\u001b[0m\u001b[0;34m,\u001b[0m\u001b[0;36m5\u001b[0m\u001b[0;34m)\u001b[0m\u001b[0;34m,\u001b[0m\u001b[0;34m\" Ne20) (\"\u001b[0m\u001b[0;34m,\u001b[0m \u001b[0mround\u001b[0m\u001b[0;34m(\u001b[0m\u001b[0mNe21\u001b[0m\u001b[0;34m.\u001b[0m\u001b[0mvalue\u001b[0m\u001b[0;34m,\u001b[0m\u001b[0;36m5\u001b[0m\u001b[0;34m)\u001b[0m\u001b[0;34m,\u001b[0m\u001b[0;34m\" Ne21) (\"\u001b[0m\u001b[0;34m,\u001b[0m \u001b[0mround\u001b[0m\u001b[0;34m(\u001b[0m\u001b[0mNe22\u001b[0m\u001b[0;34m.\u001b[0m\u001b[0mvalue\u001b[0m\u001b[0;34m,\u001b[0m\u001b[0;36m5\u001b[0m\u001b[0;34m)\u001b[0m\u001b[0;34m,\u001b[0m\u001b[0;34m\" Ne22)\"\u001b[0m\u001b[0;34m)\u001b[0m\u001b[0;34m\u001b[0m\u001b[0;34m\u001b[0m\u001b[0m\n\u001b[1;32m      8\u001b[0m \u001b[0;34m\u001b[0m\u001b[0m\n",
          "\u001b[0;31mAttributeError\u001b[0m: 'str' object has no attribute 'value'"
         ]
        },
        {
         "name": "stdout",
         "output_type": "stream",
         "text": "Nucleogenic : ( -0.0  Ne20) ( -0.0  Ne21) ( -0.0  Ne22)\nCosmogenic : ( -0.0  Ne20) ( -0.0  Ne21) ( -0.0  Ne22)\nAir : ( 9048.0  Ne20) ( 27.0  Ne21) ( 925.0  Ne22)\n \n"
        }
       ]
      }
     },
     "66ba57c0bbf4478687fad280661273ca": {
      "model_module": "@jupyter-widgets/controls",
      "model_module_version": "1.4.0",
      "model_name": "FloatTextModel",
      "state": {
       "description": "Neon-22",
       "layout": "IPY_MODEL_e0b550fce53847e7ab47a35e5934ffa6",
       "step": null,
       "style": "IPY_MODEL_8254916c9fe6452a9e686d495c6db979",
       "value": 925
      }
     },
     "6927cc4c72b84a31bf53016e77620c3a": {
      "model_module": "@jupyter-widgets/base",
      "model_module_version": "1.1.0",
      "model_name": "LayoutModel",
      "state": {}
     },
     "69bd6d5eea494d1fba5f79bb9c973407": {
      "model_module": "@jupyter-widgets/controls",
      "model_module_version": "1.4.0",
      "model_name": "ButtonStyleModel",
      "state": {}
     },
     "69bfac419b74449f98f7538d0ccd3a48": {
      "model_module": "@jupyter-widgets/output",
      "model_module_version": "1.0.0",
      "model_name": "OutputModel",
      "state": {
       "layout": "IPY_MODEL_4099b8e260e3404cbf066559bfec4b1e",
       "outputs": [
        {
         "name": "stdout",
         "output_type": "stream",
         "text": "Nucleogenic : ( 16.71649  Ne20) ( 8e-05  Ne21) ( 8e-05  Ne22)\nCosmogenic : ( 25.23265  Ne20) ( 27.1251  Ne21) ( 31.28848  Ne22)\nAir : ( 9006.05086  Ne20) ( 26.87482  Ne21) ( 920.71143  Ne22)\n"
        }
       ]
      }
     },
     "6a4d80dee8e64130902007539d87521a": {
      "model_module": "@jupyter-widgets/controls",
      "model_module_version": "1.4.0",
      "model_name": "ButtonStyleModel",
      "state": {}
     },
     "6af6248dc05542288b36eb27989a05c3": {
      "model_module": "@jupyter-widgets/controls",
      "model_module_version": "1.4.0",
      "model_name": "GridBoxModel",
      "state": {
       "children": [
        "IPY_MODEL_7f7b8b63eae9426192af47179b809499",
        "IPY_MODEL_b8f78ad2b6dc47ce8046c8c23c93e667",
        "IPY_MODEL_b9d9c716e616472ca3560ef3b20a2c0a"
       ],
       "layout": "IPY_MODEL_60c21ff5f91c419fbc1c5f9949029533"
      }
     },
     "6afe5a21cbcb4159a13b42d7dcd5cffe": {
      "model_module": "@jupyter-widgets/base",
      "model_module_version": "1.1.0",
      "model_name": "LayoutModel",
      "state": {}
     },
     "6b3880221ae64c61a2ded788cac92dc4": {
      "model_module": "@jupyter-widgets/base",
      "model_module_version": "1.1.0",
      "model_name": "LayoutModel",
      "state": {}
     },
     "6d0fce8c0d934899b7a64aec799ed242": {
      "model_module": "@jupyter-widgets/base",
      "model_module_version": "1.1.0",
      "model_name": "LayoutModel",
      "state": {}
     },
     "6d1bd55cc13845fababce7df717da465": {
      "model_module": "@jupyter-widgets/output",
      "model_module_version": "1.0.0",
      "model_name": "OutputModel",
      "state": {
       "layout": "IPY_MODEL_b662689385874f8da80e8946d3d217e8",
       "outputs": [
        {
         "name": "stdout",
         "output_type": "stream",
         "text": "Nucleogenic : ( -0.0  Ne20) ( -0.0  Ne21) ( -0.0  Ne22)\nCosmogenic : ( -0.0  Ne20) ( -0.0  Ne21) ( -0.0  Ne22)\nAir : ( 9048.0  Ne20) ( 27.0  Ne21) ( 925.0  Ne22)\n"
        }
       ]
      }
     },
     "6e76b8f1a9344450a4af05e67d3cf962": {
      "model_module": "@jupyter-widgets/base",
      "model_module_version": "1.1.0",
      "model_name": "LayoutModel",
      "state": {
       "border": "1px solid black"
      }
     },
     "6eb440ce94a7457a9189a7de490b4c0c": {
      "model_module": "@jupyter-widgets/base",
      "model_module_version": "1.1.0",
      "model_name": "LayoutModel",
      "state": {
       "border": "1px solid black"
      }
     },
     "6f100b34da1f49ce955fe17c38c5ca6a": {
      "model_module": "@jupyter-widgets/base",
      "model_module_version": "1.1.0",
      "model_name": "LayoutModel",
      "state": {}
     },
     "6f2525365678447d893fff63c60c4816": {
      "model_module": "@jupyter-widgets/controls",
      "model_module_version": "1.4.0",
      "model_name": "DescriptionStyleModel",
      "state": {
       "description_width": ""
      }
     },
     "6f25a011840a40668b13b58f881ddd55": {
      "model_module": "@jupyter-widgets/base",
      "model_module_version": "1.1.0",
      "model_name": "LayoutModel",
      "state": {}
     },
     "7022ebf1b6394b7d89860c0289bcad2c": {
      "model_module": "@jupyter-widgets/controls",
      "model_module_version": "1.4.0",
      "model_name": "DescriptionStyleModel",
      "state": {
       "description_width": ""
      }
     },
     "70ab3b4523e54c87b67f51d926ddc00f": {
      "model_module": "@jupyter-widgets/controls",
      "model_module_version": "1.4.0",
      "model_name": "DescriptionStyleModel",
      "state": {
       "description_width": "initial"
      }
     },
     "712f0a40e8b64d4aac756e25d073663d": {
      "model_module": "@jupyter-widgets/base",
      "model_module_version": "1.1.0",
      "model_name": "LayoutModel",
      "state": {}
     },
     "71af760d27624e68b3f0c9ae96263b57": {
      "model_module": "@jupyter-widgets/base",
      "model_module_version": "1.1.0",
      "model_name": "LayoutModel",
      "state": {}
     },
     "71f77c19ebaf4eb193f6c633712635c2": {
      "model_module": "@jupyter-widgets/base",
      "model_module_version": "1.1.0",
      "model_name": "LayoutModel",
      "state": {
       "grid_template_areas": "\n            \"system mineral\"\n            ",
       "grid_template_columns": "50% 50%",
       "grid_template_rows": "auto auto auto",
       "width": "100%"
      }
     },
     "71f892936f9f4a118c3a4effef37d909": {
      "model_module": "@jupyter-widgets/controls",
      "model_module_version": "1.4.0",
      "model_name": "GridBoxModel",
      "state": {
       "children": [
        "IPY_MODEL_9bd0684f3e9e437b82f6503046489beb",
        "IPY_MODEL_53c756349d7a4c8786894b8adefef2cd",
        "IPY_MODEL_49b4c5da4e3145cda345cef51b0f0107"
       ],
       "layout": "IPY_MODEL_8f908dce9ae84ac985f08b931a7bb763"
      }
     },
     "72371d93270e4cf7a3c5fd0344b8623d": {
      "model_module": "@jupyter-widgets/controls",
      "model_module_version": "1.4.0",
      "model_name": "FloatTextModel",
      "state": {
       "description": "Neon-20",
       "layout": "IPY_MODEL_97434768aed849cb8238aa4aa88ad771",
       "step": null,
       "style": "IPY_MODEL_ed958d9dd1e846e7a4632401f81e3ead",
       "value": 9048
      }
     },
     "7268638645334e4eb1a2e3f97fde3a9b": {
      "model_module": "@jupyter-widgets/base",
      "model_module_version": "1.1.0",
      "model_name": "LayoutModel",
      "state": {}
     },
     "7274ca3048304833ad200e8e60466093": {
      "model_module": "@jupyter-widgets/controls",
      "model_module_version": "1.4.0",
      "model_name": "ButtonModel",
      "state": {
       "description": "Calculate",
       "icon": "check",
       "layout": "IPY_MODEL_cf2b54c7d20841f3872abf26ebdec5fd",
       "style": "IPY_MODEL_b6a367322b1e4a54acab32a2ae03cc1a",
       "tooltip": "Calculate deconvolution"
      }
     },
     "748638ef97964dad9512a65c1380f8b8": {
      "model_module": "@jupyter-widgets/base",
      "model_module_version": "1.1.0",
      "model_name": "LayoutModel",
      "state": {
       "border": "1px solid black"
      }
     },
     "74fd0d6004ae4002b60c25b47cf7c2f8": {
      "model_module": "@jupyter-widgets/controls",
      "model_module_version": "1.4.0",
      "model_name": "ButtonModel",
      "state": {
       "description": "Calculate",
       "icon": "check",
       "layout": "IPY_MODEL_0d717181ee974dab8f91d6293c1c1e6a",
       "style": "IPY_MODEL_3caa8a13ea504127a4f2acc1473c3ac1",
       "tooltip": "Calculate deconvolution"
      }
     },
     "75113e8978874c468073778c917bef65": {
      "model_module": "@jupyter-widgets/controls",
      "model_module_version": "1.4.0",
      "model_name": "SelectModel",
      "state": {
       "_options_labels": [
        "Nucleogenic/Cosmogenic/Air",
        "Nucleogenic/Mantle/Air",
        "Cosmogenic/Mantle/Air"
       ],
       "description": "Ternary System:",
       "index": 0,
       "layout": "IPY_MODEL_840416d40e314fcfa4dee54f4c328a3d",
       "rows": 4,
       "style": "IPY_MODEL_c702bb9355294785959483d3f7185f10"
      }
     },
     "7629a80326764b7ca25fee6e11405945": {
      "model_module": "@jupyter-widgets/controls",
      "model_module_version": "1.4.0",
      "model_name": "FloatTextModel",
      "state": {
       "description": "Neon-21",
       "layout": "IPY_MODEL_fc590e2e0854463b96f847a5786f2b14",
       "step": null,
       "style": "IPY_MODEL_9e8ec9c68e584ba28ab7d30dfcec7e50",
       "value": 27
      }
     },
     "76c1d832d98940438d3080555c4cd99d": {
      "model_module": "@jupyter-widgets/base",
      "model_module_version": "1.1.0",
      "model_name": "LayoutModel",
      "state": {
       "grid_template_areas": "\n            \"system mineral\"\n            ",
       "grid_template_columns": "50% 50%",
       "grid_template_rows": "auto auto auto",
       "width": "100%"
      }
     },
     "7723a22abc9a4be68d639d94d9ae1870": {
      "model_module": "@jupyter-widgets/controls",
      "model_module_version": "1.4.0",
      "model_name": "DescriptionStyleModel",
      "state": {
       "description_width": "initial"
      }
     },
     "7807daf4bae04be38230b5d5181a8d45": {
      "model_module": "@jupyter-widgets/controls",
      "model_module_version": "1.4.0",
      "model_name": "DescriptionStyleModel",
      "state": {
       "description_width": ""
      }
     },
     "783203a7cca54bed93e385871b4b5b3f": {
      "model_module": "@jupyter-widgets/base",
      "model_module_version": "1.1.0",
      "model_name": "LayoutModel",
      "state": {}
     },
     "786ff7d9e7eb4e98b74ac7e50f1db86c": {
      "model_module": "@jupyter-widgets/controls",
      "model_module_version": "1.4.0",
      "model_name": "SelectModel",
      "state": {
       "_options_labels": [
        "quartz",
        "pyroxene"
       ],
       "description": "Mineral:",
       "index": 0,
       "layout": "IPY_MODEL_2254fdcf07c345c596603ea1f5badaed",
       "rows": 3,
       "style": "IPY_MODEL_541997093ef3433ca24466e5a9c2c56f"
      }
     },
     "796468b4c07c453b89bbc7fd57eb3d43": {
      "model_module": "@jupyter-widgets/base",
      "model_module_version": "1.1.0",
      "model_name": "LayoutModel",
      "state": {}
     },
     "7a5c7b773c8b46c89b55eaf8178af539": {
      "model_module": "@jupyter-widgets/controls",
      "model_module_version": "1.4.0",
      "model_name": "ButtonModel",
      "state": {
       "description": "Calculate",
       "icon": "check",
       "layout": "IPY_MODEL_8004ac77cec847b89b9cd0f3ca5db160",
       "style": "IPY_MODEL_25d455b348c34a068a023a7e40c8488e",
       "tooltip": "Calculate deconvolution"
      }
     },
     "7a641cb02a4248c582dd133f4b3eb2ba": {
      "model_module": "@jupyter-widgets/controls",
      "model_module_version": "1.4.0",
      "model_name": "ButtonStyleModel",
      "state": {}
     },
     "7a6d3bed5a014b33baa52bfb1ffc841e": {
      "model_module": "@jupyter-widgets/controls",
      "model_module_version": "1.4.0",
      "model_name": "ButtonModel",
      "state": {
       "description": "Calculate",
       "icon": "check",
       "layout": "IPY_MODEL_9ccd622682254040ad03701f1c80b3b6",
       "style": "IPY_MODEL_51144e06e5cd46fd838b0fb3de758e67",
       "tooltip": "Calculate deconvolution"
      }
     },
     "7ab5d7db0c1b4d27889795cfce958b43": {
      "model_module": "@jupyter-widgets/controls",
      "model_module_version": "1.4.0",
      "model_name": "FloatTextModel",
      "state": {
       "description": "Neon-20",
       "layout": "IPY_MODEL_6f100b34da1f49ce955fe17c38c5ca6a",
       "step": null,
       "style": "IPY_MODEL_b60e2f02481743788e7974ec6e630a1c",
       "value": 9048
      }
     },
     "7b7719b91a184be3a66c80893afadd48": {
      "model_module": "@jupyter-widgets/controls",
      "model_module_version": "1.4.0",
      "model_name": "ButtonModel",
      "state": {
       "description": "Calculate",
       "icon": "check",
       "layout": "IPY_MODEL_be8bd2337da047658bf5d4e26d5e87ee",
       "style": "IPY_MODEL_f9ae3ec79ae443d0b4e563f615191ab4",
       "tooltip": "Calculate deconvolution"
      }
     },
     "7c15abd93af9456481767c064f7d453e": {
      "model_module": "@jupyter-widgets/controls",
      "model_module_version": "1.4.0",
      "model_name": "FloatTextModel",
      "state": {
       "description": "Neon-22",
       "layout": "IPY_MODEL_9161258b0b9e4f27a662469c93760fc1",
       "step": null,
       "style": "IPY_MODEL_2606db5f6887464481ac71fe611cc835",
       "value": 925
      }
     },
     "7c178bfa6a3642e7a7936e79e7121c7f": {
      "model_module": "@jupyter-widgets/controls",
      "model_module_version": "1.4.0",
      "model_name": "ButtonModel",
      "state": {
       "description": "Calculate",
       "icon": "check",
       "layout": "IPY_MODEL_796468b4c07c453b89bbc7fd57eb3d43",
       "style": "IPY_MODEL_574d5edcbb25413a87f1cc1dd2d307fe",
       "tooltip": "Calculate deconvolution"
      }
     },
     "7c5cda0f0b9040e1acf37c4eeca6e40b": {
      "model_module": "@jupyter-widgets/controls",
      "model_module_version": "1.4.0",
      "model_name": "ButtonStyleModel",
      "state": {}
     },
     "7dad65f8eb124c44a2df8eed711023d1": {
      "model_module": "@jupyter-widgets/base",
      "model_module_version": "1.1.0",
      "model_name": "LayoutModel",
      "state": {}
     },
     "7e08d1a01ccf4e688c8dc0afbe68f1cd": {
      "model_module": "@jupyter-widgets/base",
      "model_module_version": "1.1.0",
      "model_name": "LayoutModel",
      "state": {
       "border": "1px solid black"
      }
     },
     "7e448bc5e91c478eb910ca58c1519876": {
      "model_module": "@jupyter-widgets/base",
      "model_module_version": "1.1.0",
      "model_name": "LayoutModel",
      "state": {}
     },
     "7f7b8b63eae9426192af47179b809499": {
      "model_module": "@jupyter-widgets/controls",
      "model_module_version": "1.4.0",
      "model_name": "FloatTextModel",
      "state": {
       "description": "Neon-20",
       "layout": "IPY_MODEL_cadea5cf57314132b112c998e540e458",
       "step": null,
       "style": "IPY_MODEL_51935ee25ab84264abe794e9bc6243a2",
       "value": 9048
      }
     },
     "8004ac77cec847b89b9cd0f3ca5db160": {
      "model_module": "@jupyter-widgets/base",
      "model_module_version": "1.1.0",
      "model_name": "LayoutModel",
      "state": {}
     },
     "804aac347947439388ebe5e96821df37": {
      "model_module": "@jupyter-widgets/controls",
      "model_module_version": "1.4.0",
      "model_name": "GridBoxModel",
      "state": {
       "children": [
        "IPY_MODEL_99e978dac7a04fd6bfe0b3ad317b8b24",
        "IPY_MODEL_9aa912b7172c44018cfdd4bd24d6ce09",
        "IPY_MODEL_4cfc208abfe54367a35ee0dd980db317"
       ],
       "layout": "IPY_MODEL_f175f2f30bbd4446a214e73224f67ac7"
      }
     },
     "80b65123da694ce38f5c7c7af788dada": {
      "model_module": "@jupyter-widgets/controls",
      "model_module_version": "1.4.0",
      "model_name": "ButtonModel",
      "state": {
       "description": "Calculate",
       "icon": "check",
       "layout": "IPY_MODEL_6f25a011840a40668b13b58f881ddd55",
       "style": "IPY_MODEL_fdccd6dcefc441d890db16e0d139f659",
       "tooltip": "Calculate deconvolution"
      }
     },
     "80d799f3d3f344919c02c1052048c879": {
      "model_module": "@jupyter-widgets/base",
      "model_module_version": "1.1.0",
      "model_name": "LayoutModel",
      "state": {}
     },
     "8254916c9fe6452a9e686d495c6db979": {
      "model_module": "@jupyter-widgets/controls",
      "model_module_version": "1.4.0",
      "model_name": "DescriptionStyleModel",
      "state": {
       "description_width": ""
      }
     },
     "840416d40e314fcfa4dee54f4c328a3d": {
      "model_module": "@jupyter-widgets/base",
      "model_module_version": "1.1.0",
      "model_name": "LayoutModel",
      "state": {}
     },
     "85746b115cb84a95a524e58a47a07411": {
      "model_module": "@jupyter-widgets/base",
      "model_module_version": "1.1.0",
      "model_name": "LayoutModel",
      "state": {}
     },
     "857724ab9cea4c62bce734afa7aa0aea": {
      "model_module": "@jupyter-widgets/controls",
      "model_module_version": "1.4.0",
      "model_name": "SelectModel",
      "state": {
       "_options_labels": [
        "Nucleogenic/Cosmogenic/Air",
        "Nucleogenic/Mantle/Air",
        "Cosmogenic/Mantle/Air"
       ],
       "description": "Ternary System:",
       "index": 0,
       "layout": "IPY_MODEL_b925f36fd20b485a9d0ccec6dc333b2f",
       "rows": 4,
       "style": "IPY_MODEL_1ba6e036caf84ed6a93c2a9859cc5efb"
      }
     },
     "85ab5d00a44a4ea7bf1386e6fbbc7f43": {
      "model_module": "@jupyter-widgets/controls",
      "model_module_version": "1.4.0",
      "model_name": "ButtonStyleModel",
      "state": {}
     },
     "85ce8143b8504ef7b53bbee4e4904acc": {
      "model_module": "@jupyter-widgets/controls",
      "model_module_version": "1.4.0",
      "model_name": "DescriptionStyleModel",
      "state": {
       "description_width": ""
      }
     },
     "86246d205c2c4d719fef7ae3a51be977": {
      "model_module": "@jupyter-widgets/controls",
      "model_module_version": "1.4.0",
      "model_name": "DescriptionStyleModel",
      "state": {
       "description_width": "initial"
      }
     },
     "867f061e72dc4638a3b714c1652ecde5": {
      "model_module": "@jupyter-widgets/controls",
      "model_module_version": "1.4.0",
      "model_name": "DescriptionStyleModel",
      "state": {
       "description_width": "initial"
      }
     },
     "87c73f601e464a38b246e5361d257b53": {
      "model_module": "@jupyter-widgets/controls",
      "model_module_version": "1.4.0",
      "model_name": "FloatTextModel",
      "state": {
       "description": "Neon-20",
       "layout": "IPY_MODEL_62f889d747c54c279602b78ac9c97976",
       "step": null,
       "style": "IPY_MODEL_c5d20f7ef36340de95cbb9d8a6387cdd",
       "value": 9048
      }
     },
     "87f60c33257e47afbb683cf76c00f000": {
      "model_module": "@jupyter-widgets/controls",
      "model_module_version": "1.4.0",
      "model_name": "GridBoxModel",
      "state": {
       "children": [
        "IPY_MODEL_72371d93270e4cf7a3c5fd0344b8623d",
        "IPY_MODEL_b2e00c93b80147ccb74d4dc89a7f6cfe",
        "IPY_MODEL_3f21f5a4183a48d8a486115b59a8c536"
       ],
       "layout": "IPY_MODEL_5d0d22a0584c4fd28a0d7fa24101b3c2"
      }
     },
     "8866afa01ee0470f993e933cef0c1ec5": {
      "model_module": "@jupyter-widgets/controls",
      "model_module_version": "1.4.0",
      "model_name": "DescriptionStyleModel",
      "state": {
       "description_width": ""
      }
     },
     "888de141b2fc4eb6ba1f2972a090084b": {
      "model_module": "@jupyter-widgets/base",
      "model_module_version": "1.1.0",
      "model_name": "LayoutModel",
      "state": {
       "grid_template_areas": "\n            \"Ne20 Ne21 Ne22\"\n            ",
       "grid_template_columns": "33% 33% 33%",
       "grid_template_rows": "auto auto auto",
       "width": "100%"
      }
     },
     "895cc05c15874f97a8570ee93ee1b5d5": {
      "model_module": "@jupyter-widgets/controls",
      "model_module_version": "1.4.0",
      "model_name": "ButtonStyleModel",
      "state": {}
     },
     "898a14deb20c4185bac164f21893687a": {
      "model_module": "@jupyter-widgets/controls",
      "model_module_version": "1.4.0",
      "model_name": "DescriptionStyleModel",
      "state": {
       "description_width": ""
      }
     },
     "89966d7616ad444294369ba8e9f52307": {
      "model_module": "@jupyter-widgets/controls",
      "model_module_version": "1.4.0",
      "model_name": "GridBoxModel",
      "state": {
       "children": [
        "IPY_MODEL_75113e8978874c468073778c917bef65",
        "IPY_MODEL_59d3c1ddcb4948d0a7ae05712e5c26e2"
       ],
       "layout": "IPY_MODEL_9bd5c4ba12ce48d1aa7df41e234a61fc"
      }
     },
     "89b8d9453e17421e8524ad94bdb0923e": {
      "model_module": "@jupyter-widgets/controls",
      "model_module_version": "1.4.0",
      "model_name": "DescriptionStyleModel",
      "state": {
       "description_width": ""
      }
     },
     "89d826725aaa4646853bf7b6536ebc05": {
      "model_module": "@jupyter-widgets/base",
      "model_module_version": "1.1.0",
      "model_name": "LayoutModel",
      "state": {}
     },
     "89e8e9cd7935446ea00b9bd9a8685b15": {
      "model_module": "@jupyter-widgets/base",
      "model_module_version": "1.1.0",
      "model_name": "LayoutModel",
      "state": {
       "border": "1px solid black"
      }
     },
     "8a7ef4bd57174c8fb0361577786fcd5a": {
      "model_module": "@jupyter-widgets/controls",
      "model_module_version": "1.4.0",
      "model_name": "FloatTextModel",
      "state": {
       "description": "Neon-22",
       "layout": "IPY_MODEL_1a1d06df770f41699b3f127794d034a2",
       "step": null,
       "style": "IPY_MODEL_a0f97cce503d404d85cbc8596da0c772",
       "value": 925
      }
     },
     "8b712cc6ad4d40888836e1c6fc01368a": {
      "model_module": "@jupyter-widgets/controls",
      "model_module_version": "1.4.0",
      "model_name": "DescriptionStyleModel",
      "state": {
       "description_width": ""
      }
     },
     "8c060a9f99654d389a973d46d88da5db": {
      "model_module": "@jupyter-widgets/controls",
      "model_module_version": "1.4.0",
      "model_name": "DescriptionStyleModel",
      "state": {
       "description_width": ""
      }
     },
     "8c96b47015cc49c7a63101bc1f7a7d25": {
      "model_module": "@jupyter-widgets/controls",
      "model_module_version": "1.4.0",
      "model_name": "SelectModel",
      "state": {
       "_options_labels": [
        "quartz",
        "pyroxene"
       ],
       "description": "Mineral:",
       "index": 0,
       "layout": "IPY_MODEL_028ca253e9514e2ea1d53837ff81ecef",
       "rows": 3,
       "style": "IPY_MODEL_90d9997a76724eb690ec8e6e4156f6f4"
      }
     },
     "8d52e4d6ff324eb8bb0dbe52ecdf0baf": {
      "model_module": "@jupyter-widgets/base",
      "model_module_version": "1.1.0",
      "model_name": "LayoutModel",
      "state": {
       "grid_template_areas": "\n            \"system mineral\"\n            ",
       "grid_template_columns": "50% 50%",
       "grid_template_rows": "auto auto auto",
       "width": "100%"
      }
     },
     "8d6c7ad27ebc4a6296cd2acd5278afe9": {
      "model_module": "@jupyter-widgets/controls",
      "model_module_version": "1.4.0",
      "model_name": "DescriptionStyleModel",
      "state": {
       "description_width": "initial"
      }
     },
     "8daa6084a0c045e9ba7f883336f42bdf": {
      "model_module": "@jupyter-widgets/controls",
      "model_module_version": "1.4.0",
      "model_name": "ButtonStyleModel",
      "state": {}
     },
     "8e28328e86a14b6c95edb05c9509a42d": {
      "model_module": "@jupyter-widgets/base",
      "model_module_version": "1.1.0",
      "model_name": "LayoutModel",
      "state": {}
     },
     "8f908dce9ae84ac985f08b931a7bb763": {
      "model_module": "@jupyter-widgets/base",
      "model_module_version": "1.1.0",
      "model_name": "LayoutModel",
      "state": {
       "grid_template_areas": "\n            \"Ne20 Ne21 Ne22\"\n            ",
       "grid_template_columns": "33% 33% 33%",
       "grid_template_rows": "auto auto auto",
       "width": "100%"
      }
     },
     "9000a15dcea14decbcd224d88ad4242a": {
      "model_module": "@jupyter-widgets/controls",
      "model_module_version": "1.4.0",
      "model_name": "DescriptionStyleModel",
      "state": {
       "description_width": "initial"
      }
     },
     "906bbc75f4074007959bd3b7be3c2caa": {
      "model_module": "@jupyter-widgets/base",
      "model_module_version": "1.1.0",
      "model_name": "LayoutModel",
      "state": {
       "border": "1px solid black"
      }
     },
     "9071eb9a2b7e4e8bb98930547c931dbf": {
      "model_module": "@jupyter-widgets/base",
      "model_module_version": "1.1.0",
      "model_name": "LayoutModel",
      "state": {}
     },
     "90d9997a76724eb690ec8e6e4156f6f4": {
      "model_module": "@jupyter-widgets/controls",
      "model_module_version": "1.4.0",
      "model_name": "DescriptionStyleModel",
      "state": {
       "description_width": "initial"
      }
     },
     "9161258b0b9e4f27a662469c93760fc1": {
      "model_module": "@jupyter-widgets/base",
      "model_module_version": "1.1.0",
      "model_name": "LayoutModel",
      "state": {}
     },
     "917ee98691b44cbdbf86c6cd105e99c5": {
      "model_module": "@jupyter-widgets/base",
      "model_module_version": "1.1.0",
      "model_name": "LayoutModel",
      "state": {}
     },
     "918f855b774148fdaea9cfbeda1469e4": {
      "model_module": "@jupyter-widgets/base",
      "model_module_version": "1.1.0",
      "model_name": "LayoutModel",
      "state": {}
     },
     "91d3521b80fe4bc58ff5638cf34e0565": {
      "model_module": "@jupyter-widgets/controls",
      "model_module_version": "1.4.0",
      "model_name": "SelectModel",
      "state": {
       "_options_labels": [
        "Nucleogenic/Cosmogenic/Air",
        "Nucleogenic/Mantle/Air",
        "Cosmogenic/Mantle/Air"
       ],
       "description": "Ternary System:",
       "index": 0,
       "layout": "IPY_MODEL_4f4996e2423540f18810a0756659d77d",
       "rows": 4,
       "style": "IPY_MODEL_968b94a82c02451692c13ce3a5524e11"
      }
     },
     "91e0fc9edc444ae0b89af1cdbce395e5": {
      "model_module": "@jupyter-widgets/base",
      "model_module_version": "1.1.0",
      "model_name": "LayoutModel",
      "state": {}
     },
     "926d89837137464ea170134db9ffab67": {
      "model_module": "@jupyter-widgets/base",
      "model_module_version": "1.1.0",
      "model_name": "LayoutModel",
      "state": {}
     },
     "92f293b38e4c44f4a9e6c5578b3a6473": {
      "model_module": "@jupyter-widgets/controls",
      "model_module_version": "1.4.0",
      "model_name": "DescriptionStyleModel",
      "state": {
       "description_width": ""
      }
     },
     "9359753ad4b74934861aef23b7b0b612": {
      "model_module": "@jupyter-widgets/controls",
      "model_module_version": "1.4.0",
      "model_name": "ButtonModel",
      "state": {
       "description": "Calculate",
       "icon": "check",
       "layout": "IPY_MODEL_33921c70a30d44d1aec19494cfbf99b2",
       "style": "IPY_MODEL_3987031286ae42f0ae25c9d94284a61f",
       "tooltip": "Calculate deconvolution"
      }
     },
     "93740d9c7dac4bc2abb1561bcd4e25d2": {
      "model_module": "@jupyter-widgets/controls",
      "model_module_version": "1.4.0",
      "model_name": "ButtonModel",
      "state": {
       "description": "Calculate",
       "icon": "check",
       "layout": "IPY_MODEL_a9964bc0d7214ffba684a6118d5525a7",
       "style": "IPY_MODEL_7c5cda0f0b9040e1acf37c4eeca6e40b",
       "tooltip": "Calculate deconvolution"
      }
     },
     "941944038e9b4ef3b609dadd9c09f3c5": {
      "model_module": "@jupyter-widgets/controls",
      "model_module_version": "1.4.0",
      "model_name": "ButtonStyleModel",
      "state": {}
     },
     "942f0d7c340b4c65acd9e33c25f7c1bf": {
      "model_module": "@jupyter-widgets/base",
      "model_module_version": "1.1.0",
      "model_name": "LayoutModel",
      "state": {}
     },
     "9550bb1652b548378044f0e87e03fbb2": {
      "model_module": "@jupyter-widgets/base",
      "model_module_version": "1.1.0",
      "model_name": "LayoutModel",
      "state": {
       "border": "1px solid black"
      }
     },
     "958f7683680d453992e40f933ec24182": {
      "model_module": "@jupyter-widgets/controls",
      "model_module_version": "1.4.0",
      "model_name": "DescriptionStyleModel",
      "state": {
       "description_width": "initial"
      }
     },
     "95984e273da94e2296a79bfce10e8226": {
      "model_module": "@jupyter-widgets/controls",
      "model_module_version": "1.4.0",
      "model_name": "ButtonModel",
      "state": {
       "description": "Calculate",
       "icon": "check",
       "layout": "IPY_MODEL_116f11c2aaa24dceae6aa786139538fe",
       "style": "IPY_MODEL_4f69d9e8aca248a4b16d92cfffc7c9e0",
       "tooltip": "Calculate deconvolution"
      }
     },
     "95cbfda592aa45cfbeb5a9fe8ae85c55": {
      "model_module": "@jupyter-widgets/controls",
      "model_module_version": "1.4.0",
      "model_name": "ButtonStyleModel",
      "state": {}
     },
     "968b94a82c02451692c13ce3a5524e11": {
      "model_module": "@jupyter-widgets/controls",
      "model_module_version": "1.4.0",
      "model_name": "DescriptionStyleModel",
      "state": {
       "description_width": "initial"
      }
     },
     "96e89090175f483db8ffaeade828e369": {
      "model_module": "@jupyter-widgets/controls",
      "model_module_version": "1.4.0",
      "model_name": "DescriptionStyleModel",
      "state": {
       "description_width": "initial"
      }
     },
     "9712397214d84985a2000b5c57d32d87": {
      "model_module": "@jupyter-widgets/controls",
      "model_module_version": "1.4.0",
      "model_name": "DescriptionStyleModel",
      "state": {
       "description_width": ""
      }
     },
     "97434768aed849cb8238aa4aa88ad771": {
      "model_module": "@jupyter-widgets/base",
      "model_module_version": "1.1.0",
      "model_name": "LayoutModel",
      "state": {}
     },
     "98b96cf79c1644fa91f556e6ee54b066": {
      "model_module": "@jupyter-widgets/controls",
      "model_module_version": "1.4.0",
      "model_name": "GridBoxModel",
      "state": {
       "children": [
        "IPY_MODEL_4f5757d171b0440fa3b9ea62ab6ba91c",
        "IPY_MODEL_0fa2b0bea54e45d49a71ebcd8fd3a502"
       ],
       "layout": "IPY_MODEL_d54d297594794ca6b0ded7da3e032aa1"
      }
     },
     "98bb94353d95481cb4ef1b87248c4c17": {
      "model_module": "@jupyter-widgets/base",
      "model_module_version": "1.1.0",
      "model_name": "LayoutModel",
      "state": {}
     },
     "98ead62c946c4fe29d33a7cd84c05050": {
      "model_module": "@jupyter-widgets/base",
      "model_module_version": "1.1.0",
      "model_name": "LayoutModel",
      "state": {}
     },
     "99b420daf6a2400599f9350fa9fff092": {
      "model_module": "@jupyter-widgets/controls",
      "model_module_version": "1.4.0",
      "model_name": "ButtonStyleModel",
      "state": {}
     },
     "99da7f99b2b344ddaa5424f746974cc7": {
      "model_module": "@jupyter-widgets/base",
      "model_module_version": "1.1.0",
      "model_name": "LayoutModel",
      "state": {}
     },
     "99e978dac7a04fd6bfe0b3ad317b8b24": {
      "model_module": "@jupyter-widgets/controls",
      "model_module_version": "1.4.0",
      "model_name": "FloatTextModel",
      "state": {
       "description": "Neon-20",
       "layout": "IPY_MODEL_fee8231987384977a68a24787473d814",
       "step": null,
       "style": "IPY_MODEL_d32f29ff0c5545e6b32d335edfdcc6a6",
       "value": 9048
      }
     },
     "99eb1969e7b743d49647350b46005d2f": {
      "model_module": "@jupyter-widgets/controls",
      "model_module_version": "1.4.0",
      "model_name": "ButtonStyleModel",
      "state": {}
     },
     "9aa912b7172c44018cfdd4bd24d6ce09": {
      "model_module": "@jupyter-widgets/controls",
      "model_module_version": "1.4.0",
      "model_name": "FloatTextModel",
      "state": {
       "description": "Neon-21",
       "layout": "IPY_MODEL_cef735e5b91245d6936a1c72e29b6370",
       "step": null,
       "style": "IPY_MODEL_6f2525365678447d893fff63c60c4816",
       "value": 54
      }
     },
     "9b3d23acb7604d18a28c80724a389597": {
      "model_module": "@jupyter-widgets/base",
      "model_module_version": "1.1.0",
      "model_name": "LayoutModel",
      "state": {
       "border": "1px solid black"
      }
     },
     "9b4e02d9d11740f59281235866882a38": {
      "model_module": "@jupyter-widgets/base",
      "model_module_version": "1.1.0",
      "model_name": "LayoutModel",
      "state": {
       "border": "1px solid black"
      }
     },
     "9bd0684f3e9e437b82f6503046489beb": {
      "model_module": "@jupyter-widgets/controls",
      "model_module_version": "1.4.0",
      "model_name": "FloatTextModel",
      "state": {
       "description": "Neon-20",
       "layout": "IPY_MODEL_0a431c03530b471d853043583a3f17ff",
       "step": null,
       "style": "IPY_MODEL_d4b630e67e2f4d50bba85d0eaebcf6cd",
       "value": 9048
      }
     },
     "9bd5c4ba12ce48d1aa7df41e234a61fc": {
      "model_module": "@jupyter-widgets/base",
      "model_module_version": "1.1.0",
      "model_name": "LayoutModel",
      "state": {
       "grid_template_areas": "\n            \"system mineral\"\n            ",
       "grid_template_columns": "50% 50%",
       "grid_template_rows": "auto auto auto",
       "width": "100%"
      }
     },
     "9bd74d521add43c9bf5a63ec0142ede9": {
      "model_module": "@jupyter-widgets/base",
      "model_module_version": "1.1.0",
      "model_name": "LayoutModel",
      "state": {}
     },
     "9c35c4217ddb4b62a973fc4afed458b6": {
      "model_module": "@jupyter-widgets/base",
      "model_module_version": "1.1.0",
      "model_name": "LayoutModel",
      "state": {}
     },
     "9cad5c7121e4411b81b45252337b801c": {
      "model_module": "@jupyter-widgets/base",
      "model_module_version": "1.1.0",
      "model_name": "LayoutModel",
      "state": {}
     },
     "9ccd622682254040ad03701f1c80b3b6": {
      "model_module": "@jupyter-widgets/base",
      "model_module_version": "1.1.0",
      "model_name": "LayoutModel",
      "state": {}
     },
     "9dc8f26a9b85428abeebc93136483fe8": {
      "model_module": "@jupyter-widgets/controls",
      "model_module_version": "1.4.0",
      "model_name": "ButtonModel",
      "state": {
       "description": "Calculate",
       "icon": "check",
       "layout": "IPY_MODEL_25801480ad334e0ba00566a48ee81656",
       "style": "IPY_MODEL_7a641cb02a4248c582dd133f4b3eb2ba",
       "tooltip": "Calculate deconvolution"
      }
     },
     "9e8ec9c68e584ba28ab7d30dfcec7e50": {
      "model_module": "@jupyter-widgets/controls",
      "model_module_version": "1.4.0",
      "model_name": "DescriptionStyleModel",
      "state": {
       "description_width": ""
      }
     },
     "9f88c9c67eb641be857ad05c04401b32": {
      "model_module": "@jupyter-widgets/base",
      "model_module_version": "1.1.0",
      "model_name": "LayoutModel",
      "state": {}
     },
     "9f9c8d7604be428aa099b91508af1f1a": {
      "model_module": "@jupyter-widgets/controls",
      "model_module_version": "1.4.0",
      "model_name": "GridBoxModel",
      "state": {
       "children": [
        "IPY_MODEL_b0f0911e626340a680fc4a7bb1b562ea",
        "IPY_MODEL_5b15abc8d4b34619b3a645d4ea26122b"
       ],
       "layout": "IPY_MODEL_76c1d832d98940438d3080555c4cd99d"
      }
     },
     "9fdb0b1f7e2040219be51b7fcc73dd0b": {
      "model_module": "@jupyter-widgets/base",
      "model_module_version": "1.1.0",
      "model_name": "LayoutModel",
      "state": {}
     },
     "a0f97cce503d404d85cbc8596da0c772": {
      "model_module": "@jupyter-widgets/controls",
      "model_module_version": "1.4.0",
      "model_name": "DescriptionStyleModel",
      "state": {
       "description_width": ""
      }
     },
     "a1311236088645ad9283c5b3dbeec08a": {
      "model_module": "@jupyter-widgets/output",
      "model_module_version": "1.0.0",
      "model_name": "OutputModel",
      "state": {
       "layout": "IPY_MODEL_748638ef97964dad9512a65c1380f8b8",
       "outputs": [
        {
         "name": "stdout",
         "output_type": "stream",
         "text": "Nucleogenic : ( -0.0  Ne20) ( -0.0  Ne21) ( -0.0  Ne22)\nCosmogenic : ( -0.0  Ne20) ( -0.0  Ne21) ( -0.0  Ne22)\nAir : ( 9048.0  Ne20) ( 27.0  Ne21) ( 925.0  Ne22)\n"
        }
       ]
      }
     },
     "a1b8458c318b4703bdbec38bf44aa2c4": {
      "model_module": "@jupyter-widgets/base",
      "model_module_version": "1.1.0",
      "model_name": "LayoutModel",
      "state": {}
     },
     "a1daaf6911ba475eaa4fdc54c1a45209": {
      "model_module": "@jupyter-widgets/controls",
      "model_module_version": "1.4.0",
      "model_name": "DescriptionStyleModel",
      "state": {
       "description_width": "initial"
      }
     },
     "a247ba5de6db49819e45556291cbb7cb": {
      "model_module": "@jupyter-widgets/base",
      "model_module_version": "1.1.0",
      "model_name": "LayoutModel",
      "state": {}
     },
     "a53b24053ad9459e9e7cfc7e3f6a9ba3": {
      "model_module": "@jupyter-widgets/base",
      "model_module_version": "1.1.0",
      "model_name": "LayoutModel",
      "state": {}
     },
     "a64bea9816484ef48c658f26c1b50966": {
      "model_module": "@jupyter-widgets/controls",
      "model_module_version": "1.4.0",
      "model_name": "FloatTextModel",
      "state": {
       "description": "Neon-21",
       "layout": "IPY_MODEL_e1ff1450c4574fdc8cafb6d0c797466b",
       "step": null,
       "style": "IPY_MODEL_608e7ff9d8834a7283e86d81284edd5c",
       "value": 27
      }
     },
     "a64e1a9e30d540eeb0eb144ced2947c4": {
      "model_module": "@jupyter-widgets/base",
      "model_module_version": "1.1.0",
      "model_name": "LayoutModel",
      "state": {
       "border": "1px solid black"
      }
     },
     "a7892f1fb1dd48d8a122a5891f5cff75": {
      "model_module": "@jupyter-widgets/controls",
      "model_module_version": "1.4.0",
      "model_name": "FloatTextModel",
      "state": {
       "description": "Neon-21",
       "layout": "IPY_MODEL_fc0e078f718a4934aecdf2d90fe7ff08",
       "step": null,
       "style": "IPY_MODEL_8c060a9f99654d389a973d46d88da5db",
       "value": 27
      }
     },
     "a8e70731f8814c46bd24634a66bb4af6": {
      "model_module": "@jupyter-widgets/base",
      "model_module_version": "1.1.0",
      "model_name": "LayoutModel",
      "state": {
       "grid_template_areas": "\n            \"Ne20 Ne21 Ne22\"\n            ",
       "grid_template_columns": "33% 33% 33%",
       "grid_template_rows": "auto auto auto",
       "width": "100%"
      }
     },
     "a96ff4304e7a4310bb928f9424ad6e7d": {
      "model_module": "@jupyter-widgets/controls",
      "model_module_version": "1.4.0",
      "model_name": "GridBoxModel",
      "state": {
       "children": [
        "IPY_MODEL_fbcdc167ae0e49c9ab475ca56026b876",
        "IPY_MODEL_3fda49299b5f4058907b296b2646d506"
       ],
       "layout": "IPY_MODEL_ced1ac17692c462ba8889bbddf33a9f2"
      }
     },
     "a9964bc0d7214ffba684a6118d5525a7": {
      "model_module": "@jupyter-widgets/base",
      "model_module_version": "1.1.0",
      "model_name": "LayoutModel",
      "state": {}
     },
     "a9e7470d0410419fabdb3b35a4c2b515": {
      "model_module": "@jupyter-widgets/controls",
      "model_module_version": "1.4.0",
      "model_name": "GridBoxModel",
      "state": {
       "children": [
        "IPY_MODEL_fd1b0c33ef1347ddad5c226a0cce5371",
        "IPY_MODEL_4680dbd40bb44e1f9ed96875d3043d11"
       ],
       "layout": "IPY_MODEL_f6becedd0b2b4df5b22f56c75fdea20f"
      }
     },
     "ab0c791931aa4950a00d5ca60c4e9c44": {
      "model_module": "@jupyter-widgets/base",
      "model_module_version": "1.1.0",
      "model_name": "LayoutModel",
      "state": {}
     },
     "abaa9b34a539463d85a0be712315a062": {
      "model_module": "@jupyter-widgets/controls",
      "model_module_version": "1.4.0",
      "model_name": "ButtonModel",
      "state": {
       "description": "Calculate",
       "icon": "check",
       "layout": "IPY_MODEL_0fd7c1997d454095a8ef7c6956f2c0b2",
       "style": "IPY_MODEL_da5c3e6cca264307938b229dcddd462a",
       "tooltip": "Calculate deconvolution"
      }
     },
     "abf3229ce9f840118a66534ddf9afb57": {
      "model_module": "@jupyter-widgets/controls",
      "model_module_version": "1.4.0",
      "model_name": "ButtonStyleModel",
      "state": {}
     },
     "acd23a20585946c78fb4c4d107118705": {
      "model_module": "@jupyter-widgets/base",
      "model_module_version": "1.1.0",
      "model_name": "LayoutModel",
      "state": {}
     },
     "ad9b5e01023c49a09beec159ac2b5398": {
      "model_module": "@jupyter-widgets/controls",
      "model_module_version": "1.4.0",
      "model_name": "GridBoxModel",
      "state": {
       "children": [
        "IPY_MODEL_0fde1c7f419a499db454957b3071b8cb",
        "IPY_MODEL_b837c8254f8e4182a2cece9403674689",
        "IPY_MODEL_c997d08563f048e7846271acfb574b34"
       ],
       "layout": "IPY_MODEL_c20cd92852404e4e939efd71f2520cae"
      }
     },
     "ae23ca788f6247588c25767731734c44": {
      "model_module": "@jupyter-widgets/controls",
      "model_module_version": "1.4.0",
      "model_name": "FloatTextModel",
      "state": {
       "description": "Neon-20",
       "layout": "IPY_MODEL_0b9795d9f4e84d25aae1277dbfeed13f",
       "step": null,
       "style": "IPY_MODEL_4d986b9c5364410ebc5981461ff3d2ea",
       "value": 9048
      }
     },
     "afb733287ced40babc7b0d3109dc1b6a": {
      "model_module": "@jupyter-widgets/base",
      "model_module_version": "1.1.0",
      "model_name": "LayoutModel",
      "state": {}
     },
     "afd532e082954270bea8d57e230155da": {
      "model_module": "@jupyter-widgets/controls",
      "model_module_version": "1.4.0",
      "model_name": "GridBoxModel",
      "state": {
       "children": [
        "IPY_MODEL_2c129eda3af344078ba1f0fada8555e3",
        "IPY_MODEL_e175d8bf81f64207b5341ca596fce276"
       ],
       "layout": "IPY_MODEL_dc0d809d64614c7697b844f34a400f49"
      }
     },
     "afdce077c9d24a039796cfc331f65391": {
      "model_module": "@jupyter-widgets/controls",
      "model_module_version": "1.4.0",
      "model_name": "FloatTextModel",
      "state": {
       "description": "Neon-22",
       "layout": "IPY_MODEL_e4420100d1fc4a56b4cd0e661dd6b9d5",
       "step": null,
       "style": "IPY_MODEL_1ca3c2e320ed42c7848cbc619274e6c3",
       "value": 925
      }
     },
     "b0f0911e626340a680fc4a7bb1b562ea": {
      "model_module": "@jupyter-widgets/controls",
      "model_module_version": "1.4.0",
      "model_name": "SelectModel",
      "state": {
       "_options_labels": [
        "Nucleogenic/Cosmogenic/Air",
        "Nucleogenic/Mantle/Air",
        "Cosmogenic/Mantle/Air"
       ],
       "description": "Ternary System:",
       "index": 0,
       "layout": "IPY_MODEL_98bb94353d95481cb4ef1b87248c4c17",
       "rows": 4,
       "style": "IPY_MODEL_37ef8f6e6bdd4bf4b73357cd24f6ef0f"
      }
     },
     "b1bd7eb246e64cff9a8ecceace462be6": {
      "model_module": "@jupyter-widgets/controls",
      "model_module_version": "1.4.0",
      "model_name": "GridBoxModel",
      "state": {
       "children": [
        "IPY_MODEL_17e24f95d85442089f784ccdc12da46e",
        "IPY_MODEL_1d845d2829e84322801146b66d8de2ce"
       ],
       "layout": "IPY_MODEL_08865ecd192d45a4ae7a3514122375c4"
      }
     },
     "b1d2b8c8310643f7a0fe790a545ddc6f": {
      "model_module": "@jupyter-widgets/controls",
      "model_module_version": "1.4.0",
      "model_name": "FloatTextModel",
      "state": {
       "description": "Neon-22",
       "layout": "IPY_MODEL_cd7436edd9c54d18af28cc1398dda044",
       "step": null,
       "style": "IPY_MODEL_3baa756c89fb44008a01bef3a69d4d3f",
       "value": 925
      }
     },
     "b297dd563da24bb99dadff40da85e4e7": {
      "model_module": "@jupyter-widgets/base",
      "model_module_version": "1.1.0",
      "model_name": "LayoutModel",
      "state": {
       "grid_template_areas": "\n            \"system mineral\"\n            ",
       "grid_template_columns": "50% 50%",
       "grid_template_rows": "auto auto auto",
       "width": "100%"
      }
     },
     "b2e00c93b80147ccb74d4dc89a7f6cfe": {
      "model_module": "@jupyter-widgets/controls",
      "model_module_version": "1.4.0",
      "model_name": "FloatTextModel",
      "state": {
       "description": "Neon-21",
       "layout": "IPY_MODEL_39d72794d13d447ebae8773ccfcbfbda",
       "step": null,
       "style": "IPY_MODEL_64b3963b2e3f489c9b674af2edcc09bc",
       "value": 54
      }
     },
     "b355d4503ac64f289c1fce90a1ab0481": {
      "model_module": "@jupyter-widgets/controls",
      "model_module_version": "1.4.0",
      "model_name": "ButtonModel",
      "state": {
       "description": "Calculate",
       "icon": "check",
       "layout": "IPY_MODEL_5755265171064964bda89d316e0a17a2",
       "style": "IPY_MODEL_85ab5d00a44a4ea7bf1386e6fbbc7f43",
       "tooltip": "Calculate deconvolution"
      }
     },
     "b3a503f8a32e4270939e889176d2e054": {
      "model_module": "@jupyter-widgets/base",
      "model_module_version": "1.1.0",
      "model_name": "LayoutModel",
      "state": {
       "grid_template_areas": "\n            \"system mineral\"\n            ",
       "grid_template_columns": "50% 50%",
       "grid_template_rows": "auto auto auto",
       "width": "100%"
      }
     },
     "b45c9c29b30643ef9efff6cc51460f53": {
      "model_module": "@jupyter-widgets/controls",
      "model_module_version": "1.4.0",
      "model_name": "FloatTextModel",
      "state": {
       "description": "Neon-21",
       "layout": "IPY_MODEL_ec90c79487cb434bac0a20d321c2f552",
       "step": null,
       "style": "IPY_MODEL_ef3024fa9bac4c5892590cb4ccf276e7",
       "value": 27
      }
     },
     "b4f26214fe14415997fbe9f842f1ca51": {
      "model_module": "@jupyter-widgets/controls",
      "model_module_version": "1.4.0",
      "model_name": "FloatTextModel",
      "state": {
       "description": "Neon-22",
       "layout": "IPY_MODEL_acd23a20585946c78fb4c4d107118705",
       "step": null,
       "style": "IPY_MODEL_b91ffccec985401fb2118f17c3092d84",
       "value": 925
      }
     },
     "b544a5aba26e4ca18736340f0b17e116": {
      "model_module": "@jupyter-widgets/controls",
      "model_module_version": "1.4.0",
      "model_name": "ButtonStyleModel",
      "state": {}
     },
     "b60e2f02481743788e7974ec6e630a1c": {
      "model_module": "@jupyter-widgets/controls",
      "model_module_version": "1.4.0",
      "model_name": "DescriptionStyleModel",
      "state": {
       "description_width": ""
      }
     },
     "b662689385874f8da80e8946d3d217e8": {
      "model_module": "@jupyter-widgets/base",
      "model_module_version": "1.1.0",
      "model_name": "LayoutModel",
      "state": {
       "border": "1px solid black"
      }
     },
     "b6a367322b1e4a54acab32a2ae03cc1a": {
      "model_module": "@jupyter-widgets/controls",
      "model_module_version": "1.4.0",
      "model_name": "ButtonStyleModel",
      "state": {}
     },
     "b70f4dc4e7f1435982ee1e48c2923e3d": {
      "model_module": "@jupyter-widgets/controls",
      "model_module_version": "1.4.0",
      "model_name": "FloatTextModel",
      "state": {
       "description": "Neon-21",
       "layout": "IPY_MODEL_df339a03b92648a985f5960f761f6d75",
       "step": null,
       "style": "IPY_MODEL_d60137064f104d339daed5a1383e24cd",
       "value": 54
      }
     },
     "b7f20c909fb9411fbedb5c858c7eb0dd": {
      "model_module": "@jupyter-widgets/controls",
      "model_module_version": "1.4.0",
      "model_name": "GridBoxModel",
      "state": {
       "children": [
        "IPY_MODEL_20148b19b9ce4d7bb024d7bb500937a9",
        "IPY_MODEL_fd4b138db4254ee69de2bd246fe37b4f",
        "IPY_MODEL_00f0c530eae446609be738dd7999463d"
       ],
       "layout": "IPY_MODEL_21e9b9ffa81a402fb35ca3640d3024ff"
      }
     },
     "b80858f84bac47638842a0c1be94225b": {
      "model_module": "@jupyter-widgets/controls",
      "model_module_version": "1.4.0",
      "model_name": "ButtonStyleModel",
      "state": {}
     },
     "b837c8254f8e4182a2cece9403674689": {
      "model_module": "@jupyter-widgets/controls",
      "model_module_version": "1.4.0",
      "model_name": "FloatTextModel",
      "state": {
       "description": "Neon-21",
       "layout": "IPY_MODEL_926d89837137464ea170134db9ffab67",
       "step": null,
       "style": "IPY_MODEL_7807daf4bae04be38230b5d5181a8d45",
       "value": 27
      }
     },
     "b8f78ad2b6dc47ce8046c8c23c93e667": {
      "model_module": "@jupyter-widgets/controls",
      "model_module_version": "1.4.0",
      "model_name": "FloatTextModel",
      "state": {
       "description": "Neon-21",
       "layout": "IPY_MODEL_ccef5a52db86419db6e2bc4b529e9dbf",
       "step": null,
       "style": "IPY_MODEL_10cb6e3778834c36bb27a1743d48191e",
       "value": 27
      }
     },
     "b91ffccec985401fb2118f17c3092d84": {
      "model_module": "@jupyter-widgets/controls",
      "model_module_version": "1.4.0",
      "model_name": "DescriptionStyleModel",
      "state": {
       "description_width": ""
      }
     },
     "b925f36fd20b485a9d0ccec6dc333b2f": {
      "model_module": "@jupyter-widgets/base",
      "model_module_version": "1.1.0",
      "model_name": "LayoutModel",
      "state": {}
     },
     "b96949cb24274d2b91411c2614d5367b": {
      "model_module": "@jupyter-widgets/controls",
      "model_module_version": "1.4.0",
      "model_name": "ButtonModel",
      "state": {
       "description": "Calculate",
       "icon": "check",
       "layout": "IPY_MODEL_917ee98691b44cbdbf86c6cd105e99c5",
       "style": "IPY_MODEL_95cbfda592aa45cfbeb5a9fe8ae85c55",
       "tooltip": "Calculate deconvolution"
      }
     },
     "b9d9c716e616472ca3560ef3b20a2c0a": {
      "model_module": "@jupyter-widgets/controls",
      "model_module_version": "1.4.0",
      "model_name": "FloatTextModel",
      "state": {
       "description": "Neon-22",
       "layout": "IPY_MODEL_f74bdd9fa6a74d42b85e0ef9191486c4",
       "step": null,
       "style": "IPY_MODEL_5b9f037442b14d9bb0dd256ccb43528b",
       "value": 925
      }
     },
     "ba45467a72584b96822f03e6e0a23bbb": {
      "model_module": "@jupyter-widgets/output",
      "model_module_version": "1.0.0",
      "model_name": "OutputModel",
      "state": {
       "layout": "IPY_MODEL_259bb1ff10464fa6aad2491aee648bbd",
       "outputs": [
        {
         "name": "stdout",
         "output_type": "stream",
         "text": "Nucleogenic : ( 289.2628  Ne20) ( 0.00145  Ne21) ( 0.00145  Ne22)\nCosmogenic : ( 25.99004  Ne20) ( 27.93929  Ne21) ( 32.22765  Ne22)\nAir : ( 8732.74716  Ne20) ( 26.05926  Ne21) ( 892.7709  Ne22)\n"
        }
       ]
      }
     },
     "ba460c2d028c424da98473af9d0f73a7": {
      "model_module": "@jupyter-widgets/base",
      "model_module_version": "1.1.0",
      "model_name": "LayoutModel",
      "state": {
       "border": "1px solid black"
      }
     },
     "babc32b90cdd4514b8c2a878c18ec601": {
      "model_module": "@jupyter-widgets/controls",
      "model_module_version": "1.4.0",
      "model_name": "SelectModel",
      "state": {
       "_options_labels": [
        "Nucleogenic/Cosmogenic/Air",
        "Nucleogenic/Mantle/Air",
        "Cosmogenic/Mantle/Air"
       ],
       "description": "Ternary System:",
       "index": 0,
       "layout": "IPY_MODEL_0f34fd0e6a664a45b5ad53b50b4f327c",
       "rows": 4,
       "style": "IPY_MODEL_7723a22abc9a4be68d639d94d9ae1870"
      }
     },
     "bb92e3d8cb9249d09e6dccb50184b9b6": {
      "model_module": "@jupyter-widgets/controls",
      "model_module_version": "1.4.0",
      "model_name": "ButtonStyleModel",
      "state": {}
     },
     "bbead5b8702b4be6b418ab8fc8f55890": {
      "model_module": "@jupyter-widgets/controls",
      "model_module_version": "1.4.0",
      "model_name": "SelectModel",
      "state": {
       "_options_labels": [
        "Nucleogenic/Cosmogenic/Air",
        "Nucleogenic/Mantle/Air",
        "Cosmogenic/Mantle/Air"
       ],
       "description": "Ternary System:",
       "index": 0,
       "layout": "IPY_MODEL_6b3880221ae64c61a2ded788cac92dc4",
       "rows": 4,
       "style": "IPY_MODEL_fd96e5852cc446dda7dbc2f74469915e"
      }
     },
     "bc27290e8bb6444498da33aa39dedd44": {
      "model_module": "@jupyter-widgets/controls",
      "model_module_version": "1.4.0",
      "model_name": "SelectModel",
      "state": {
       "_options_labels": [
        "quartz",
        "pyroxene"
       ],
       "description": "Mineral:",
       "index": 0,
       "layout": "IPY_MODEL_c20efba1e1f34653b0c5ebcca4c81d39",
       "rows": 3,
       "style": "IPY_MODEL_1624ccd45ff346ff97c2a5071574dabf"
      }
     },
     "bc84b416e1d64f039aa5d9d49b6a39d8": {
      "model_module": "@jupyter-widgets/output",
      "model_module_version": "1.0.0",
      "model_name": "OutputModel",
      "state": {
       "layout": "IPY_MODEL_3d23a017405b4b90849fb15d7e470779",
       "outputs": [
        {
         "data": {
          "text/plain": "'Nucleogenic'"
         },
         "metadata": {},
         "output_type": "display_data"
        },
        {
         "data": {
          "text/plain": "': ('"
         },
         "metadata": {},
         "output_type": "display_data"
        },
        {
         "data": {
          "text/plain": "-0.0"
         },
         "metadata": {},
         "output_type": "display_data"
        },
        {
         "data": {
          "text/plain": "' Ne20) ('"
         },
         "metadata": {},
         "output_type": "display_data"
        },
        {
         "data": {
          "text/plain": "-0.0"
         },
         "metadata": {},
         "output_type": "display_data"
        },
        {
         "data": {
          "text/plain": "' Ne21) ('"
         },
         "metadata": {},
         "output_type": "display_data"
        },
        {
         "data": {
          "text/plain": "-0.0"
         },
         "metadata": {},
         "output_type": "display_data"
        },
        {
         "data": {
          "text/plain": "' Ne22)'"
         },
         "metadata": {},
         "output_type": "display_data"
        },
        {
         "data": {
          "text/plain": "'Cosmogenic'"
         },
         "metadata": {},
         "output_type": "display_data"
        },
        {
         "data": {
          "text/plain": "': ('"
         },
         "metadata": {},
         "output_type": "display_data"
        },
        {
         "data": {
          "text/plain": "-0.0"
         },
         "metadata": {},
         "output_type": "display_data"
        },
        {
         "data": {
          "text/plain": "' Ne20) ('"
         },
         "metadata": {},
         "output_type": "display_data"
        },
        {
         "data": {
          "text/plain": "-0.0"
         },
         "metadata": {},
         "output_type": "display_data"
        },
        {
         "data": {
          "text/plain": "' Ne21) ('"
         },
         "metadata": {},
         "output_type": "display_data"
        },
        {
         "data": {
          "text/plain": "-0.0"
         },
         "metadata": {},
         "output_type": "display_data"
        },
        {
         "data": {
          "text/plain": "' Ne22)'"
         },
         "metadata": {},
         "output_type": "display_data"
        },
        {
         "data": {
          "text/plain": "'Air'"
         },
         "metadata": {},
         "output_type": "display_data"
        },
        {
         "data": {
          "text/plain": "': ('"
         },
         "metadata": {},
         "output_type": "display_data"
        },
        {
         "data": {
          "text/plain": "9048.0"
         },
         "metadata": {},
         "output_type": "display_data"
        },
        {
         "data": {
          "text/plain": "' Ne20) ('"
         },
         "metadata": {},
         "output_type": "display_data"
        },
        {
         "data": {
          "text/plain": "27.0"
         },
         "metadata": {},
         "output_type": "display_data"
        },
        {
         "data": {
          "text/plain": "' Ne21) ('"
         },
         "metadata": {},
         "output_type": "display_data"
        },
        {
         "data": {
          "text/plain": "925.0"
         },
         "metadata": {},
         "output_type": "display_data"
        },
        {
         "data": {
          "text/plain": "' Ne22)'"
         },
         "metadata": {},
         "output_type": "display_data"
        }
       ]
      }
     },
     "bd6e25aa9c424cdbbbc7586e2d894a39": {
      "model_module": "@jupyter-widgets/controls",
      "model_module_version": "1.4.0",
      "model_name": "ButtonModel",
      "state": {
       "description": "Calculate",
       "icon": "check",
       "layout": "IPY_MODEL_6d0fce8c0d934899b7a64aec799ed242",
       "style": "IPY_MODEL_3cb4497e619648adbf4b1cd674c329dd",
       "tooltip": "Calculate deconvolution"
      }
     },
     "be8bd2337da047658bf5d4e26d5e87ee": {
      "model_module": "@jupyter-widgets/base",
      "model_module_version": "1.1.0",
      "model_name": "LayoutModel",
      "state": {}
     },
     "c04c440b59744deca7586f12fb478a28": {
      "model_module": "@jupyter-widgets/base",
      "model_module_version": "1.1.0",
      "model_name": "LayoutModel",
      "state": {
       "grid_template_areas": "\n            \"Ne20 Ne21 Ne22\"\n            ",
       "grid_template_columns": "33% 33% 33%",
       "grid_template_rows": "auto auto auto",
       "width": "100%"
      }
     },
     "c0f104c808cd45aaa16d1fcc89b4309a": {
      "model_module": "@jupyter-widgets/controls",
      "model_module_version": "1.4.0",
      "model_name": "FloatTextModel",
      "state": {
       "description": "Neon-21",
       "layout": "IPY_MODEL_9fdb0b1f7e2040219be51b7fcc73dd0b",
       "step": null,
       "style": "IPY_MODEL_dd574ff65fd245a48b69ccab02607d9d",
       "value": 27
      }
     },
     "c11a88f1db7f48dd8dd9dd6f76aef294": {
      "model_module": "@jupyter-widgets/controls",
      "model_module_version": "1.4.0",
      "model_name": "SelectModel",
      "state": {
       "_options_labels": [
        "Nucleogenic/Cosmogenic/Air",
        "Nucleogenic/Mantle/Air",
        "Cosmogenic/Mantle/Air"
       ],
       "description": "Ternary System:",
       "index": 0,
       "layout": "IPY_MODEL_d88bd105a04e4abb869a6ca7d50db795",
       "rows": 4,
       "style": "IPY_MODEL_cb19dbbc2f8f478595096c4fc24a072d"
      }
     },
     "c1b70b4dcc604552a0ab740c1f47aa85": {
      "model_module": "@jupyter-widgets/controls",
      "model_module_version": "1.4.0",
      "model_name": "DescriptionStyleModel",
      "state": {
       "description_width": "initial"
      }
     },
     "c1de5f8ea0fc4181a72895564a08d801": {
      "model_module": "@jupyter-widgets/output",
      "model_module_version": "1.0.0",
      "model_name": "OutputModel",
      "state": {
       "layout": "IPY_MODEL_56f86c6d18bf47648b665397a851cf78"
      }
     },
     "c20cd92852404e4e939efd71f2520cae": {
      "model_module": "@jupyter-widgets/base",
      "model_module_version": "1.1.0",
      "model_name": "LayoutModel",
      "state": {
       "grid_template_areas": "\n            \"Ne20 Ne21 Ne22\"\n            ",
       "grid_template_columns": "33% 33% 33%",
       "grid_template_rows": "auto auto auto",
       "width": "100%"
      }
     },
     "c20efba1e1f34653b0c5ebcca4c81d39": {
      "model_module": "@jupyter-widgets/base",
      "model_module_version": "1.1.0",
      "model_name": "LayoutModel",
      "state": {}
     },
     "c2fb136a5a88479d9b014e11d33fc312": {
      "model_module": "@jupyter-widgets/controls",
      "model_module_version": "1.4.0",
      "model_name": "GridBoxModel",
      "state": {
       "children": [
        "IPY_MODEL_160b99c177ff43b6b559f14fa66c232c",
        "IPY_MODEL_cddb619a312643b9b02f3a4e492168f2"
       ],
       "layout": "IPY_MODEL_8d52e4d6ff324eb8bb0dbe52ecdf0baf"
      }
     },
     "c3a61285d9914d00aa8bc6f38225cc66": {
      "model_module": "@jupyter-widgets/controls",
      "model_module_version": "1.4.0",
      "model_name": "FloatTextModel",
      "state": {
       "description": "Neon-21",
       "layout": "IPY_MODEL_588d785701464cee8614b40fd2c7fc6f",
       "step": null,
       "style": "IPY_MODEL_898a14deb20c4185bac164f21893687a",
       "value": 27
      }
     },
     "c4a7ed7592bf4a51a30703f69789bbad": {
      "model_module": "@jupyter-widgets/base",
      "model_module_version": "1.1.0",
      "model_name": "LayoutModel",
      "state": {
       "grid_template_areas": "\n            \"system mineral\"\n            ",
       "grid_template_columns": "50% 50%",
       "grid_template_rows": "auto auto auto",
       "width": "100%"
      }
     },
     "c4ecbed0970a45e5892d21c0413cb3ad": {
      "model_module": "@jupyter-widgets/base",
      "model_module_version": "1.1.0",
      "model_name": "LayoutModel",
      "state": {}
     },
     "c5d20f7ef36340de95cbb9d8a6387cdd": {
      "model_module": "@jupyter-widgets/controls",
      "model_module_version": "1.4.0",
      "model_name": "DescriptionStyleModel",
      "state": {
       "description_width": ""
      }
     },
     "c6048adf8344434e8e9d6f228d3d297f": {
      "model_module": "@jupyter-widgets/controls",
      "model_module_version": "1.4.0",
      "model_name": "FloatTextModel",
      "state": {
       "description": "Neon-20",
       "layout": "IPY_MODEL_ff55432cdbd64d30adedc4fe300c5718",
       "step": null,
       "style": "IPY_MODEL_deb49c2aa1244ae581ec4cd2b617af09",
       "value": 9048
      }
     },
     "c702bb9355294785959483d3f7185f10": {
      "model_module": "@jupyter-widgets/controls",
      "model_module_version": "1.4.0",
      "model_name": "DescriptionStyleModel",
      "state": {
       "description_width": "initial"
      }
     },
     "c72d60182eb14a39998462eeb81e527c": {
      "model_module": "@jupyter-widgets/controls",
      "model_module_version": "1.4.0",
      "model_name": "GridBoxModel",
      "state": {
       "children": [
        "IPY_MODEL_465af140a5e345d49984341f6bc7b8c2",
        "IPY_MODEL_c0f104c808cd45aaa16d1fcc89b4309a",
        "IPY_MODEL_afdce077c9d24a039796cfc331f65391"
       ],
       "layout": "IPY_MODEL_f309f6f701fd4cfa827d07f68fd7fa6d"
      }
     },
     "c830a3347b9147ff83d769efefbd716c": {
      "model_module": "@jupyter-widgets/base",
      "model_module_version": "1.1.0",
      "model_name": "LayoutModel",
      "state": {}
     },
     "c831efb9981542ec8d74d00fa91c941e": {
      "model_module": "@jupyter-widgets/base",
      "model_module_version": "1.1.0",
      "model_name": "LayoutModel",
      "state": {}
     },
     "c83869939c614fb79b7132c08c48c7ab": {
      "model_module": "@jupyter-widgets/controls",
      "model_module_version": "1.4.0",
      "model_name": "DescriptionStyleModel",
      "state": {
       "description_width": "initial"
      }
     },
     "c8cf781cd8784ca99a35d7090fea3b48": {
      "model_module": "@jupyter-widgets/base",
      "model_module_version": "1.1.0",
      "model_name": "LayoutModel",
      "state": {
       "border": "1px solid black"
      }
     },
     "c948f8c124dd4eb8b8a3ddd393a55d50": {
      "model_module": "@jupyter-widgets/controls",
      "model_module_version": "1.4.0",
      "model_name": "ButtonModel",
      "state": {
       "description": "Calculate",
       "icon": "check",
       "layout": "IPY_MODEL_99da7f99b2b344ddaa5424f746974cc7",
       "style": "IPY_MODEL_093f290fbec44b36a2737b5ce4367e91",
       "tooltip": "Calculate deconvolution"
      }
     },
     "c98a8f9b01744ccca8f3bbdaa019d58b": {
      "model_module": "@jupyter-widgets/controls",
      "model_module_version": "1.4.0",
      "model_name": "GridBoxModel",
      "state": {
       "children": [
        "IPY_MODEL_c11a88f1db7f48dd8dd9dd6f76aef294",
        "IPY_MODEL_8c96b47015cc49c7a63101bc1f7a7d25"
       ],
       "layout": "IPY_MODEL_b297dd563da24bb99dadff40da85e4e7"
      }
     },
     "c997d08563f048e7846271acfb574b34": {
      "model_module": "@jupyter-widgets/controls",
      "model_module_version": "1.4.0",
      "model_name": "FloatTextModel",
      "state": {
       "description": "Neon-22",
       "layout": "IPY_MODEL_dced7d10ff4c4923add97ca64806fcc5",
       "step": null,
       "style": "IPY_MODEL_de8f0534f5074f8e98d4b95dfa74915a",
       "value": 925
      }
     },
     "c99825a2c9704a958819c85e5e805af9": {
      "model_module": "@jupyter-widgets/output",
      "model_module_version": "1.0.0",
      "model_name": "OutputModel",
      "state": {
       "layout": "IPY_MODEL_906bbc75f4074007959bd3b7be3c2caa"
      }
     },
     "cadea5cf57314132b112c998e540e458": {
      "model_module": "@jupyter-widgets/base",
      "model_module_version": "1.1.0",
      "model_name": "LayoutModel",
      "state": {}
     },
     "cb19dbbc2f8f478595096c4fc24a072d": {
      "model_module": "@jupyter-widgets/controls",
      "model_module_version": "1.4.0",
      "model_name": "DescriptionStyleModel",
      "state": {
       "description_width": "initial"
      }
     },
     "cc93bdb60b724b41840f39d1f3e5445c": {
      "model_module": "@jupyter-widgets/base",
      "model_module_version": "1.1.0",
      "model_name": "LayoutModel",
      "state": {
       "border": "1px solid black"
      }
     },
     "ccd160f778f045bd86758b9ec0c21043": {
      "model_module": "@jupyter-widgets/base",
      "model_module_version": "1.1.0",
      "model_name": "LayoutModel",
      "state": {
       "border": "1px solid black"
      }
     },
     "ccef5a52db86419db6e2bc4b529e9dbf": {
      "model_module": "@jupyter-widgets/base",
      "model_module_version": "1.1.0",
      "model_name": "LayoutModel",
      "state": {}
     },
     "cd0a8ec1ebb24d8bbfea610b91090dc8": {
      "model_module": "@jupyter-widgets/controls",
      "model_module_version": "1.4.0",
      "model_name": "ButtonModel",
      "state": {
       "description": "Calculate",
       "icon": "check",
       "layout": "IPY_MODEL_06db1e0a66ba4f0d809237337ddd3e29",
       "style": "IPY_MODEL_99b420daf6a2400599f9350fa9fff092",
       "tooltip": "Calculate deconvolution"
      }
     },
     "cd7436edd9c54d18af28cc1398dda044": {
      "model_module": "@jupyter-widgets/base",
      "model_module_version": "1.1.0",
      "model_name": "LayoutModel",
      "state": {}
     },
     "cda190c1d44642c296c82b93ebc6be3f": {
      "model_module": "@jupyter-widgets/controls",
      "model_module_version": "1.4.0",
      "model_name": "ButtonModel",
      "state": {
       "description": "Calculate",
       "icon": "check",
       "layout": "IPY_MODEL_6afe5a21cbcb4159a13b42d7dcd5cffe",
       "style": "IPY_MODEL_43503856c4f44184bdff16a5504032b9",
       "tooltip": "Calculate deconvolution"
      }
     },
     "cddb619a312643b9b02f3a4e492168f2": {
      "model_module": "@jupyter-widgets/controls",
      "model_module_version": "1.4.0",
      "model_name": "SelectModel",
      "state": {
       "_options_labels": [
        "quartz",
        "pyroxene"
       ],
       "description": "Mineral:",
       "index": 0,
       "layout": "IPY_MODEL_4117cb35a63d44b7896e40c15d0d3454",
       "rows": 3,
       "style": "IPY_MODEL_8d6c7ad27ebc4a6296cd2acd5278afe9"
      }
     },
     "cdeafc907600446b863a7908e90382eb": {
      "model_module": "@jupyter-widgets/base",
      "model_module_version": "1.1.0",
      "model_name": "LayoutModel",
      "state": {}
     },
     "ce5c84bde9f2439589ca24f46d449864": {
      "model_module": "@jupyter-widgets/controls",
      "model_module_version": "1.4.0",
      "model_name": "ButtonModel",
      "state": {
       "description": "Calculate",
       "icon": "check",
       "layout": "IPY_MODEL_3938990a3783483c8f0d1f23e072fb03",
       "style": "IPY_MODEL_266e6959b3244886b4d24a25e2deb91b",
       "tooltip": "Calculate deconvolution"
      }
     },
     "cecb2798c56c434984fda27dc81fd9f7": {
      "model_module": "@jupyter-widgets/output",
      "model_module_version": "1.0.0",
      "model_name": "OutputModel",
      "state": {
       "layout": "IPY_MODEL_89e8e9cd7935446ea00b9bd9a8685b15"
      }
     },
     "ced1ac17692c462ba8889bbddf33a9f2": {
      "model_module": "@jupyter-widgets/base",
      "model_module_version": "1.1.0",
      "model_name": "LayoutModel",
      "state": {
       "grid_template_areas": "\n            \"system mineral\"\n            ",
       "grid_template_columns": "50% 50%",
       "grid_template_rows": "auto auto auto",
       "width": "100%"
      }
     },
     "cef735e5b91245d6936a1c72e29b6370": {
      "model_module": "@jupyter-widgets/base",
      "model_module_version": "1.1.0",
      "model_name": "LayoutModel",
      "state": {}
     },
     "cf2b54c7d20841f3872abf26ebdec5fd": {
      "model_module": "@jupyter-widgets/base",
      "model_module_version": "1.1.0",
      "model_name": "LayoutModel",
      "state": {}
     },
     "d0ea6f877ae14a26a7c7ce998c030af1": {
      "model_module": "@jupyter-widgets/controls",
      "model_module_version": "1.4.0",
      "model_name": "DescriptionStyleModel",
      "state": {
       "description_width": ""
      }
     },
     "d1d3635f877142fba697e8a051a0e664": {
      "model_module": "@jupyter-widgets/controls",
      "model_module_version": "1.4.0",
      "model_name": "FloatTextModel",
      "state": {
       "description": "Neon-22",
       "layout": "IPY_MODEL_dab9597a5cc0407ea90fdc3bec73d056",
       "step": null,
       "style": "IPY_MODEL_89b8d9453e17421e8524ad94bdb0923e",
       "value": 925
      }
     },
     "d26c7a0dbc8445108f372386a9151204": {
      "model_module": "@jupyter-widgets/controls",
      "model_module_version": "1.4.0",
      "model_name": "DescriptionStyleModel",
      "state": {
       "description_width": ""
      }
     },
     "d32f29ff0c5545e6b32d335edfdcc6a6": {
      "model_module": "@jupyter-widgets/controls",
      "model_module_version": "1.4.0",
      "model_name": "DescriptionStyleModel",
      "state": {
       "description_width": ""
      }
     },
     "d401e732a17a4ad1bc085ee3f0cee919": {
      "model_module": "@jupyter-widgets/controls",
      "model_module_version": "1.4.0",
      "model_name": "SelectModel",
      "state": {
       "_options_labels": [
        "quartz",
        "pyroxene"
       ],
       "description": "Mineral:",
       "index": 0,
       "layout": "IPY_MODEL_5aab0e9121f042988f45125caaada381",
       "rows": 3,
       "style": "IPY_MODEL_5d94cc8923f84cb38892a0515e8c45bb"
      }
     },
     "d41fed652b2e4d53b95d0db6e3aa1f45": {
      "model_module": "@jupyter-widgets/output",
      "model_module_version": "1.0.0",
      "model_name": "OutputModel",
      "state": {
       "layout": "IPY_MODEL_fa448d3801644548b1960464519fb7d6",
       "outputs": [
        {
         "name": "stdout",
         "output_type": "stream",
         "text": "Nucleogenic : ( -0.0  Ne20) ( -0.0  Ne21) ( -0.0  Ne22)\nCosmogenic : ( -0.0  Ne20) ( -0.0  Ne21) ( -0.0  Ne22)\nAir : ( 9048.0  Ne20) ( 27.0  Ne21) ( 925.0  Ne22)\n"
        }
       ]
      }
     },
     "d4b438d049964ff49e19fd4a176175ea": {
      "model_module": "@jupyter-widgets/controls",
      "model_module_version": "1.4.0",
      "model_name": "FloatTextModel",
      "state": {
       "description": "Neon-20",
       "layout": "IPY_MODEL_85746b115cb84a95a524e58a47a07411",
       "step": null,
       "style": "IPY_MODEL_342d8afde5d44418988dc34b7f3c73cc",
       "value": 9048
      }
     },
     "d4b630e67e2f4d50bba85d0eaebcf6cd": {
      "model_module": "@jupyter-widgets/controls",
      "model_module_version": "1.4.0",
      "model_name": "DescriptionStyleModel",
      "state": {
       "description_width": ""
      }
     },
     "d4de9abb66d74f24a4cf828fe3c9b4b7": {
      "model_module": "@jupyter-widgets/controls",
      "model_module_version": "1.4.0",
      "model_name": "GridBoxModel",
      "state": {
       "children": [
        "IPY_MODEL_5aeb9af395cb4fc3a352f76ad0e35987",
        "IPY_MODEL_c3a61285d9914d00aa8bc6f38225cc66",
        "IPY_MODEL_5d5faee13af64459a9eb0a7f37e89767"
       ],
       "layout": "IPY_MODEL_c04c440b59744deca7586f12fb478a28"
      }
     },
     "d540d86dfb7c4ccbb130ffb36ee60560": {
      "model_module": "@jupyter-widgets/controls",
      "model_module_version": "1.4.0",
      "model_name": "DescriptionStyleModel",
      "state": {
       "description_width": ""
      }
     },
     "d54d297594794ca6b0ded7da3e032aa1": {
      "model_module": "@jupyter-widgets/base",
      "model_module_version": "1.1.0",
      "model_name": "LayoutModel",
      "state": {
       "grid_template_areas": "\n            \"system mineral\"\n            ",
       "grid_template_columns": "50% 50%",
       "grid_template_rows": "auto auto auto",
       "width": "100%"
      }
     },
     "d598f4b07a66452987350b89c0923729": {
      "model_module": "@jupyter-widgets/controls",
      "model_module_version": "1.4.0",
      "model_name": "ButtonModel",
      "state": {
       "description": "Calculate",
       "icon": "check",
       "layout": "IPY_MODEL_8e28328e86a14b6c95edb05c9509a42d",
       "style": "IPY_MODEL_bb92e3d8cb9249d09e6dccb50184b9b6",
       "tooltip": "Calculate deconvolution"
      }
     },
     "d60137064f104d339daed5a1383e24cd": {
      "model_module": "@jupyter-widgets/controls",
      "model_module_version": "1.4.0",
      "model_name": "DescriptionStyleModel",
      "state": {
       "description_width": ""
      }
     },
     "d6b02215f2984e97865df5cad13a84bc": {
      "model_module": "@jupyter-widgets/base",
      "model_module_version": "1.1.0",
      "model_name": "LayoutModel",
      "state": {}
     },
     "d752d64160f7474abe4bf4dca6dbad03": {
      "model_module": "@jupyter-widgets/base",
      "model_module_version": "1.1.0",
      "model_name": "LayoutModel",
      "state": {}
     },
     "d7a1dc381cd14ef196c2c5f2172553a6": {
      "model_module": "@jupyter-widgets/controls",
      "model_module_version": "1.4.0",
      "model_name": "ButtonStyleModel",
      "state": {}
     },
     "d88bd105a04e4abb869a6ca7d50db795": {
      "model_module": "@jupyter-widgets/base",
      "model_module_version": "1.1.0",
      "model_name": "LayoutModel",
      "state": {}
     },
     "d8d01a8ba7d94c0297a53d8d6e1992a7": {
      "model_module": "@jupyter-widgets/base",
      "model_module_version": "1.1.0",
      "model_name": "LayoutModel",
      "state": {}
     },
     "d91dcec857ad485eab4507915a852978": {
      "model_module": "@jupyter-widgets/controls",
      "model_module_version": "1.4.0",
      "model_name": "DescriptionStyleModel",
      "state": {
       "description_width": "initial"
      }
     },
     "da5c3e6cca264307938b229dcddd462a": {
      "model_module": "@jupyter-widgets/controls",
      "model_module_version": "1.4.0",
      "model_name": "ButtonStyleModel",
      "state": {}
     },
     "da76d73c61a44179b6e84bf6de8ed8c7": {
      "model_module": "@jupyter-widgets/controls",
      "model_module_version": "1.4.0",
      "model_name": "ButtonModel",
      "state": {
       "description": "Calculate",
       "icon": "check",
       "layout": "IPY_MODEL_9071eb9a2b7e4e8bb98930547c931dbf",
       "style": "IPY_MODEL_3c6d048b749f47e5bb38751ce67dcb1d",
       "tooltip": "Calculate deconvolution"
      }
     },
     "dab9597a5cc0407ea90fdc3bec73d056": {
      "model_module": "@jupyter-widgets/base",
      "model_module_version": "1.1.0",
      "model_name": "LayoutModel",
      "state": {}
     },
     "db31d767a2804c6b8f506661021c5cc0": {
      "model_module": "@jupyter-widgets/controls",
      "model_module_version": "1.4.0",
      "model_name": "GridBoxModel",
      "state": {
       "children": [
        "IPY_MODEL_7ab5d7db0c1b4d27889795cfce958b43",
        "IPY_MODEL_0b585cec88e14ef2bd4b60ad585aa07f",
        "IPY_MODEL_b4f26214fe14415997fbe9f842f1ca51"
       ],
       "layout": "IPY_MODEL_6064705b00b94b5dbb32826a8abc9afb"
      }
     },
     "db73410a04544515a6ab981def3c0f6e": {
      "model_module": "@jupyter-widgets/controls",
      "model_module_version": "1.4.0",
      "model_name": "FloatTextModel",
      "state": {
       "description": "Neon-21",
       "layout": "IPY_MODEL_c830a3347b9147ff83d769efefbd716c",
       "step": null,
       "style": "IPY_MODEL_8866afa01ee0470f993e933cef0c1ec5",
       "value": 27
      }
     },
     "dc0d809d64614c7697b844f34a400f49": {
      "model_module": "@jupyter-widgets/base",
      "model_module_version": "1.1.0",
      "model_name": "LayoutModel",
      "state": {
       "grid_template_areas": "\n            \"system mineral\"\n            ",
       "grid_template_columns": "50% 50%",
       "grid_template_rows": "auto auto auto",
       "width": "100%"
      }
     },
     "dcc6e5f6c8104664b9fdd1c8fda0901a": {
      "model_module": "@jupyter-widgets/controls",
      "model_module_version": "1.4.0",
      "model_name": "ButtonModel",
      "state": {
       "description": "Calculate",
       "icon": "check",
       "layout": "IPY_MODEL_614d3f7bb31f451099142af6d802aa32",
       "style": "IPY_MODEL_895cc05c15874f97a8570ee93ee1b5d5",
       "tooltip": "Calculate deconvolution"
      }
     },
     "dcd4272c251d46fca47cbd63f2d8b941": {
      "model_module": "@jupyter-widgets/controls",
      "model_module_version": "1.4.0",
      "model_name": "ButtonStyleModel",
      "state": {}
     },
     "dced7d10ff4c4923add97ca64806fcc5": {
      "model_module": "@jupyter-widgets/base",
      "model_module_version": "1.1.0",
      "model_name": "LayoutModel",
      "state": {}
     },
     "dd574ff65fd245a48b69ccab02607d9d": {
      "model_module": "@jupyter-widgets/controls",
      "model_module_version": "1.4.0",
      "model_name": "DescriptionStyleModel",
      "state": {
       "description_width": ""
      }
     },
     "de8f0534f5074f8e98d4b95dfa74915a": {
      "model_module": "@jupyter-widgets/controls",
      "model_module_version": "1.4.0",
      "model_name": "DescriptionStyleModel",
      "state": {
       "description_width": ""
      }
     },
     "deb49c2aa1244ae581ec4cd2b617af09": {
      "model_module": "@jupyter-widgets/controls",
      "model_module_version": "1.4.0",
      "model_name": "DescriptionStyleModel",
      "state": {
       "description_width": ""
      }
     },
     "ded235dc35c84947bf7b3d142dab0d0a": {
      "model_module": "@jupyter-widgets/base",
      "model_module_version": "1.1.0",
      "model_name": "LayoutModel",
      "state": {
       "border": "1px solid black"
      }
     },
     "df339a03b92648a985f5960f761f6d75": {
      "model_module": "@jupyter-widgets/base",
      "model_module_version": "1.1.0",
      "model_name": "LayoutModel",
      "state": {}
     },
     "df8e5fdc7de649a7b249e9d6e0632b7f": {
      "model_module": "@jupyter-widgets/base",
      "model_module_version": "1.1.0",
      "model_name": "LayoutModel",
      "state": {}
     },
     "dfa71a9e1daf4474b4f0271687d82c3d": {
      "model_module": "@jupyter-widgets/controls",
      "model_module_version": "1.4.0",
      "model_name": "SelectModel",
      "state": {
       "_options_labels": [
        "Nucleogenic/Cosmogenic/Air",
        "Nucleogenic/Mantle/Air",
        "Cosmogenic/Mantle/Air"
       ],
       "description": "Ternary System:",
       "index": 0,
       "layout": "IPY_MODEL_077fea851e9e47f7859202a346a34ac2",
       "rows": 4,
       "style": "IPY_MODEL_a1daaf6911ba475eaa4fdc54c1a45209"
      }
     },
     "dfb6e3aaaefd45e88e25918c208382ba": {
      "model_module": "@jupyter-widgets/controls",
      "model_module_version": "1.4.0",
      "model_name": "GridBoxModel",
      "state": {
       "children": [
        "IPY_MODEL_dfa71a9e1daf4474b4f0271687d82c3d",
        "IPY_MODEL_50fdc936014f44c29ca0466a6e7b01c6"
       ],
       "layout": "IPY_MODEL_71f77c19ebaf4eb193f6c633712635c2"
      }
     },
     "e0753ba4020b43d99470375694af05b3": {
      "model_module": "@jupyter-widgets/controls",
      "model_module_version": "1.4.0",
      "model_name": "DescriptionStyleModel",
      "state": {
       "description_width": ""
      }
     },
     "e0b550fce53847e7ab47a35e5934ffa6": {
      "model_module": "@jupyter-widgets/base",
      "model_module_version": "1.1.0",
      "model_name": "LayoutModel",
      "state": {}
     },
     "e152d4ae064c4ccca9e2e0c491bfcfdc": {
      "model_module": "@jupyter-widgets/controls",
      "model_module_version": "1.4.0",
      "model_name": "DescriptionStyleModel",
      "state": {
       "description_width": "initial"
      }
     },
     "e16f218956ab45bead85d4f895a259dc": {
      "model_module": "@jupyter-widgets/output",
      "model_module_version": "1.0.0",
      "model_name": "OutputModel",
      "state": {
       "layout": "IPY_MODEL_ba460c2d028c424da98473af9d0f73a7",
       "outputs": [
        {
         "name": "stdout",
         "output_type": "stream",
         "text": "Nucleogenic : ( 289.2628  Ne20) ( 0.00145  Ne21) ( 0.00145  Ne22)\nCosmogenic : ( 25.99004  Ne20) ( 27.93929  Ne21) ( 32.22765  Ne22)\nAir : ( 8732.74716  Ne20) ( 26.05926  Ne21) ( 892.7709  Ne22)\n"
        }
       ]
      }
     },
     "e175d8bf81f64207b5341ca596fce276": {
      "model_module": "@jupyter-widgets/controls",
      "model_module_version": "1.4.0",
      "model_name": "SelectModel",
      "state": {
       "_options_labels": [
        "quartz",
        "pyroxene"
       ],
       "description": "Mineral:",
       "index": 0,
       "layout": "IPY_MODEL_89d826725aaa4646853bf7b6536ebc05",
       "rows": 3,
       "style": "IPY_MODEL_867f061e72dc4638a3b714c1652ecde5"
      }
     },
     "e1ff1450c4574fdc8cafb6d0c797466b": {
      "model_module": "@jupyter-widgets/base",
      "model_module_version": "1.1.0",
      "model_name": "LayoutModel",
      "state": {}
     },
     "e216e335d6f64de6ab5acb54d6cf3637": {
      "model_module": "@jupyter-widgets/controls",
      "model_module_version": "1.4.0",
      "model_name": "DescriptionStyleModel",
      "state": {
       "description_width": ""
      }
     },
     "e235341b56bc459d9534e1646e230933": {
      "model_module": "@jupyter-widgets/controls",
      "model_module_version": "1.4.0",
      "model_name": "ButtonModel",
      "state": {
       "description": "Calculate",
       "icon": "check",
       "layout": "IPY_MODEL_54deab880a924da6aaa3afc5ecb73d41",
       "style": "IPY_MODEL_115d73523f1747fb833f4c87579af3b3",
       "tooltip": "Calculate deconvolution"
      }
     },
     "e2bd848525274843944de90a73f7e515": {
      "model_module": "@jupyter-widgets/controls",
      "model_module_version": "1.4.0",
      "model_name": "ButtonModel",
      "state": {
       "description": "Calculate",
       "icon": "check",
       "layout": "IPY_MODEL_a247ba5de6db49819e45556291cbb7cb",
       "style": "IPY_MODEL_3234f79a83d44bafadba1ea3b41d4db3",
       "tooltip": "Calculate deconvolution"
      }
     },
     "e4192e044d414a2dae67c87f7c97e487": {
      "model_module": "@jupyter-widgets/base",
      "model_module_version": "1.1.0",
      "model_name": "LayoutModel",
      "state": {}
     },
     "e438fd648829496c98b8cdb9eeddd019": {
      "model_module": "@jupyter-widgets/controls",
      "model_module_version": "1.4.0",
      "model_name": "ButtonModel",
      "state": {
       "description": "Calculate",
       "icon": "check",
       "layout": "IPY_MODEL_58a679dba03344229de18e7d9a8ffda6",
       "style": "IPY_MODEL_09509510364c4dd593e692559333eca3",
       "tooltip": "Calculate deconvolution"
      }
     },
     "e4420100d1fc4a56b4cd0e661dd6b9d5": {
      "model_module": "@jupyter-widgets/base",
      "model_module_version": "1.1.0",
      "model_name": "LayoutModel",
      "state": {}
     },
     "e5955520b3a346ae8dea28c57362dc95": {
      "model_module": "@jupyter-widgets/base",
      "model_module_version": "1.1.0",
      "model_name": "LayoutModel",
      "state": {
       "border": "1px solid black"
      }
     },
     "e5e7a74830984fbe9de4b560014c225b": {
      "model_module": "@jupyter-widgets/base",
      "model_module_version": "1.1.0",
      "model_name": "LayoutModel",
      "state": {}
     },
     "e63860ba822b4763bb4c5b2f58900e83": {
      "model_module": "@jupyter-widgets/base",
      "model_module_version": "1.1.0",
      "model_name": "LayoutModel",
      "state": {}
     },
     "e7db640ac6ea4bdc9e4439850d4b2e44": {
      "model_module": "@jupyter-widgets/controls",
      "model_module_version": "1.4.0",
      "model_name": "ButtonModel",
      "state": {
       "description": "Calculate",
       "icon": "check",
       "layout": "IPY_MODEL_46c45db3a22247c1ab1b9357bd2ddcc0",
       "style": "IPY_MODEL_b80858f84bac47638842a0c1be94225b",
       "tooltip": "Calculate deconvolution"
      }
     },
     "e8184c6567724cdbb9dd506df66c74d5": {
      "model_module": "@jupyter-widgets/base",
      "model_module_version": "1.1.0",
      "model_name": "LayoutModel",
      "state": {
       "border": "1px solid black"
      }
     },
     "ea46f3b84a284e4c859d1528b4693da2": {
      "model_module": "@jupyter-widgets/base",
      "model_module_version": "1.1.0",
      "model_name": "LayoutModel",
      "state": {
       "grid_template_areas": "\n            \"system mineral\"\n            ",
       "grid_template_columns": "50% 50%",
       "grid_template_rows": "auto auto auto",
       "width": "100%"
      }
     },
     "ea9c27f9754c494b9b8f2ad6561a2148": {
      "model_module": "@jupyter-widgets/output",
      "model_module_version": "1.0.0",
      "model_name": "OutputModel",
      "state": {
       "layout": "IPY_MODEL_1b55ed0aa8ee449c87639b5a1bac57db",
       "outputs": [
        {
         "name": "stdout",
         "output_type": "stream",
         "text": "Nucleogenic : ( -0.0  Ne20) ( -0.0  Ne21) ( -0.0  Ne22)\nCosmogenic : ( -0.0  Ne20) ( -0.0  Ne21) ( -0.0  Ne22)\nAir : ( 9048.0  Ne20) ( 27.0  Ne21) ( 925.0  Ne22)\n"
        }
       ]
      }
     },
     "eabf2ac0349e44bbacbb2154ee137dab": {
      "model_module": "@jupyter-widgets/output",
      "model_module_version": "1.0.0",
      "model_name": "OutputModel",
      "state": {
       "layout": "IPY_MODEL_175e52b2ec38432093b74ef01578a84c",
       "outputs": [
        {
         "name": "stdout",
         "output_type": "stream",
         "text": "Nucleogenic : ( 289.2628  Ne20) ( 0.00145  Ne21) ( 0.00145  Ne22)\nCosmogenic : ( 25.99004  Ne20) ( 27.93929  Ne21) ( 32.22765  Ne22)\nAir : ( 8732.74716  Ne20) ( 26.05926  Ne21) ( 892.7709  Ne22)\n"
        }
       ]
      }
     },
     "ec2f9d3e0fd34dc1a1910eeebce49f39": {
      "model_module": "@jupyter-widgets/controls",
      "model_module_version": "1.4.0",
      "model_name": "ButtonModel",
      "state": {
       "description": "Calculate",
       "icon": "check",
       "layout": "IPY_MODEL_ab0c791931aa4950a00d5ca60c4e9c44",
       "style": "IPY_MODEL_b544a5aba26e4ca18736340f0b17e116",
       "tooltip": "Calculate deconvolution"
      }
     },
     "ec90c79487cb434bac0a20d321c2f552": {
      "model_module": "@jupyter-widgets/base",
      "model_module_version": "1.1.0",
      "model_name": "LayoutModel",
      "state": {}
     },
     "ed5e7c88ac4442ec842a9de1127ae327": {
      "model_module": "@jupyter-widgets/output",
      "model_module_version": "1.0.0",
      "model_name": "OutputModel",
      "state": {
       "layout": "IPY_MODEL_3be1474645cb415c991825079b8b7325",
       "outputs": [
        {
         "name": "stdout",
         "output_type": "stream",
         "text": "Nucleogenic : ( -0.0  Ne20) ( -0.0  Ne21) ( -0.0  Ne22)\nCosmogenic : ( -0.0  Ne20) ( -0.0  Ne21) ( -0.0  Ne22)\nAir : ( 9048.0  Ne20) ( 27.0  Ne21) ( 925.0  Ne22)\nNucleogenic : ( -0.0  Ne20) ( -0.0  Ne21) ( -0.0  Ne22)\nCosmogenic : ( -0.0  Ne20) ( -0.0  Ne21) ( -0.0  Ne22)\nAir : ( 9048.0  Ne20) ( 27.0  Ne21) ( 925.0  Ne22)\nNucleogenic : ( 29215.54294  Ne20) ( 0.14608  Ne21) ( 0.14608  Ne22)\nCosmogenic : ( 2624.99422  Ne20) ( 2821.86879  Ne21) ( 3254.99283  Ne22)\nAir : ( -22792.53716  Ne20) ( -68.01487  Ne21) ( -2330.13891  Ne22)\n"
        }
       ]
      }
     },
     "ed958d9dd1e846e7a4632401f81e3ead": {
      "model_module": "@jupyter-widgets/controls",
      "model_module_version": "1.4.0",
      "model_name": "DescriptionStyleModel",
      "state": {
       "description_width": ""
      }
     },
     "eece13c56c80417faff1268e37aa86dd": {
      "model_module": "@jupyter-widgets/output",
      "model_module_version": "1.0.0",
      "model_name": "OutputModel",
      "state": {
       "layout": "IPY_MODEL_35c745ec8c11496abe635017d0e28ae8",
       "outputs": [
        {
         "name": "stdout",
         "output_type": "stream",
         "text": "Nucleogenic : ( -0.0  Ne20) ( -0.0  Ne21) ( -0.0  Ne22)\nCosmogenic : ( -0.0  Ne20) ( -0.0  Ne21) ( -0.0  Ne22)\nAir : ( 9048.0  Ne20) ( 27.0  Ne21) ( 925.0  Ne22)\n"
        }
       ]
      }
     },
     "ef3024fa9bac4c5892590cb4ccf276e7": {
      "model_module": "@jupyter-widgets/controls",
      "model_module_version": "1.4.0",
      "model_name": "DescriptionStyleModel",
      "state": {
       "description_width": ""
      }
     },
     "efce640894b1477699917d664cbdb034": {
      "model_module": "@jupyter-widgets/base",
      "model_module_version": "1.1.0",
      "model_name": "LayoutModel",
      "state": {}
     },
     "f083393a2dd143fa8dbc7285c2c0c5ad": {
      "model_module": "@jupyter-widgets/base",
      "model_module_version": "1.1.0",
      "model_name": "LayoutModel",
      "state": {
       "border": "1px solid black"
      }
     },
     "f1653c26357f4a038d3596508949c4fd": {
      "model_module": "@jupyter-widgets/controls",
      "model_module_version": "1.4.0",
      "model_name": "FloatTextModel",
      "state": {
       "description": "Neon-20",
       "layout": "IPY_MODEL_9c35c4217ddb4b62a973fc4afed458b6",
       "step": null,
       "style": "IPY_MODEL_f4ed801721c340ccaa359cbc010c380a",
       "value": 9048
      }
     },
     "f175f2f30bbd4446a214e73224f67ac7": {
      "model_module": "@jupyter-widgets/base",
      "model_module_version": "1.1.0",
      "model_name": "LayoutModel",
      "state": {
       "grid_template_areas": "\n            \"Ne20 Ne21 Ne22\"\n            ",
       "grid_template_columns": "33% 33% 33%",
       "grid_template_rows": "auto auto auto",
       "width": "100%"
      }
     },
     "f2f8868fc38b41c0a2e2bab41dd06d88": {
      "model_module": "@jupyter-widgets/base",
      "model_module_version": "1.1.0",
      "model_name": "LayoutModel",
      "state": {}
     },
     "f309f6f701fd4cfa827d07f68fd7fa6d": {
      "model_module": "@jupyter-widgets/base",
      "model_module_version": "1.1.0",
      "model_name": "LayoutModel",
      "state": {
       "grid_template_areas": "\n            \"Ne20 Ne21 Ne22\"\n            ",
       "grid_template_columns": "33% 33% 33%",
       "grid_template_rows": "auto auto auto",
       "width": "100%"
      }
     },
     "f38150e771bd48d19ddca37b69939fce": {
      "model_module": "@jupyter-widgets/base",
      "model_module_version": "1.1.0",
      "model_name": "LayoutModel",
      "state": {}
     },
     "f3e244a38bc24fe6a18ef540640f3452": {
      "model_module": "@jupyter-widgets/base",
      "model_module_version": "1.1.0",
      "model_name": "LayoutModel",
      "state": {}
     },
     "f4ed801721c340ccaa359cbc010c380a": {
      "model_module": "@jupyter-widgets/controls",
      "model_module_version": "1.4.0",
      "model_name": "DescriptionStyleModel",
      "state": {
       "description_width": ""
      }
     },
     "f563e45be9a64a27beb1b38a2a8236ee": {
      "model_module": "@jupyter-widgets/controls",
      "model_module_version": "1.4.0",
      "model_name": "GridBoxModel",
      "state": {
       "children": [
        "IPY_MODEL_ae23ca788f6247588c25767731734c44",
        "IPY_MODEL_db73410a04544515a6ab981def3c0f6e",
        "IPY_MODEL_d1d3635f877142fba697e8a051a0e664"
       ],
       "layout": "IPY_MODEL_38916dfba3384a8cb8e60ffa69c76124"
      }
     },
     "f6becedd0b2b4df5b22f56c75fdea20f": {
      "model_module": "@jupyter-widgets/base",
      "model_module_version": "1.1.0",
      "model_name": "LayoutModel",
      "state": {
       "grid_template_areas": "\n            \"system mineral\"\n            ",
       "grid_template_columns": "50% 50%",
       "grid_template_rows": "auto auto auto",
       "width": "100%"
      }
     },
     "f6c320d07d2b4791a2549ff45e77c197": {
      "model_module": "@jupyter-widgets/controls",
      "model_module_version": "1.4.0",
      "model_name": "ButtonModel",
      "state": {
       "description": "Calculate",
       "icon": "check",
       "layout": "IPY_MODEL_118ff23d37ba45448cebde1baeb50032",
       "style": "IPY_MODEL_d7a1dc381cd14ef196c2c5f2172553a6",
       "tooltip": "Calculate deconvolution"
      }
     },
     "f6c66c2dc3174450b72fe923ff4edb1e": {
      "model_module": "@jupyter-widgets/base",
      "model_module_version": "1.1.0",
      "model_name": "LayoutModel",
      "state": {
       "grid_template_areas": "\n            \"system mineral\"\n            ",
       "grid_template_columns": "50% 50%",
       "grid_template_rows": "auto auto auto",
       "width": "100%"
      }
     },
     "f71ca0c35aa3427b8636b1c0d203bdb5": {
      "model_module": "@jupyter-widgets/output",
      "model_module_version": "1.0.0",
      "model_name": "OutputModel",
      "state": {
       "layout": "IPY_MODEL_e5955520b3a346ae8dea28c57362dc95",
       "outputs": [
        {
         "name": "stdout",
         "output_type": "stream",
         "text": "Nucleogenic : ( 29215.54294  Ne20) ( 0.14608  Ne21) ( 0.14608  Ne22)\nCosmogenic : ( 2624.99422  Ne20) ( 2821.86879  Ne21) ( 3254.99283  Ne22)\nAir : ( -22792.53716  Ne20) ( -68.01487  Ne21) ( -2330.13891  Ne22)\n"
        }
       ]
      }
     },
     "f74bdd9fa6a74d42b85e0ef9191486c4": {
      "model_module": "@jupyter-widgets/base",
      "model_module_version": "1.1.0",
      "model_name": "LayoutModel",
      "state": {}
     },
     "f8f54977bb734647bdfe44ff35ac8ce0": {
      "model_module": "@jupyter-widgets/controls",
      "model_module_version": "1.4.0",
      "model_name": "FloatTextModel",
      "state": {
       "description": "Neon-20",
       "layout": "IPY_MODEL_afb733287ced40babc7b0d3109dc1b6a",
       "step": null,
       "style": "IPY_MODEL_8b712cc6ad4d40888836e1c6fc01368a",
       "value": 9048
      }
     },
     "f9a743ac5d2a422294ef9ad5f7adc084": {
      "model_module": "@jupyter-widgets/controls",
      "model_module_version": "1.4.0",
      "model_name": "GridBoxModel",
      "state": {
       "children": [
        "IPY_MODEL_857724ab9cea4c62bce734afa7aa0aea",
        "IPY_MODEL_59688e8e08164d9ea4b48d8fb75170cd"
       ],
       "layout": "IPY_MODEL_352ba782f1a2413587c2275be919c4b9"
      }
     },
     "f9ae3ec79ae443d0b4e563f615191ab4": {
      "model_module": "@jupyter-widgets/controls",
      "model_module_version": "1.4.0",
      "model_name": "ButtonStyleModel",
      "state": {}
     },
     "f9e0057ff50648a8a18296b7497759ec": {
      "model_module": "@jupyter-widgets/controls",
      "model_module_version": "1.4.0",
      "model_name": "FloatTextModel",
      "state": {
       "description": "Neon-21",
       "layout": "IPY_MODEL_f3e244a38bc24fe6a18ef540640f3452",
       "step": null,
       "style": "IPY_MODEL_85ce8143b8504ef7b53bbee4e4904acc",
       "value": 27
      }
     },
     "fa40fe40fc3c40c7b54d2f67d1ffdab6": {
      "model_module": "@jupyter-widgets/base",
      "model_module_version": "1.1.0",
      "model_name": "LayoutModel",
      "state": {
       "border": "1px solid black"
      }
     },
     "fa448d3801644548b1960464519fb7d6": {
      "model_module": "@jupyter-widgets/base",
      "model_module_version": "1.1.0",
      "model_name": "LayoutModel",
      "state": {
       "border": "1px solid black"
      }
     },
     "fa96e3ac6e1c4135a9f7843c3830b6e5": {
      "model_module": "@jupyter-widgets/base",
      "model_module_version": "1.1.0",
      "model_name": "LayoutModel",
      "state": {}
     },
     "fae7ebddfd9042feaf89719ba29722a8": {
      "model_module": "@jupyter-widgets/output",
      "model_module_version": "1.0.0",
      "model_name": "OutputModel",
      "state": {
       "layout": "IPY_MODEL_9b4e02d9d11740f59281235866882a38",
       "outputs": [
        {
         "name": "stdout",
         "output_type": "stream",
         "text": "Nucleogenic : ( 29215.54294  Ne20) ( 0.14608  Ne21) ( 0.14608  Ne22)\nCosmogenic : ( 2624.99422  Ne20) ( 2821.86879  Ne21) ( 3254.99283  Ne22)\nAir : ( -22792.53716  Ne20) ( -68.01487  Ne21) ( -2330.13891  Ne22)\n"
        }
       ]
      }
     },
     "fb0b1edc00bb44c4bac6e3c09123fc8d": {
      "model_module": "@jupyter-widgets/output",
      "model_module_version": "1.0.0",
      "model_name": "OutputModel",
      "state": {
       "layout": "IPY_MODEL_469bbffa0a234c3ea780e28ab0c9d927",
       "outputs": [
        {
         "name": "stdout",
         "output_type": "stream",
         "text": "Nucleogenic : ( -0.0  Ne20) ( -0.0  Ne21) ( -0.0  Ne22)\nCosmogenic : ( -0.0  Ne20) ( -0.0  Ne21) ( -0.0  Ne22)\nAir : ( 9048.0  Ne20) ( 27.0  Ne21) ( 925.0  Ne22)\n"
        }
       ]
      }
     },
     "fb3aad26d8544b37970b5d2cc2d78994": {
      "model_module": "@jupyter-widgets/output",
      "model_module_version": "1.0.0",
      "model_name": "OutputModel",
      "state": {
       "layout": "IPY_MODEL_457bb4a2f6d04539acb19f9c76739546",
       "outputs": [
        {
         "name": "stdout",
         "output_type": "stream",
         "text": "Nucleogenic/Cosmogenic/Air\nInput: ( 9048.0  Ne20) ( 27.0  Ne21) ( 925.0  Ne22)\nNucleogenic : ( -0.0  Ne20) ( -0.0  Ne21) ( -0.0  Ne22)\nCosmogenic : ( -0.0  Ne20) ( -0.0  Ne21) ( -0.0  Ne22)\nAir : ( 9048.0  Ne20) ( 27.0  Ne21) ( 925.0  Ne22)\n \n"
        }
       ]
      }
     },
     "fbcdc167ae0e49c9ab475ca56026b876": {
      "model_module": "@jupyter-widgets/controls",
      "model_module_version": "1.4.0",
      "model_name": "SelectModel",
      "state": {
       "_options_labels": [
        "Nucleogenic/Cosmogenic/Air",
        "Nucleogenic/Mantle/Air",
        "Cosmogenic/Mantle/Air"
       ],
       "description": "Ternary System:",
       "index": 0,
       "layout": "IPY_MODEL_a1b8458c318b4703bdbec38bf44aa2c4",
       "rows": 4,
       "style": "IPY_MODEL_634d3d52314745c2bdf3e844bb35092e"
      }
     },
     "fc0e078f718a4934aecdf2d90fe7ff08": {
      "model_module": "@jupyter-widgets/base",
      "model_module_version": "1.1.0",
      "model_name": "LayoutModel",
      "state": {}
     },
     "fc411d8971cc4c0490476aa3ff77db95": {
      "model_module": "@jupyter-widgets/controls",
      "model_module_version": "1.4.0",
      "model_name": "ButtonModel",
      "state": {
       "description": "Calculate",
       "icon": "check",
       "layout": "IPY_MODEL_712f0a40e8b64d4aac756e25d073663d",
       "style": "IPY_MODEL_dcd4272c251d46fca47cbd63f2d8b941",
       "tooltip": "Calculate deconvolution"
      }
     },
     "fc590e2e0854463b96f847a5786f2b14": {
      "model_module": "@jupyter-widgets/base",
      "model_module_version": "1.1.0",
      "model_name": "LayoutModel",
      "state": {}
     },
     "fcc7b9d3448745b294557b3ffe0c7df6": {
      "model_module": "@jupyter-widgets/controls",
      "model_module_version": "1.4.0",
      "model_name": "SelectModel",
      "state": {
       "_options_labels": [
        "Nucleogenic/Cosmogenic/Air",
        "Nucleogenic/Mantle/Air",
        "Cosmogenic/Mantle/Air"
       ],
       "description": "Ternary System:",
       "index": 0,
       "layout": "IPY_MODEL_7e448bc5e91c478eb910ca58c1519876",
       "rows": 4,
       "style": "IPY_MODEL_70ab3b4523e54c87b67f51d926ddc00f"
      }
     },
     "fd1b0c33ef1347ddad5c226a0cce5371": {
      "model_module": "@jupyter-widgets/controls",
      "model_module_version": "1.4.0",
      "model_name": "SelectModel",
      "state": {
       "_options_labels": [
        "Nucleogenic/Cosmogenic/Air",
        "Nucleogenic/Mantle/Air",
        "Cosmogenic/Mantle/Air"
       ],
       "description": "Ternary System:",
       "index": 0,
       "layout": "IPY_MODEL_7268638645334e4eb1a2e3f97fde3a9b",
       "rows": 4,
       "style": "IPY_MODEL_e152d4ae064c4ccca9e2e0c491bfcfdc"
      }
     },
     "fd41a91610f846df87847820c445eef3": {
      "model_module": "@jupyter-widgets/controls",
      "model_module_version": "1.4.0",
      "model_name": "ButtonStyleModel",
      "state": {}
     },
     "fd4b138db4254ee69de2bd246fe37b4f": {
      "model_module": "@jupyter-widgets/controls",
      "model_module_version": "1.4.0",
      "model_name": "FloatTextModel",
      "state": {
       "description": "Neon-21",
       "layout": "IPY_MODEL_91e0fc9edc444ae0b89af1cdbce395e5",
       "step": null,
       "style": "IPY_MODEL_d540d86dfb7c4ccbb130ffb36ee60560",
       "value": 27
      }
     },
     "fd96e5852cc446dda7dbc2f74469915e": {
      "model_module": "@jupyter-widgets/controls",
      "model_module_version": "1.4.0",
      "model_name": "DescriptionStyleModel",
      "state": {
       "description_width": "initial"
      }
     },
     "fdccd6dcefc441d890db16e0d139f659": {
      "model_module": "@jupyter-widgets/controls",
      "model_module_version": "1.4.0",
      "model_name": "ButtonStyleModel",
      "state": {}
     },
     "fdf480b7661248d89dfd46e7572a012f": {
      "model_module": "@jupyter-widgets/controls",
      "model_module_version": "1.4.0",
      "model_name": "ButtonModel",
      "state": {
       "description": "Calculate",
       "icon": "check",
       "layout": "IPY_MODEL_e4192e044d414a2dae67c87f7c97e487",
       "style": "IPY_MODEL_05e329a369d8458c99e028bb8c5d4802",
       "tooltip": "Calculate deconvolution"
      }
     },
     "fe024074d8d948959e923f7f64ae1652": {
      "model_module": "@jupyter-widgets/controls",
      "model_module_version": "1.4.0",
      "model_name": "ButtonModel",
      "state": {
       "description": "Calculate",
       "icon": "check",
       "layout": "IPY_MODEL_9cad5c7121e4411b81b45252337b801c",
       "style": "IPY_MODEL_99eb1969e7b743d49647350b46005d2f",
       "tooltip": "Calculate deconvolution"
      }
     },
     "fea2c7f6975e43209445116229c77562": {
      "model_module": "@jupyter-widgets/base",
      "model_module_version": "1.1.0",
      "model_name": "LayoutModel",
      "state": {}
     },
     "fee8231987384977a68a24787473d814": {
      "model_module": "@jupyter-widgets/base",
      "model_module_version": "1.1.0",
      "model_name": "LayoutModel",
      "state": {}
     },
     "ff55432cdbd64d30adedc4fe300c5718": {
      "model_module": "@jupyter-widgets/base",
      "model_module_version": "1.1.0",
      "model_name": "LayoutModel",
      "state": {}
     },
     "ffbcf5a5137349b2abe4553ab5951cb4": {
      "model_module": "@jupyter-widgets/base",
      "model_module_version": "1.1.0",
      "model_name": "LayoutModel",
      "state": {
       "border": "1px solid black"
      }
     },
     "ffd6e8c5d70843f9b93a36fda6fa9efa": {
      "model_module": "@jupyter-widgets/controls",
      "model_module_version": "1.4.0",
      "model_name": "DescriptionStyleModel",
      "state": {
       "description_width": ""
      }
     },
     "ffddb824de1e4327b0ced5e1be84f36b": {
      "model_module": "@jupyter-widgets/base",
      "model_module_version": "1.1.0",
      "model_name": "LayoutModel",
      "state": {}
     }
    },
    "version_major": 2,
    "version_minor": 0
   }
  }
 },
 "nbformat": 4,
 "nbformat_minor": 2
}
