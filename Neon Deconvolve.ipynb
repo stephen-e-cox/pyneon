{
 "cells": [
  {
   "cell_type": "code",
   "execution_count": 5,
   "metadata": {},
   "outputs": [
    {
     "data": {
      "text/html": [
       "<script>\n",
       "code_show=true; \n",
       "function code_toggle() {\n",
       " if (code_show){\n",
       " $('div.input').hide();\n",
       " } else {\n",
       " $('div.input').show();\n",
       " }\n",
       " code_show = !code_show\n",
       "} \n",
       "$( document ).ready(code_toggle);\n",
       "</script>\n",
       "The raw code for this IPython notebook is by default hidden for easier reading.\n",
       "To toggle on/off the raw code, click <a href=\"javascript:code_toggle()\">here</a>."
      ],
      "text/plain": [
       "<IPython.core.display.HTML object>"
      ]
     },
     "execution_count": 5,
     "metadata": {},
     "output_type": "execute_result"
    }
   ],
   "source": [
    "import ipywidgets as widgets\n",
    "import numpy as np\n",
    "from IPython.display import HTML\n",
    "\n",
    "\n",
    "HTML('''<script>\n",
    "code_show=true; \n",
    "function code_toggle() {\n",
    " if (code_show){\n",
    " $('div.input').hide();\n",
    " } else {\n",
    " $('div.input').show();\n",
    " }\n",
    " code_show = !code_show\n",
    "} \n",
    "$( document ).ready(code_toggle);\n",
    "</script>\n",
    "The raw code for this IPython notebook is by default hidden for easier reading.\n",
    "To toggle on/off the raw code, click <a href=\"javascript:code_toggle()\">here</a>.''')"
   ]
  },
  {
   "cell_type": "code",
   "execution_count": 1,
   "metadata": {},
   "outputs": [],
   "source": [
    "system = widgets.Select(\n",
    "    options=['Nucleogenic/Cosmogenic/Air', 'Nucleogenic/Mantle/Air', 'Cosmogenic/Mantle/Air'],\n",
    "    value='Nucleogenic/Cosmogenic/Air',\n",
    "    rows=4,\n",
    "    description='Ternary System:',\n",
    "    style = {'description_width': 'initial'},\n",
    "    disabled=False\n",
    ")\n",
    "\n",
    "mineral = widgets.Select(\n",
    "    options=['quartz', 'pyroxene'],\n",
    "    value='quartz',\n",
    "    rows=3,\n",
    "    description='Mineral:',\n",
    "    style = {'description_width': 'initial'},\n",
    "    disabled=False\n",
    ")\n",
    "\n",
    "SysInputs = widgets.GridBox(children=[system, mineral],\n",
    "        layout=widgets.Layout(\n",
    "            width='100%',\n",
    "            grid_template_rows='auto auto auto',\n",
    "            grid_template_columns='50% 50%',\n",
    "            grid_template_areas='''\n",
    "            \"system mineral\"\n",
    "            '''\n",
    "        )\n",
    ")\n",
    "\n",
    "Ne20 = widgets.FloatText(\n",
    "    value=9048,\n",
    "    description='Neon-20',\n",
    "    disabled=False\n",
    ")\n",
    "\n",
    "Ne21 = widgets.FloatText(\n",
    "    value=27,\n",
    "    description='Neon-21',\n",
    "    disabled=False\n",
    ")\n",
    "\n",
    "Ne22 = widgets.FloatText(\n",
    "    value=925,\n",
    "    description='Neon-22',\n",
    "    disabled=False\n",
    ")\n",
    "\n",
    "NeInputs = widgets.GridBox(children=[Ne20, Ne21, Ne22],\n",
    "        layout=widgets.Layout(\n",
    "            width='100%',\n",
    "            grid_template_rows='auto auto auto',\n",
    "            grid_template_columns='33% 33% 33%',\n",
    "            grid_template_areas='''\n",
    "            \"Ne20 Ne21 Ne22\"\n",
    "            '''\n",
    "        )\n",
    ")"
   ]
  },
  {
   "cell_type": "code",
   "execution_count": 24,
   "metadata": {},
   "outputs": [],
   "source": [
    "def deconvolve(system):\n",
    "    \n",
    "    print(\"Input: (\",round(Ne20.value,5),\" Ne20) (\", round(Ne21.value,5),\" Ne21) (\", round(Ne22.value,5),\" Ne22)\")\n",
    "    \n",
    "    comp = []\n",
    "    comp_name = []\n",
    "    comp_option = []\n",
    "    neon_20_22_comp = []\n",
    "    neon_21_22_comp = []\n",
    "    neon_22_frac = []\n",
    "    neon_20_frac = []\n",
    "    neon_21_frac = []\n",
    "    neon_22_norm = []\n",
    "    neon_20_norm = []\n",
    "    neon_21_norm = []\n",
    "    neon_22_sig = []\n",
    "    neon_20_sig = []\n",
    "    neon_21_sig = []\n",
    "\n",
    "    if system == 'Nucleogenic/Cosmogenic/Air':\n",
    "        comp.append(0)\n",
    "        comp.append(1)\n",
    "        comp.append(2)\n",
    "        comp_name.append('Nucleogenic')\n",
    "        comp_name.append('Cosmogenic')\n",
    "        comp_name.append('Air')\n",
    "\n",
    "    elif system == 'Nucleogenic/Mantle/Air':\n",
    "        comp.append(0)\n",
    "        comp.append(3)\n",
    "        comp.append(2)\n",
    "        comp_name.append('Nucleogenic')\n",
    "        comp_name.append('Mantle')\n",
    "        comp_name.append('Air')\n",
    "\n",
    "    else:\n",
    "        comp.append(3)\n",
    "        comp.append(1)\n",
    "        comp.append(2)\n",
    "        comp_name.append('Cosmogenic')\n",
    "        comp_name.append('Mantle')\n",
    "        comp_name.append('Air')\n",
    "\n",
    "    #nucleogenic\n",
    "    comp_option.append([.99999,.000005,.000005])\n",
    "\n",
    "    #cosmogenic (Niedermann 2002)\n",
    "\n",
    "    if mineral == 'quartz':\n",
    "        #quartz\n",
    "        comp_option.append([0.4582741396,0.3666193117,0.1751065487])\n",
    "    else:\n",
    "        #pyroxene\n",
    "        comp_option.append([0.301659125188537,0.324283559577677,0.374057315233786])\n",
    "\n",
    "    #air\n",
    "    comp_option.append([.9048,.0027,.0925])\n",
    "    \n",
    "    for i in range(3):\n",
    "        comp[i] = comp_option[comp[i]]\n",
    "        neon_20_22_comp.append(comp[i][0]/comp[i][2])\n",
    "        neon_21_22_comp.append(comp[i][1]/comp[i][2])\n",
    "        \n",
    "    neon_20_22 = Ne20.value/Ne22.value\n",
    "    neon_21_22 = Ne21.value/Ne22.value\n",
    "\n",
    "    data_matrix = np.array([[neon_20_22], [neon_21_22], [1]])\n",
    "\n",
    "    model_matrix = np.array([[neon_20_22_comp[0], neon_20_22_comp[1], neon_20_22_comp[2]], [neon_21_22_comp[0], neon_21_22_comp[1],\n",
    "                                                                                      neon_21_22_comp[2]], [1, 1, 1]])    \n",
    "    inv_model = np.linalg.inv(model_matrix)\n",
    "    \n",
    "    results_matrix = np.matmul(inv_model, data_matrix)\n",
    "\n",
    "    for i in range(3):\n",
    "        neon_22_frac.append(results_matrix[i])\n",
    "        neon_22_norm.append(results_matrix[i]/sum(results_matrix))\n",
    "        neon_20_frac.append(neon_22_frac[i]*neon_20_22_comp[i])\n",
    "        neon_21_frac.append(neon_22_frac[i]*neon_21_22_comp[i])\n",
    "        \n",
    "    for i in range(3):\n",
    "        neon_20_norm.append(neon_20_frac[i]/sum(neon_20_frac))\n",
    "        neon_21_norm.append(neon_21_frac[i]/sum(neon_21_frac))\n",
    "\n",
    "        neon_22_sig.append(Ne22.value*neon_22_norm[i])\n",
    "        neon_20_sig.append(Ne20.value*neon_20_norm[i])\n",
    "        neon_21_sig.append(Ne21.value*neon_21_norm[i])\n",
    "        print(comp_name[i],\": (\",round(neon_20_sig[i][0],5),\" Ne20) (\", round(neon_21_sig[i][0],5),\" Ne21) (\", round(neon_22_sig[i][0],5),\" Ne22)\")\n",
    "#         return neon_20_sig[i], neon_21_sig[i], neon_22_sig[i]\n",
    "\n",
    "    print(\" \")"
   ]
  },
  {
   "cell_type": "code",
   "execution_count": 25,
   "metadata": {},
   "outputs": [],
   "source": [
    "clicker = widgets.Button(\n",
    "    description='Calculate',\n",
    "    disabled=False,\n",
    "    tooltip='Calculate deconvolution',\n",
    "    icon='check'\n",
    ")\n",
    "\n",
    "def on_button_clicked(self):\n",
    "    print(system.value)\n",
    "    deconvolve(system.value)\n",
    "    \n",
    "clicker.on_click(on_button_clicked)"
   ]
  },
  {
   "cell_type": "code",
   "execution_count": 26,
   "metadata": {},
   "outputs": [
    {
     "data": {
      "application/vnd.jupyter.widget-view+json": {
       "model_id": "01a4814ea5894dcc877cd2983e3672a9",
       "version_major": 2,
       "version_minor": 0
      },
      "text/plain": [
       "GridBox(children=(Select(description='Ternary System:', options=('Nucleogenic/Cosmogenic/Air', 'Nucleogenic/Ma…"
      ]
     },
     "metadata": {},
     "output_type": "display_data"
    },
    {
     "data": {
      "application/vnd.jupyter.widget-view+json": {
       "model_id": "804aac347947439388ebe5e96821df37",
       "version_major": 2,
       "version_minor": 0
      },
      "text/plain": [
       "GridBox(children=(FloatText(value=9048.0, description='Neon-20'), FloatText(value=27.0, description='Neon-21')…"
      ]
     },
     "metadata": {},
     "output_type": "display_data"
    },
    {
     "data": {
      "application/vnd.jupyter.widget-view+json": {
       "model_id": "409010cb09ba40bc9863c5f22cc52539",
       "version_major": 2,
       "version_minor": 0
      },
      "text/plain": [
       "Button(description='Calculate', icon='check', style=ButtonStyle(), tooltip='Calculate deconvolution')"
      ]
     },
     "metadata": {},
     "output_type": "display_data"
    },
    {
     "name": "stdout",
     "output_type": "stream",
     "text": [
      "Nucleogenic/Cosmogenic/Air\n",
      "Input: ( 9048.0  Ne20) ( 27.0  Ne21) ( 925.0  Ne22)\n",
      "Nucleogenic : ( -0.0  Ne20) ( -0.0  Ne21) ( -0.0  Ne22)\n",
      "Cosmogenic : ( -0.0  Ne20) ( -0.0  Ne21) ( -0.0  Ne22)\n",
      "Air : ( 9048.0  Ne20) ( 27.0  Ne21) ( 925.0  Ne22)\n",
      " \n",
      "Nucleogenic/Cosmogenic/Air\n",
      "Input: ( 9048.0  Ne20) ( 54.0  Ne21) ( 925.0  Ne22)\n",
      "Nucleogenic : ( 289.2628  Ne20) ( 0.00145  Ne21) ( 0.00145  Ne22)\n",
      "Cosmogenic : ( 25.99004  Ne20) ( 27.93929  Ne21) ( 32.22765  Ne22)\n",
      "Air : ( 8732.74716  Ne20) ( 26.05926  Ne21) ( 892.7709  Ne22)\n",
      " \n"
     ]
    }
   ],
   "source": [
    "display(SysInputs)\n",
    "display(NeInputs)\n",
    "display(clicker)"
   ]
  }
 ],
 "metadata": {
  "kernelspec": {
   "display_name": "Python 3",
   "language": "python",
   "name": "python3"
  },
  "language_info": {
   "codemirror_mode": {
    "name": "ipython",
    "version": 3
   },
   "file_extension": ".py",
   "mimetype": "text/x-python",
   "name": "python",
   "nbconvert_exporter": "python",
   "pygments_lexer": "ipython3",
   "version": "3.6.7"
  }
 },
 "nbformat": 4,
 "nbformat_minor": 2
}
