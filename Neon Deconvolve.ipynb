{
 "cells": [
  {
   "cell_type": "code",
   "execution_count": 1,
   "metadata": {},
   "outputs": [
    {
     "data": {
      "text/html": [
       "<script>\n",
       "code_show=true; \n",
       "function code_toggle() {\n",
       " if (code_show){\n",
       " $('div.input').hide();\n",
       " } else {\n",
       " $('div.input').show();\n",
       " }\n",
       " code_show = !code_show\n",
       "} \n",
       "$( document ).ready(code_toggle);\n",
       "</script>\n",
       "The raw code for this IPython notebook is by default hidden for easier reading.\n",
       "To toggle on/off the raw code, click <a href=\"javascript:code_toggle()\">here</a>."
      ],
      "text/plain": [
       "<IPython.core.display.HTML object>"
      ]
     },
     "execution_count": 1,
     "metadata": {},
     "output_type": "execute_result"
    }
   ],
   "source": [
    "import ipywidgets as widgets\n",
    "import numpy as np\n",
    "from IPython.display import HTML\n",
    "\n",
    "\n",
    "HTML('''<script>\n",
    "code_show=true; \n",
    "function code_toggle() {\n",
    " if (code_show){\n",
    " $('div.input').hide();\n",
    " } else {\n",
    " $('div.input').show();\n",
    " }\n",
    " code_show = !code_show\n",
    "} \n",
    "$( document ).ready(code_toggle);\n",
    "</script>\n",
    "The raw code for this IPython notebook is by default hidden for easier reading.\n",
    "To toggle on/off the raw code, click <a href=\"javascript:code_toggle()\">here</a>.''')"
   ]
  },
  {
   "cell_type": "code",
   "execution_count": 2,
   "metadata": {},
   "outputs": [],
   "source": [
    "system = widgets.Select(\n",
    "    options=['Nucleogenic/Cosmogenic/Air', 'Nucleogenic/Mantle/Air', 'Cosmogenic/Mantle/Air'],\n",
    "    value='Nucleogenic/Cosmogenic/Air',\n",
    "    rows=4,\n",
    "    description='Ternary System:',\n",
    "    style = {'description_width': 'initial'},\n",
    "    disabled=False\n",
    ")\n",
    "\n",
    "mineral = widgets.Select(\n",
    "    options=['quartz', 'pyroxene'],\n",
    "    value='quartz',\n",
    "    rows=3,\n",
    "    description='Mineral:',\n",
    "    style = {'description_width': 'initial'},\n",
    "    disabled=False\n",
    ")\n",
    "\n",
    "SysInputs = widgets.GridBox(children=[system, mineral],\n",
    "        layout=widgets.Layout(\n",
    "            width='100%',\n",
    "            grid_template_rows='auto auto auto',\n",
    "            grid_template_columns='50% 50%',\n",
    "            grid_template_areas='''\n",
    "            \"system mineral\"\n",
    "            '''\n",
    "        )\n",
    ")\n",
    "\n",
    "Ne20 = widgets.FloatText(\n",
    "    value=9048,\n",
    "    description='Neon-20',\n",
    "    disabled=False\n",
    ")\n",
    "\n",
    "Ne21 = widgets.FloatText(\n",
    "    value=27,\n",
    "    description='Neon-21',\n",
    "    disabled=False\n",
    ")\n",
    "\n",
    "Ne22 = widgets.FloatText(\n",
    "    value=925,\n",
    "    description='Neon-22',\n",
    "    disabled=False\n",
    ")\n",
    "\n",
    "NeInputs = widgets.GridBox(children=[Ne20, Ne21, Ne22],\n",
    "        layout=widgets.Layout(\n",
    "            width='100%',\n",
    "            grid_template_rows='auto auto auto',\n",
    "            grid_template_columns='33% 33% 33%',\n",
    "            grid_template_areas='''\n",
    "            \"Ne20 Ne21 Ne22\"\n",
    "            '''\n",
    "        )\n",
    ")"
   ]
  },
  {
   "cell_type": "code",
   "execution_count": 3,
   "metadata": {},
   "outputs": [],
   "source": [
    "def deconvolve(system):\n",
    "    \n",
    "    print(\"Input: (\",round(Ne20.value,5),\" Ne20) (\", round(Ne21.value,5),\" Ne21) (\", round(Ne22.value,5),\" Ne22)\")\n",
    "    \n",
    "    comp = []\n",
    "    comp_name = []\n",
    "    comp_option = []\n",
    "    neon_20_22_comp = []\n",
    "    neon_21_22_comp = []\n",
    "    neon_22_frac = []\n",
    "    neon_20_frac = []\n",
    "    neon_21_frac = []\n",
    "    neon_22_norm = []\n",
    "    neon_20_norm = []\n",
    "    neon_21_norm = []\n",
    "    neon_22_sig = []\n",
    "    neon_20_sig = []\n",
    "    neon_21_sig = []\n",
    "\n",
    "    if system == 'Nucleogenic/Cosmogenic/Air':\n",
    "        comp.append(0)\n",
    "        comp.append(1)\n",
    "        comp.append(2)\n",
    "        comp_name.append('Nucleogenic')\n",
    "        comp_name.append('Cosmogenic')\n",
    "        comp_name.append('Air')\n",
    "\n",
    "    elif system == 'Nucleogenic/Mantle/Air':\n",
    "        comp.append(0)\n",
    "        comp.append(3)\n",
    "        comp.append(2)\n",
    "        comp_name.append('Nucleogenic')\n",
    "        comp_name.append('Mantle')\n",
    "        comp_name.append('Air')\n",
    "\n",
    "    else:\n",
    "        comp.append(3)\n",
    "        comp.append(1)\n",
    "        comp.append(2)\n",
    "        comp_name.append('Cosmogenic')\n",
    "        comp_name.append('Mantle')\n",
    "        comp_name.append('Air')\n",
    "\n",
    "    #nucleogenic\n",
    "    comp_option.append([.99999,.000005,.000005])\n",
    "\n",
    "    #cosmogenic (Niedermann 2002)\n",
    "\n",
    "    if mineral == 'quartz':\n",
    "        #quartz\n",
    "        comp_option.append([0.4582741396,0.3666193117,0.1751065487])\n",
    "    else:\n",
    "        #pyroxene\n",
    "        comp_option.append([0.301659125188537,0.324283559577677,0.374057315233786])\n",
    "\n",
    "    #air\n",
    "    comp_option.append([.9048,.0027,.0925])\n",
    "    \n",
    "    for i in range(3):\n",
    "        comp[i] = comp_option[comp[i]]\n",
    "        neon_20_22_comp.append(comp[i][0]/comp[i][2])\n",
    "        neon_21_22_comp.append(comp[i][1]/comp[i][2])\n",
    "        \n",
    "    neon_20_22 = Ne20.value/Ne22.value\n",
    "    neon_21_22 = Ne21.value/Ne22.value\n",
    "\n",
    "    data_matrix = np.array([[neon_20_22], [neon_21_22], [1]])\n",
    "\n",
    "    model_matrix = np.array([[neon_20_22_comp[0], neon_20_22_comp[1], neon_20_22_comp[2]], [neon_21_22_comp[0], neon_21_22_comp[1],\n",
    "                                                                                      neon_21_22_comp[2]], [1, 1, 1]])    \n",
    "    inv_model = np.linalg.inv(model_matrix)\n",
    "    \n",
    "    results_matrix = np.matmul(inv_model, data_matrix)\n",
    "\n",
    "    for i in range(3):\n",
    "        neon_22_frac.append(results_matrix[i])\n",
    "        neon_22_norm.append(results_matrix[i]/sum(results_matrix))\n",
    "        neon_20_frac.append(neon_22_frac[i]*neon_20_22_comp[i])\n",
    "        neon_21_frac.append(neon_22_frac[i]*neon_21_22_comp[i])\n",
    "                \n",
    "    out = widgets.Output(layout={'border': '1px solid black'})\n",
    "            \n",
    "    for i in range(3):\n",
    "        neon_20_norm.append(neon_20_frac[i]/sum(neon_20_frac))\n",
    "        neon_21_norm.append(neon_21_frac[i]/sum(neon_21_frac))\n",
    "\n",
    "        neon_22_sig.append(Ne22.value*neon_22_norm[i])\n",
    "        neon_20_sig.append(Ne20.value*neon_20_norm[i])\n",
    "        neon_21_sig.append(Ne21.value*neon_21_norm[i])\n",
    "        with out:\n",
    "            print(comp_name[i],\": (\",round(neon_20_sig[i][0],5),\" Ne20) (\", round(neon_21_sig[i][0],5),\" Ne21) (\", round(neon_22_sig[i][0],5),\" Ne22)\")\n",
    "        #return neon_20_sig[i], neon_21_sig[i], neon_22_sig[i]\n",
    "\n",
    "    return out\n",
    "    \n",
    "    print(\" \")"
   ]
  },
  {
   "cell_type": "code",
   "execution_count": 6,
   "metadata": {},
   "outputs": [],
   "source": [
    "clicker = widgets.Button(\n",
    "    description='Calculate',\n",
    "    disabled=False,\n",
    "    tooltip='Calculate deconvolution',\n",
    "    icon='check'\n",
    ")\n",
    "\n",
    "def on_button_clicked(self):\n",
    "    print(system.value)\n",
    "    out = deconvolve(system.value)\n",
    "    display(out)\n",
    "    \n",
    "clicker.on_click(on_button_clicked)"
   ]
  },
  {
   "cell_type": "code",
   "execution_count": 5,
   "metadata": {},
   "outputs": [
    {
     "data": {
      "application/vnd.jupyter.widget-view+json": {
       "model_id": "f9a743ac5d2a422294ef9ad5f7adc084",
       "version_major": 2,
       "version_minor": 0
      },
      "text/plain": [
       "GridBox(children=(Select(description='Ternary System:', options=('Nucleogenic/Cosmogenic/Air', 'Nucleogenic/Ma…"
      ]
     },
     "metadata": {},
     "output_type": "display_data"
    },
    {
     "data": {
      "application/vnd.jupyter.widget-view+json": {
       "model_id": "ad9b5e01023c49a09beec159ac2b5398",
       "version_major": 2,
       "version_minor": 0
      },
      "text/plain": [
       "GridBox(children=(FloatText(value=9048.0, description='Neon-20'), FloatText(value=27.0, description='Neon-21')…"
      ]
     },
     "metadata": {},
     "output_type": "display_data"
    },
    {
     "data": {
      "application/vnd.jupyter.widget-view+json": {
       "model_id": "36b24dd27ea14fd2b97dbbdcbce1cffe",
       "version_major": 2,
       "version_minor": 0
      },
      "text/plain": [
       "Button(description='Calculate', icon='check', style=ButtonStyle(), tooltip='Calculate deconvolution')"
      ]
     },
     "metadata": {},
     "output_type": "display_data"
    },
    {
     "name": "stdout",
     "output_type": "stream",
     "text": [
      "Nucleogenic/Cosmogenic/Air\n",
      "Input: ( 9048.0  Ne20) ( 27.0  Ne21) ( 925.0  Ne22)\n"
     ]
    },
    {
     "ename": "NameError",
     "evalue": "name 'out' is not defined",
     "output_type": "error",
     "traceback": [
      "\u001b[0;31m---------------------------------------------------------------------------\u001b[0m",
      "\u001b[0;31mNameError\u001b[0m                                 Traceback (most recent call last)",
      "\u001b[0;32m<ipython-input-4-74e095a5187b>\u001b[0m in \u001b[0;36mon_button_clicked\u001b[0;34m(self)\u001b[0m\n\u001b[1;32m      9\u001b[0m     \u001b[0mprint\u001b[0m\u001b[0;34m(\u001b[0m\u001b[0msystem\u001b[0m\u001b[0;34m.\u001b[0m\u001b[0mvalue\u001b[0m\u001b[0;34m)\u001b[0m\u001b[0;34m\u001b[0m\u001b[0;34m\u001b[0m\u001b[0m\n\u001b[1;32m     10\u001b[0m     \u001b[0mdeconvolve\u001b[0m\u001b[0;34m(\u001b[0m\u001b[0msystem\u001b[0m\u001b[0;34m.\u001b[0m\u001b[0mvalue\u001b[0m\u001b[0;34m)\u001b[0m\u001b[0;34m\u001b[0m\u001b[0;34m\u001b[0m\u001b[0m\n\u001b[0;32m---> 11\u001b[0;31m     \u001b[0mdisplay\u001b[0m\u001b[0;34m(\u001b[0m\u001b[0mout\u001b[0m\u001b[0;34m)\u001b[0m\u001b[0;34m\u001b[0m\u001b[0;34m\u001b[0m\u001b[0m\n\u001b[0m\u001b[1;32m     12\u001b[0m \u001b[0;34m\u001b[0m\u001b[0m\n\u001b[1;32m     13\u001b[0m \u001b[0mclicker\u001b[0m\u001b[0;34m.\u001b[0m\u001b[0mon_click\u001b[0m\u001b[0;34m(\u001b[0m\u001b[0mon_button_clicked\u001b[0m\u001b[0;34m)\u001b[0m\u001b[0;34m\u001b[0m\u001b[0;34m\u001b[0m\u001b[0m\n",
      "\u001b[0;31mNameError\u001b[0m: name 'out' is not defined"
     ]
    }
   ],
   "source": [
    "display(SysInputs)\n",
    "display(NeInputs)\n",
    "display(clicker)"
   ]
  }
 ],
 "metadata": {
  "kernelspec": {
   "display_name": "Python 3",
   "language": "python",
   "name": "python3"
  },
  "language_info": {
   "codemirror_mode": {
    "name": "ipython",
    "version": 3
   },
   "file_extension": ".py",
   "mimetype": "text/x-python",
   "name": "python",
   "nbconvert_exporter": "python",
   "pygments_lexer": "ipython3",
   "version": "3.6.7"
  },
  "widgets": {
   "application/vnd.jupyter.widget-state+json": {
    "state": {
     "00f0c530eae446609be738dd7999463d": {
      "model_module": "@jupyter-widgets/controls",
      "model_module_version": "1.4.0",
      "model_name": "FloatTextModel",
      "state": {
       "description": "Neon-22",
       "layout": "IPY_MODEL_c831efb9981542ec8d74d00fa91c941e",
       "step": null,
       "style": "IPY_MODEL_ffd6e8c5d70843f9b93a36fda6fa9efa",
       "value": 925
      }
     },
     "01a4814ea5894dcc877cd2983e3672a9": {
      "model_module": "@jupyter-widgets/controls",
      "model_module_version": "1.4.0",
      "model_name": "GridBoxModel",
      "state": {
       "children": [
        "IPY_MODEL_1ee2079de6fa44a9882b09dc35ecb18c",
        "IPY_MODEL_1f1c34e6e89a4c58bacd04247e96b17f"
       ],
       "layout": "IPY_MODEL_ea46f3b84a284e4c859d1528b4693da2"
      }
     },
     "04318ab41e28494b819e2b1fb993f134": {
      "model_module": "@jupyter-widgets/base",
      "model_module_version": "1.1.0",
      "model_name": "LayoutModel",
      "state": {
       "grid_template_areas": "\n            \"Ne20 Ne21 Ne22\"\n            ",
       "grid_template_columns": "33% 33% 33%",
       "grid_template_rows": "auto auto auto",
       "width": "100%"
      }
     },
     "05e329a369d8458c99e028bb8c5d4802": {
      "model_module": "@jupyter-widgets/controls",
      "model_module_version": "1.4.0",
      "model_name": "ButtonStyleModel",
      "state": {}
     },
     "068ea7810b3341628bd2e92f72cd3662": {
      "model_module": "@jupyter-widgets/controls",
      "model_module_version": "1.4.0",
      "model_name": "DescriptionStyleModel",
      "state": {
       "description_width": "initial"
      }
     },
     "07b9f4736d2e40be94e14ee0f072d6f7": {
      "model_module": "@jupyter-widgets/base",
      "model_module_version": "1.1.0",
      "model_name": "LayoutModel",
      "state": {}
     },
     "0b83fb9b901f4e788fc37b789ff9dd31": {
      "model_module": "@jupyter-widgets/controls",
      "model_module_version": "1.4.0",
      "model_name": "DescriptionStyleModel",
      "state": {
       "description_width": "initial"
      }
     },
     "0f34fd0e6a664a45b5ad53b50b4f327c": {
      "model_module": "@jupyter-widgets/base",
      "model_module_version": "1.1.0",
      "model_name": "LayoutModel",
      "state": {}
     },
     "0fa2b0bea54e45d49a71ebcd8fd3a502": {
      "model_module": "@jupyter-widgets/controls",
      "model_module_version": "1.4.0",
      "model_name": "SelectModel",
      "state": {
       "_options_labels": [
        "quartz",
        "pyroxene"
       ],
       "description": "Mineral:",
       "index": 0,
       "layout": "IPY_MODEL_fa96e3ac6e1c4135a9f7843c3830b6e5",
       "rows": 3,
       "style": "IPY_MODEL_2de08b5697db4ad294ea33122839fd9a"
      }
     },
     "10cb6e3778834c36bb27a1743d48191e": {
      "model_module": "@jupyter-widgets/controls",
      "model_module_version": "1.4.0",
      "model_name": "DescriptionStyleModel",
      "state": {
       "description_width": ""
      }
     },
     "113ad0c3b5524bd18115f797e8fd24d7": {
      "model_module": "@jupyter-widgets/controls",
      "model_module_version": "1.4.0",
      "model_name": "ButtonStyleModel",
      "state": {}
     },
     "118ff23d37ba45448cebde1baeb50032": {
      "model_module": "@jupyter-widgets/base",
      "model_module_version": "1.1.0",
      "model_name": "LayoutModel",
      "state": {}
     },
     "1415c1d3acf349ceb77e54cf6a46c61e": {
      "model_module": "@jupyter-widgets/controls",
      "model_module_version": "1.4.0",
      "model_name": "GridBoxModel",
      "state": {
       "children": [
        "IPY_MODEL_87c73f601e464a38b246e5361d257b53",
        "IPY_MODEL_f9e0057ff50648a8a18296b7497759ec",
        "IPY_MODEL_b1d2b8c8310643f7a0fe790a545ddc6f"
       ],
       "layout": "IPY_MODEL_20a9886892ca438db02e9a2b5c894feb"
      }
     },
     "1624ccd45ff346ff97c2a5071574dabf": {
      "model_module": "@jupyter-widgets/controls",
      "model_module_version": "1.4.0",
      "model_name": "DescriptionStyleModel",
      "state": {
       "description_width": "initial"
      }
     },
     "16426f6701c048c88b4b3803ecfc4af2": {
      "model_module": "@jupyter-widgets/controls",
      "model_module_version": "1.4.0",
      "model_name": "ButtonStyleModel",
      "state": {}
     },
     "182a53470fda4989a4104b95b426aff0": {
      "model_module": "@jupyter-widgets/controls",
      "model_module_version": "1.4.0",
      "model_name": "ButtonModel",
      "state": {
       "description": "Calculate",
       "icon": "check",
       "layout": "IPY_MODEL_562be309317e4abfaacbc22e0b422874",
       "style": "IPY_MODEL_113ad0c3b5524bd18115f797e8fd24d7",
       "tooltip": "Calculate deconvolution"
      }
     },
     "1a1d06df770f41699b3f127794d034a2": {
      "model_module": "@jupyter-widgets/base",
      "model_module_version": "1.1.0",
      "model_name": "LayoutModel",
      "state": {}
     },
     "1ee2079de6fa44a9882b09dc35ecb18c": {
      "model_module": "@jupyter-widgets/controls",
      "model_module_version": "1.4.0",
      "model_name": "SelectModel",
      "state": {
       "_options_labels": [
        "Nucleogenic/Cosmogenic/Air",
        "Nucleogenic/Mantle/Air",
        "Cosmogenic/Mantle/Air"
       ],
       "description": "Ternary System:",
       "index": 0,
       "layout": "IPY_MODEL_f2f8868fc38b41c0a2e2bab41dd06d88",
       "rows": 4,
       "style": "IPY_MODEL_c83869939c614fb79b7132c08c48c7ab"
      }
     },
     "1f1c34e6e89a4c58bacd04247e96b17f": {
      "model_module": "@jupyter-widgets/controls",
      "model_module_version": "1.4.0",
      "model_name": "SelectModel",
      "state": {
       "_options_labels": [
        "quartz",
        "pyroxene"
       ],
       "description": "Mineral:",
       "index": 0,
       "layout": "IPY_MODEL_d8d01a8ba7d94c0297a53d8d6e1992a7",
       "rows": 3,
       "style": "IPY_MODEL_068ea7810b3341628bd2e92f72cd3662"
      }
     },
     "20148b19b9ce4d7bb024d7bb500937a9": {
      "model_module": "@jupyter-widgets/controls",
      "model_module_version": "1.4.0",
      "model_name": "FloatTextModel",
      "state": {
       "description": "Neon-20",
       "layout": "IPY_MODEL_c4ecbed0970a45e5892d21c0413cb3ad",
       "step": null,
       "style": "IPY_MODEL_4a762de6d7c4477689a4ea4fbdb0d8ea",
       "value": 9048
      }
     },
     "20a9886892ca438db02e9a2b5c894feb": {
      "model_module": "@jupyter-widgets/base",
      "model_module_version": "1.1.0",
      "model_name": "LayoutModel",
      "state": {
       "grid_template_areas": "\n            \"Ne20 Ne21 Ne22\"\n            ",
       "grid_template_columns": "33% 33% 33%",
       "grid_template_rows": "auto auto auto",
       "width": "100%"
      }
     },
     "21e9b9ffa81a402fb35ca3640d3024ff": {
      "model_module": "@jupyter-widgets/base",
      "model_module_version": "1.1.0",
      "model_name": "LayoutModel",
      "state": {
       "grid_template_areas": "\n            \"Ne20 Ne21 Ne22\"\n            ",
       "grid_template_columns": "33% 33% 33%",
       "grid_template_rows": "auto auto auto",
       "width": "100%"
      }
     },
     "2692d493cfaa48fd9e4acf07dc473bef": {
      "model_module": "@jupyter-widgets/base",
      "model_module_version": "1.1.0",
      "model_name": "LayoutModel",
      "state": {}
     },
     "281eada5a03e4ec190946bcbe52ba631": {
      "model_module": "@jupyter-widgets/base",
      "model_module_version": "1.1.0",
      "model_name": "LayoutModel",
      "state": {
       "grid_template_areas": "\n            \"system mineral\"\n            ",
       "grid_template_columns": "50% 50%",
       "grid_template_rows": "auto auto auto",
       "width": "100%"
      }
     },
     "2de08b5697db4ad294ea33122839fd9a": {
      "model_module": "@jupyter-widgets/controls",
      "model_module_version": "1.4.0",
      "model_name": "DescriptionStyleModel",
      "state": {
       "description_width": "initial"
      }
     },
     "2f01b665ab98422bb0c228a44990771b": {
      "model_module": "@jupyter-widgets/controls",
      "model_module_version": "1.4.0",
      "model_name": "SelectModel",
      "state": {
       "_options_labels": [
        "Nucleogenic/Cosmogenic/Air",
        "Nucleogenic/Mantle/Air",
        "Cosmogenic/Mantle/Air"
       ],
       "description": "Ternary System:",
       "index": 0,
       "layout": "IPY_MODEL_80d799f3d3f344919c02c1052048c879",
       "rows": 4,
       "style": "IPY_MODEL_96e89090175f483db8ffaeade828e369"
      }
     },
     "3296dbf2fb184828a6cde96008ba9b8b": {
      "model_module": "@jupyter-widgets/base",
      "model_module_version": "1.1.0",
      "model_name": "LayoutModel",
      "state": {}
     },
     "35fb17ef45c043859be8f3699e856388": {
      "model_module": "@jupyter-widgets/controls",
      "model_module_version": "1.4.0",
      "model_name": "ButtonModel",
      "state": {
       "description": "Calculate",
       "icon": "check",
       "layout": "IPY_MODEL_2692d493cfaa48fd9e4acf07dc473bef",
       "style": "IPY_MODEL_fd41a91610f846df87847820c445eef3",
       "tooltip": "Calculate deconvolution"
      }
     },
     "37ef8f6e6bdd4bf4b73357cd24f6ef0f": {
      "model_module": "@jupyter-widgets/controls",
      "model_module_version": "1.4.0",
      "model_name": "DescriptionStyleModel",
      "state": {
       "description_width": "initial"
      }
     },
     "3864a1ae076745e7b2338250fd65bf05": {
      "model_module": "@jupyter-widgets/controls",
      "model_module_version": "1.4.0",
      "model_name": "GridBoxModel",
      "state": {
       "children": [
        "IPY_MODEL_2f01b665ab98422bb0c228a44990771b",
        "IPY_MODEL_3e89a3b43c614f9d84ff8092d4f531aa"
       ],
       "layout": "IPY_MODEL_281eada5a03e4ec190946bcbe52ba631"
      }
     },
     "3baa756c89fb44008a01bef3a69d4d3f": {
      "model_module": "@jupyter-widgets/controls",
      "model_module_version": "1.4.0",
      "model_name": "DescriptionStyleModel",
      "state": {
       "description_width": ""
      }
     },
     "3e89a3b43c614f9d84ff8092d4f531aa": {
      "model_module": "@jupyter-widgets/controls",
      "model_module_version": "1.4.0",
      "model_name": "SelectModel",
      "state": {
       "_options_labels": [
        "quartz",
        "pyroxene"
       ],
       "description": "Mineral:",
       "index": 0,
       "layout": "IPY_MODEL_df8e5fdc7de649a7b249e9d6e0632b7f",
       "rows": 3,
       "style": "IPY_MODEL_0b83fb9b901f4e788fc37b789ff9dd31"
      }
     },
     "409010cb09ba40bc9863c5f22cc52539": {
      "model_module": "@jupyter-widgets/controls",
      "model_module_version": "1.4.0",
      "model_name": "ButtonModel",
      "state": {
       "description": "Calculate",
       "icon": "check",
       "layout": "IPY_MODEL_f38150e771bd48d19ddca37b69939fce",
       "style": "IPY_MODEL_941944038e9b4ef3b609dadd9c09f3c5",
       "tooltip": "Calculate deconvolution"
      }
     },
     "426af750495241d9893d322082bd89f4": {
      "model_module": "@jupyter-widgets/controls",
      "model_module_version": "1.4.0",
      "model_name": "ButtonModel",
      "state": {
       "description": "Calculate",
       "icon": "check",
       "layout": "IPY_MODEL_3296dbf2fb184828a6cde96008ba9b8b",
       "style": "IPY_MODEL_16426f6701c048c88b4b3803ecfc4af2",
       "tooltip": "Calculate deconvolution"
      }
     },
     "460f8913a83b482781f535ddf6f3e7d6": {
      "model_module": "@jupyter-widgets/base",
      "model_module_version": "1.1.0",
      "model_name": "LayoutModel",
      "state": {}
     },
     "4a762de6d7c4477689a4ea4fbdb0d8ea": {
      "model_module": "@jupyter-widgets/controls",
      "model_module_version": "1.4.0",
      "model_name": "DescriptionStyleModel",
      "state": {
       "description_width": ""
      }
     },
     "4cfc208abfe54367a35ee0dd980db317": {
      "model_module": "@jupyter-widgets/controls",
      "model_module_version": "1.4.0",
      "model_name": "FloatTextModel",
      "state": {
       "description": "Neon-22",
       "layout": "IPY_MODEL_07b9f4736d2e40be94e14ee0f072d6f7",
       "step": null,
       "style": "IPY_MODEL_4d67136013194e3b9f47dc828284ce49",
       "value": 925
      }
     },
     "4d67136013194e3b9f47dc828284ce49": {
      "model_module": "@jupyter-widgets/controls",
      "model_module_version": "1.4.0",
      "model_name": "DescriptionStyleModel",
      "state": {
       "description_width": ""
      }
     },
     "4f5757d171b0440fa3b9ea62ab6ba91c": {
      "model_module": "@jupyter-widgets/controls",
      "model_module_version": "1.4.0",
      "model_name": "SelectModel",
      "state": {
       "_options_labels": [
        "Nucleogenic/Cosmogenic/Air",
        "Nucleogenic/Mantle/Air",
        "Cosmogenic/Mantle/Air"
       ],
       "description": "Ternary System:",
       "index": 0,
       "layout": "IPY_MODEL_783203a7cca54bed93e385871b4b5b3f",
       "rows": 4,
       "style": "IPY_MODEL_594e4cebc7d642249b896f0ae17f9bff"
      }
     },
     "50c3143050b842309edec7df05a5ec9c": {
      "model_module": "@jupyter-widgets/controls",
      "model_module_version": "1.4.0",
      "model_name": "GridBoxModel",
      "state": {
       "children": [
        "IPY_MODEL_c6048adf8344434e8e9d6f228d3d297f",
        "IPY_MODEL_b70f4dc4e7f1435982ee1e48c2923e3d",
        "IPY_MODEL_8a7ef4bd57174c8fb0361577786fcd5a"
       ],
       "layout": "IPY_MODEL_04318ab41e28494b819e2b1fb993f134"
      }
     },
     "51935ee25ab84264abe794e9bc6243a2": {
      "model_module": "@jupyter-widgets/controls",
      "model_module_version": "1.4.0",
      "model_name": "DescriptionStyleModel",
      "state": {
       "description_width": ""
      }
     },
     "549344f7f40b43afb4f49abdaaf2cb89": {
      "model_module": "@jupyter-widgets/controls",
      "model_module_version": "1.4.0",
      "model_name": "GridBoxModel",
      "state": {
       "children": [
        "IPY_MODEL_babc32b90cdd4514b8c2a878c18ec601",
        "IPY_MODEL_bc27290e8bb6444498da33aa39dedd44"
       ],
       "layout": "IPY_MODEL_f6c66c2dc3174450b72fe923ff4edb1e"
      }
     },
     "562be309317e4abfaacbc22e0b422874": {
      "model_module": "@jupyter-widgets/base",
      "model_module_version": "1.1.0",
      "model_name": "LayoutModel",
      "state": {}
     },
     "5755265171064964bda89d316e0a17a2": {
      "model_module": "@jupyter-widgets/base",
      "model_module_version": "1.1.0",
      "model_name": "LayoutModel",
      "state": {}
     },
     "594e4cebc7d642249b896f0ae17f9bff": {
      "model_module": "@jupyter-widgets/controls",
      "model_module_version": "1.4.0",
      "model_name": "DescriptionStyleModel",
      "state": {
       "description_width": "initial"
      }
     },
     "5b15abc8d4b34619b3a645d4ea26122b": {
      "model_module": "@jupyter-widgets/controls",
      "model_module_version": "1.4.0",
      "model_name": "SelectModel",
      "state": {
       "_options_labels": [
        "quartz",
        "pyroxene"
       ],
       "description": "Mineral:",
       "index": 0,
       "layout": "IPY_MODEL_460f8913a83b482781f535ddf6f3e7d6",
       "rows": 3,
       "style": "IPY_MODEL_c1b70b4dcc604552a0ab740c1f47aa85"
      }
     },
     "5b9f037442b14d9bb0dd256ccb43528b": {
      "model_module": "@jupyter-widgets/controls",
      "model_module_version": "1.4.0",
      "model_name": "DescriptionStyleModel",
      "state": {
       "description_width": ""
      }
     },
     "60c21ff5f91c419fbc1c5f9949029533": {
      "model_module": "@jupyter-widgets/base",
      "model_module_version": "1.1.0",
      "model_name": "LayoutModel",
      "state": {
       "grid_template_areas": "\n            \"Ne20 Ne21 Ne22\"\n            ",
       "grid_template_columns": "33% 33% 33%",
       "grid_template_rows": "auto auto auto",
       "width": "100%"
      }
     },
     "614d3f7bb31f451099142af6d802aa32": {
      "model_module": "@jupyter-widgets/base",
      "model_module_version": "1.1.0",
      "model_name": "LayoutModel",
      "state": {}
     },
     "62f889d747c54c279602b78ac9c97976": {
      "model_module": "@jupyter-widgets/base",
      "model_module_version": "1.1.0",
      "model_name": "LayoutModel",
      "state": {}
     },
     "6af6248dc05542288b36eb27989a05c3": {
      "model_module": "@jupyter-widgets/controls",
      "model_module_version": "1.4.0",
      "model_name": "GridBoxModel",
      "state": {
       "children": [
        "IPY_MODEL_7f7b8b63eae9426192af47179b809499",
        "IPY_MODEL_b8f78ad2b6dc47ce8046c8c23c93e667",
        "IPY_MODEL_b9d9c716e616472ca3560ef3b20a2c0a"
       ],
       "layout": "IPY_MODEL_60c21ff5f91c419fbc1c5f9949029533"
      }
     },
     "6f2525365678447d893fff63c60c4816": {
      "model_module": "@jupyter-widgets/controls",
      "model_module_version": "1.4.0",
      "model_name": "DescriptionStyleModel",
      "state": {
       "description_width": ""
      }
     },
     "76c1d832d98940438d3080555c4cd99d": {
      "model_module": "@jupyter-widgets/base",
      "model_module_version": "1.1.0",
      "model_name": "LayoutModel",
      "state": {
       "grid_template_areas": "\n            \"system mineral\"\n            ",
       "grid_template_columns": "50% 50%",
       "grid_template_rows": "auto auto auto",
       "width": "100%"
      }
     },
     "7723a22abc9a4be68d639d94d9ae1870": {
      "model_module": "@jupyter-widgets/controls",
      "model_module_version": "1.4.0",
      "model_name": "DescriptionStyleModel",
      "state": {
       "description_width": "initial"
      }
     },
     "783203a7cca54bed93e385871b4b5b3f": {
      "model_module": "@jupyter-widgets/base",
      "model_module_version": "1.1.0",
      "model_name": "LayoutModel",
      "state": {}
     },
     "7b7719b91a184be3a66c80893afadd48": {
      "model_module": "@jupyter-widgets/controls",
      "model_module_version": "1.4.0",
      "model_name": "ButtonModel",
      "state": {
       "description": "Calculate",
       "icon": "check",
       "layout": "IPY_MODEL_be8bd2337da047658bf5d4e26d5e87ee",
       "style": "IPY_MODEL_f9ae3ec79ae443d0b4e563f615191ab4",
       "tooltip": "Calculate deconvolution"
      }
     },
     "7f7b8b63eae9426192af47179b809499": {
      "model_module": "@jupyter-widgets/controls",
      "model_module_version": "1.4.0",
      "model_name": "FloatTextModel",
      "state": {
       "description": "Neon-20",
       "layout": "IPY_MODEL_cadea5cf57314132b112c998e540e458",
       "step": null,
       "style": "IPY_MODEL_51935ee25ab84264abe794e9bc6243a2",
       "value": 9048
      }
     },
     "804aac347947439388ebe5e96821df37": {
      "model_module": "@jupyter-widgets/controls",
      "model_module_version": "1.4.0",
      "model_name": "GridBoxModel",
      "state": {
       "children": [
        "IPY_MODEL_99e978dac7a04fd6bfe0b3ad317b8b24",
        "IPY_MODEL_9aa912b7172c44018cfdd4bd24d6ce09",
        "IPY_MODEL_4cfc208abfe54367a35ee0dd980db317"
       ],
       "layout": "IPY_MODEL_f175f2f30bbd4446a214e73224f67ac7"
      }
     },
     "80d799f3d3f344919c02c1052048c879": {
      "model_module": "@jupyter-widgets/base",
      "model_module_version": "1.1.0",
      "model_name": "LayoutModel",
      "state": {}
     },
     "85ab5d00a44a4ea7bf1386e6fbbc7f43": {
      "model_module": "@jupyter-widgets/controls",
      "model_module_version": "1.4.0",
      "model_name": "ButtonStyleModel",
      "state": {}
     },
     "85ce8143b8504ef7b53bbee4e4904acc": {
      "model_module": "@jupyter-widgets/controls",
      "model_module_version": "1.4.0",
      "model_name": "DescriptionStyleModel",
      "state": {
       "description_width": ""
      }
     },
     "87c73f601e464a38b246e5361d257b53": {
      "model_module": "@jupyter-widgets/controls",
      "model_module_version": "1.4.0",
      "model_name": "FloatTextModel",
      "state": {
       "description": "Neon-20",
       "layout": "IPY_MODEL_62f889d747c54c279602b78ac9c97976",
       "step": null,
       "style": "IPY_MODEL_c5d20f7ef36340de95cbb9d8a6387cdd",
       "value": 9048
      }
     },
     "895cc05c15874f97a8570ee93ee1b5d5": {
      "model_module": "@jupyter-widgets/controls",
      "model_module_version": "1.4.0",
      "model_name": "ButtonStyleModel",
      "state": {}
     },
     "8a7ef4bd57174c8fb0361577786fcd5a": {
      "model_module": "@jupyter-widgets/controls",
      "model_module_version": "1.4.0",
      "model_name": "FloatTextModel",
      "state": {
       "description": "Neon-22",
       "layout": "IPY_MODEL_1a1d06df770f41699b3f127794d034a2",
       "step": null,
       "style": "IPY_MODEL_a0f97cce503d404d85cbc8596da0c772",
       "value": 925
      }
     },
     "91e0fc9edc444ae0b89af1cdbce395e5": {
      "model_module": "@jupyter-widgets/base",
      "model_module_version": "1.1.0",
      "model_name": "LayoutModel",
      "state": {}
     },
     "941944038e9b4ef3b609dadd9c09f3c5": {
      "model_module": "@jupyter-widgets/controls",
      "model_module_version": "1.4.0",
      "model_name": "ButtonStyleModel",
      "state": {}
     },
     "96e89090175f483db8ffaeade828e369": {
      "model_module": "@jupyter-widgets/controls",
      "model_module_version": "1.4.0",
      "model_name": "DescriptionStyleModel",
      "state": {
       "description_width": "initial"
      }
     },
     "98b96cf79c1644fa91f556e6ee54b066": {
      "model_module": "@jupyter-widgets/controls",
      "model_module_version": "1.4.0",
      "model_name": "GridBoxModel",
      "state": {
       "children": [
        "IPY_MODEL_4f5757d171b0440fa3b9ea62ab6ba91c",
        "IPY_MODEL_0fa2b0bea54e45d49a71ebcd8fd3a502"
       ],
       "layout": "IPY_MODEL_d54d297594794ca6b0ded7da3e032aa1"
      }
     },
     "98bb94353d95481cb4ef1b87248c4c17": {
      "model_module": "@jupyter-widgets/base",
      "model_module_version": "1.1.0",
      "model_name": "LayoutModel",
      "state": {}
     },
     "99e978dac7a04fd6bfe0b3ad317b8b24": {
      "model_module": "@jupyter-widgets/controls",
      "model_module_version": "1.4.0",
      "model_name": "FloatTextModel",
      "state": {
       "description": "Neon-20",
       "layout": "IPY_MODEL_fee8231987384977a68a24787473d814",
       "step": null,
       "style": "IPY_MODEL_d32f29ff0c5545e6b32d335edfdcc6a6",
       "value": 9048
      }
     },
     "9aa912b7172c44018cfdd4bd24d6ce09": {
      "model_module": "@jupyter-widgets/controls",
      "model_module_version": "1.4.0",
      "model_name": "FloatTextModel",
      "state": {
       "description": "Neon-21",
       "layout": "IPY_MODEL_cef735e5b91245d6936a1c72e29b6370",
       "step": null,
       "style": "IPY_MODEL_6f2525365678447d893fff63c60c4816",
       "value": 54
      }
     },
     "9f9c8d7604be428aa099b91508af1f1a": {
      "model_module": "@jupyter-widgets/controls",
      "model_module_version": "1.4.0",
      "model_name": "GridBoxModel",
      "state": {
       "children": [
        "IPY_MODEL_b0f0911e626340a680fc4a7bb1b562ea",
        "IPY_MODEL_5b15abc8d4b34619b3a645d4ea26122b"
       ],
       "layout": "IPY_MODEL_76c1d832d98940438d3080555c4cd99d"
      }
     },
     "a0f97cce503d404d85cbc8596da0c772": {
      "model_module": "@jupyter-widgets/controls",
      "model_module_version": "1.4.0",
      "model_name": "DescriptionStyleModel",
      "state": {
       "description_width": ""
      }
     },
     "ab0c791931aa4950a00d5ca60c4e9c44": {
      "model_module": "@jupyter-widgets/base",
      "model_module_version": "1.1.0",
      "model_name": "LayoutModel",
      "state": {}
     },
     "b0f0911e626340a680fc4a7bb1b562ea": {
      "model_module": "@jupyter-widgets/controls",
      "model_module_version": "1.4.0",
      "model_name": "SelectModel",
      "state": {
       "_options_labels": [
        "Nucleogenic/Cosmogenic/Air",
        "Nucleogenic/Mantle/Air",
        "Cosmogenic/Mantle/Air"
       ],
       "description": "Ternary System:",
       "index": 0,
       "layout": "IPY_MODEL_98bb94353d95481cb4ef1b87248c4c17",
       "rows": 4,
       "style": "IPY_MODEL_37ef8f6e6bdd4bf4b73357cd24f6ef0f"
      }
     },
     "b1d2b8c8310643f7a0fe790a545ddc6f": {
      "model_module": "@jupyter-widgets/controls",
      "model_module_version": "1.4.0",
      "model_name": "FloatTextModel",
      "state": {
       "description": "Neon-22",
       "layout": "IPY_MODEL_cd7436edd9c54d18af28cc1398dda044",
       "step": null,
       "style": "IPY_MODEL_3baa756c89fb44008a01bef3a69d4d3f",
       "value": 925
      }
     },
     "b355d4503ac64f289c1fce90a1ab0481": {
      "model_module": "@jupyter-widgets/controls",
      "model_module_version": "1.4.0",
      "model_name": "ButtonModel",
      "state": {
       "description": "Calculate",
       "icon": "check",
       "layout": "IPY_MODEL_5755265171064964bda89d316e0a17a2",
       "style": "IPY_MODEL_85ab5d00a44a4ea7bf1386e6fbbc7f43",
       "tooltip": "Calculate deconvolution"
      }
     },
     "b544a5aba26e4ca18736340f0b17e116": {
      "model_module": "@jupyter-widgets/controls",
      "model_module_version": "1.4.0",
      "model_name": "ButtonStyleModel",
      "state": {}
     },
     "b70f4dc4e7f1435982ee1e48c2923e3d": {
      "model_module": "@jupyter-widgets/controls",
      "model_module_version": "1.4.0",
      "model_name": "FloatTextModel",
      "state": {
       "description": "Neon-21",
       "layout": "IPY_MODEL_df339a03b92648a985f5960f761f6d75",
       "step": null,
       "style": "IPY_MODEL_d60137064f104d339daed5a1383e24cd",
       "value": 27
      }
     },
     "b7f20c909fb9411fbedb5c858c7eb0dd": {
      "model_module": "@jupyter-widgets/controls",
      "model_module_version": "1.4.0",
      "model_name": "GridBoxModel",
      "state": {
       "children": [
        "IPY_MODEL_20148b19b9ce4d7bb024d7bb500937a9",
        "IPY_MODEL_fd4b138db4254ee69de2bd246fe37b4f",
        "IPY_MODEL_00f0c530eae446609be738dd7999463d"
       ],
       "layout": "IPY_MODEL_21e9b9ffa81a402fb35ca3640d3024ff"
      }
     },
     "b8f78ad2b6dc47ce8046c8c23c93e667": {
      "model_module": "@jupyter-widgets/controls",
      "model_module_version": "1.4.0",
      "model_name": "FloatTextModel",
      "state": {
       "description": "Neon-21",
       "layout": "IPY_MODEL_ccef5a52db86419db6e2bc4b529e9dbf",
       "step": null,
       "style": "IPY_MODEL_10cb6e3778834c36bb27a1743d48191e",
       "value": 27
      }
     },
     "b9d9c716e616472ca3560ef3b20a2c0a": {
      "model_module": "@jupyter-widgets/controls",
      "model_module_version": "1.4.0",
      "model_name": "FloatTextModel",
      "state": {
       "description": "Neon-22",
       "layout": "IPY_MODEL_f74bdd9fa6a74d42b85e0ef9191486c4",
       "step": null,
       "style": "IPY_MODEL_5b9f037442b14d9bb0dd256ccb43528b",
       "value": 925
      }
     },
     "babc32b90cdd4514b8c2a878c18ec601": {
      "model_module": "@jupyter-widgets/controls",
      "model_module_version": "1.4.0",
      "model_name": "SelectModel",
      "state": {
       "_options_labels": [
        "Nucleogenic/Cosmogenic/Air",
        "Nucleogenic/Mantle/Air",
        "Cosmogenic/Mantle/Air"
       ],
       "description": "Ternary System:",
       "index": 0,
       "layout": "IPY_MODEL_0f34fd0e6a664a45b5ad53b50b4f327c",
       "rows": 4,
       "style": "IPY_MODEL_7723a22abc9a4be68d639d94d9ae1870"
      }
     },
     "bc27290e8bb6444498da33aa39dedd44": {
      "model_module": "@jupyter-widgets/controls",
      "model_module_version": "1.4.0",
      "model_name": "SelectModel",
      "state": {
       "_options_labels": [
        "quartz",
        "pyroxene"
       ],
       "description": "Mineral:",
       "index": 0,
       "layout": "IPY_MODEL_c20efba1e1f34653b0c5ebcca4c81d39",
       "rows": 3,
       "style": "IPY_MODEL_1624ccd45ff346ff97c2a5071574dabf"
      }
     },
     "be8bd2337da047658bf5d4e26d5e87ee": {
      "model_module": "@jupyter-widgets/base",
      "model_module_version": "1.1.0",
      "model_name": "LayoutModel",
      "state": {}
     },
     "c1b70b4dcc604552a0ab740c1f47aa85": {
      "model_module": "@jupyter-widgets/controls",
      "model_module_version": "1.4.0",
      "model_name": "DescriptionStyleModel",
      "state": {
       "description_width": "initial"
      }
     },
     "c20efba1e1f34653b0c5ebcca4c81d39": {
      "model_module": "@jupyter-widgets/base",
      "model_module_version": "1.1.0",
      "model_name": "LayoutModel",
      "state": {}
     },
     "c4ecbed0970a45e5892d21c0413cb3ad": {
      "model_module": "@jupyter-widgets/base",
      "model_module_version": "1.1.0",
      "model_name": "LayoutModel",
      "state": {}
     },
     "c5d20f7ef36340de95cbb9d8a6387cdd": {
      "model_module": "@jupyter-widgets/controls",
      "model_module_version": "1.4.0",
      "model_name": "DescriptionStyleModel",
      "state": {
       "description_width": ""
      }
     },
     "c6048adf8344434e8e9d6f228d3d297f": {
      "model_module": "@jupyter-widgets/controls",
      "model_module_version": "1.4.0",
      "model_name": "FloatTextModel",
      "state": {
       "description": "Neon-20",
       "layout": "IPY_MODEL_ff55432cdbd64d30adedc4fe300c5718",
       "step": null,
       "style": "IPY_MODEL_deb49c2aa1244ae581ec4cd2b617af09",
       "value": 9048
      }
     },
     "c831efb9981542ec8d74d00fa91c941e": {
      "model_module": "@jupyter-widgets/base",
      "model_module_version": "1.1.0",
      "model_name": "LayoutModel",
      "state": {}
     },
     "c83869939c614fb79b7132c08c48c7ab": {
      "model_module": "@jupyter-widgets/controls",
      "model_module_version": "1.4.0",
      "model_name": "DescriptionStyleModel",
      "state": {
       "description_width": "initial"
      }
     },
     "cadea5cf57314132b112c998e540e458": {
      "model_module": "@jupyter-widgets/base",
      "model_module_version": "1.1.0",
      "model_name": "LayoutModel",
      "state": {}
     },
     "ccef5a52db86419db6e2bc4b529e9dbf": {
      "model_module": "@jupyter-widgets/base",
      "model_module_version": "1.1.0",
      "model_name": "LayoutModel",
      "state": {}
     },
     "cd7436edd9c54d18af28cc1398dda044": {
      "model_module": "@jupyter-widgets/base",
      "model_module_version": "1.1.0",
      "model_name": "LayoutModel",
      "state": {}
     },
     "cef735e5b91245d6936a1c72e29b6370": {
      "model_module": "@jupyter-widgets/base",
      "model_module_version": "1.1.0",
      "model_name": "LayoutModel",
      "state": {}
     },
     "d32f29ff0c5545e6b32d335edfdcc6a6": {
      "model_module": "@jupyter-widgets/controls",
      "model_module_version": "1.4.0",
      "model_name": "DescriptionStyleModel",
      "state": {
       "description_width": ""
      }
     },
     "d540d86dfb7c4ccbb130ffb36ee60560": {
      "model_module": "@jupyter-widgets/controls",
      "model_module_version": "1.4.0",
      "model_name": "DescriptionStyleModel",
      "state": {
       "description_width": ""
      }
     },
     "d54d297594794ca6b0ded7da3e032aa1": {
      "model_module": "@jupyter-widgets/base",
      "model_module_version": "1.1.0",
      "model_name": "LayoutModel",
      "state": {
       "grid_template_areas": "\n            \"system mineral\"\n            ",
       "grid_template_columns": "50% 50%",
       "grid_template_rows": "auto auto auto",
       "width": "100%"
      }
     },
     "d60137064f104d339daed5a1383e24cd": {
      "model_module": "@jupyter-widgets/controls",
      "model_module_version": "1.4.0",
      "model_name": "DescriptionStyleModel",
      "state": {
       "description_width": ""
      }
     },
     "d7a1dc381cd14ef196c2c5f2172553a6": {
      "model_module": "@jupyter-widgets/controls",
      "model_module_version": "1.4.0",
      "model_name": "ButtonStyleModel",
      "state": {}
     },
     "d8d01a8ba7d94c0297a53d8d6e1992a7": {
      "model_module": "@jupyter-widgets/base",
      "model_module_version": "1.1.0",
      "model_name": "LayoutModel",
      "state": {}
     },
     "dcc6e5f6c8104664b9fdd1c8fda0901a": {
      "model_module": "@jupyter-widgets/controls",
      "model_module_version": "1.4.0",
      "model_name": "ButtonModel",
      "state": {
       "description": "Calculate",
       "icon": "check",
       "layout": "IPY_MODEL_614d3f7bb31f451099142af6d802aa32",
       "style": "IPY_MODEL_895cc05c15874f97a8570ee93ee1b5d5",
       "tooltip": "Calculate deconvolution"
      }
     },
     "deb49c2aa1244ae581ec4cd2b617af09": {
      "model_module": "@jupyter-widgets/controls",
      "model_module_version": "1.4.0",
      "model_name": "DescriptionStyleModel",
      "state": {
       "description_width": ""
      }
     },
     "df339a03b92648a985f5960f761f6d75": {
      "model_module": "@jupyter-widgets/base",
      "model_module_version": "1.1.0",
      "model_name": "LayoutModel",
      "state": {}
     },
     "df8e5fdc7de649a7b249e9d6e0632b7f": {
      "model_module": "@jupyter-widgets/base",
      "model_module_version": "1.1.0",
      "model_name": "LayoutModel",
      "state": {}
     },
     "e4192e044d414a2dae67c87f7c97e487": {
      "model_module": "@jupyter-widgets/base",
      "model_module_version": "1.1.0",
      "model_name": "LayoutModel",
      "state": {}
     },
     "ea46f3b84a284e4c859d1528b4693da2": {
      "model_module": "@jupyter-widgets/base",
      "model_module_version": "1.1.0",
      "model_name": "LayoutModel",
      "state": {
       "grid_template_areas": "\n            \"system mineral\"\n            ",
       "grid_template_columns": "50% 50%",
       "grid_template_rows": "auto auto auto",
       "width": "100%"
      }
     },
     "ec2f9d3e0fd34dc1a1910eeebce49f39": {
      "model_module": "@jupyter-widgets/controls",
      "model_module_version": "1.4.0",
      "model_name": "ButtonModel",
      "state": {
       "description": "Calculate",
       "icon": "check",
       "layout": "IPY_MODEL_ab0c791931aa4950a00d5ca60c4e9c44",
       "style": "IPY_MODEL_b544a5aba26e4ca18736340f0b17e116",
       "tooltip": "Calculate deconvolution"
      }
     },
     "f175f2f30bbd4446a214e73224f67ac7": {
      "model_module": "@jupyter-widgets/base",
      "model_module_version": "1.1.0",
      "model_name": "LayoutModel",
      "state": {
       "grid_template_areas": "\n            \"Ne20 Ne21 Ne22\"\n            ",
       "grid_template_columns": "33% 33% 33%",
       "grid_template_rows": "auto auto auto",
       "width": "100%"
      }
     },
     "f2f8868fc38b41c0a2e2bab41dd06d88": {
      "model_module": "@jupyter-widgets/base",
      "model_module_version": "1.1.0",
      "model_name": "LayoutModel",
      "state": {}
     },
     "f38150e771bd48d19ddca37b69939fce": {
      "model_module": "@jupyter-widgets/base",
      "model_module_version": "1.1.0",
      "model_name": "LayoutModel",
      "state": {}
     },
     "f3e244a38bc24fe6a18ef540640f3452": {
      "model_module": "@jupyter-widgets/base",
      "model_module_version": "1.1.0",
      "model_name": "LayoutModel",
      "state": {}
     },
     "f6c320d07d2b4791a2549ff45e77c197": {
      "model_module": "@jupyter-widgets/controls",
      "model_module_version": "1.4.0",
      "model_name": "ButtonModel",
      "state": {
       "description": "Calculate",
       "icon": "check",
       "layout": "IPY_MODEL_118ff23d37ba45448cebde1baeb50032",
       "style": "IPY_MODEL_d7a1dc381cd14ef196c2c5f2172553a6",
       "tooltip": "Calculate deconvolution"
      }
     },
     "f6c66c2dc3174450b72fe923ff4edb1e": {
      "model_module": "@jupyter-widgets/base",
      "model_module_version": "1.1.0",
      "model_name": "LayoutModel",
      "state": {
       "grid_template_areas": "\n            \"system mineral\"\n            ",
       "grid_template_columns": "50% 50%",
       "grid_template_rows": "auto auto auto",
       "width": "100%"
      }
     },
     "f74bdd9fa6a74d42b85e0ef9191486c4": {
      "model_module": "@jupyter-widgets/base",
      "model_module_version": "1.1.0",
      "model_name": "LayoutModel",
      "state": {}
     },
     "f9ae3ec79ae443d0b4e563f615191ab4": {
      "model_module": "@jupyter-widgets/controls",
      "model_module_version": "1.4.0",
      "model_name": "ButtonStyleModel",
      "state": {}
     },
     "f9e0057ff50648a8a18296b7497759ec": {
      "model_module": "@jupyter-widgets/controls",
      "model_module_version": "1.4.0",
      "model_name": "FloatTextModel",
      "state": {
       "description": "Neon-21",
       "layout": "IPY_MODEL_f3e244a38bc24fe6a18ef540640f3452",
       "step": null,
       "style": "IPY_MODEL_85ce8143b8504ef7b53bbee4e4904acc",
       "value": 27
      }
     },
     "fa96e3ac6e1c4135a9f7843c3830b6e5": {
      "model_module": "@jupyter-widgets/base",
      "model_module_version": "1.1.0",
      "model_name": "LayoutModel",
      "state": {}
     },
     "fd41a91610f846df87847820c445eef3": {
      "model_module": "@jupyter-widgets/controls",
      "model_module_version": "1.4.0",
      "model_name": "ButtonStyleModel",
      "state": {}
     },
     "fd4b138db4254ee69de2bd246fe37b4f": {
      "model_module": "@jupyter-widgets/controls",
      "model_module_version": "1.4.0",
      "model_name": "FloatTextModel",
      "state": {
       "description": "Neon-21",
       "layout": "IPY_MODEL_91e0fc9edc444ae0b89af1cdbce395e5",
       "step": null,
       "style": "IPY_MODEL_d540d86dfb7c4ccbb130ffb36ee60560",
       "value": 27
      }
     },
     "fdf480b7661248d89dfd46e7572a012f": {
      "model_module": "@jupyter-widgets/controls",
      "model_module_version": "1.4.0",
      "model_name": "ButtonModel",
      "state": {
       "description": "Calculate",
       "icon": "check",
       "layout": "IPY_MODEL_e4192e044d414a2dae67c87f7c97e487",
       "style": "IPY_MODEL_05e329a369d8458c99e028bb8c5d4802",
       "tooltip": "Calculate deconvolution"
      }
     },
     "fee8231987384977a68a24787473d814": {
      "model_module": "@jupyter-widgets/base",
      "model_module_version": "1.1.0",
      "model_name": "LayoutModel",
      "state": {}
     },
     "ff55432cdbd64d30adedc4fe300c5718": {
      "model_module": "@jupyter-widgets/base",
      "model_module_version": "1.1.0",
      "model_name": "LayoutModel",
      "state": {}
     },
     "ffd6e8c5d70843f9b93a36fda6fa9efa": {
      "model_module": "@jupyter-widgets/controls",
      "model_module_version": "1.4.0",
      "model_name": "DescriptionStyleModel",
      "state": {
       "description_width": ""
      }
     }
    },
    "version_major": 2,
    "version_minor": 0
   }
  }
 },
 "nbformat": 4,
 "nbformat_minor": 2
}
